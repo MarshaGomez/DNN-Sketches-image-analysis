{
  "nbformat": 4,
  "nbformat_minor": 0,
  "metadata": {
    "colab": {
      "name": "Analysis_By_Class.ipynb",
      "provenance": [],
      "collapsed_sections": [],
      "include_colab_link": true
    },
    "kernelspec": {
      "name": "python3",
      "display_name": "Python 3"
    },
    "accelerator": "GPU"
  },
  "cells": [
    {
      "cell_type": "markdown",
      "metadata": {
        "id": "view-in-github",
        "colab_type": "text"
      },
      "source": [
        "<a href=\"https://colab.research.google.com/github/MarshaGomez/DNN-Sketches-image-analysis/blob/main/Code/Analysis_By_Class.ipynb\" target=\"_parent\"><img src=\"https://colab.research.google.com/assets/colab-badge.svg\" alt=\"Open In Colab\"/></a>"
      ]
    },
    {
      "cell_type": "code",
      "metadata": {
        "colab": {
          "base_uri": "https://localhost:8080/"
        },
        "id": "WIghosiCuCnq",
        "outputId": "40c9c3f9-afcd-4ced-e2ce-a7cf1883f803"
      },
      "source": [
        "from google.colab import drive\r\n",
        "drive.mount('/content/gdrive', force_remount=True)"
      ],
      "execution_count": null,
      "outputs": [
        {
          "output_type": "stream",
          "text": [
            "Mounted at /content/gdrive\n"
          ],
          "name": "stdout"
        }
      ]
    },
    {
      "cell_type": "code",
      "metadata": {
        "id": "FZjR6fktuwRB"
      },
      "source": [
        "import numpy as np\r\n",
        "import time\r\n",
        "import itertools\r\n",
        "import os, shutil\r\n",
        "import tensorflow as tf\r\n",
        "import matplotlib.pyplot as plt\r\n",
        "\r\n",
        "from random import random\r\n",
        "from ipywidgets import Image\r\n",
        "from numpy.linalg import norm\r\n",
        "from IPython.display import display\r\n",
        "from keras.models import Model\r\n",
        "from sklearn.metrics import classification_report\r\n",
        "from keras.callbacks import EarlyStopping, ModelCheckpoint\r\n",
        "\r\n",
        "# tensorflow version 2.4.0\r\n",
        "from tensorflow import keras\r\n",
        "from tensorflow.keras import layers, models\r\n",
        "from tensorflow.keras.optimizers import SGD, Adam\r\n",
        "from tensorflow.keras.preprocessing import image_dataset_from_directory\r\n",
        "from tensorflow.keras.preprocessing.image import ImageDataGenerator\r\n",
        "from tensorflow.keras.preprocessing import image\r\n",
        "from tensorflow.keras.applications.inception_v3 import preprocess_input, InceptionV3"
      ],
      "execution_count": null,
      "outputs": []
    },
    {
      "cell_type": "code",
      "metadata": {
        "colab": {
          "base_uri": "https://localhost:8080/"
        },
        "id": "Ra5BTGhRuzL5",
        "outputId": "7409073c-0116-4fe9-fb8f-ab72bfb1120a"
      },
      "source": [
        "zip_path = '/content/gdrive/Shareddrives/COMPUTER_VISION/MIM_zipped.zip'\r\n",
        "!cp \"{zip_path}\" .\r\n",
        "!unzip -q MIM_zipped.zip\r\n",
        "!rm MIM_zipped.zip"
      ],
      "execution_count": null,
      "outputs": [
        {
          "output_type": "stream",
          "text": [
            "replace content/gdrive/Shareddrives/COMPUTER_VISION/MIRCV/mirflickr/data/txt/sunset.txt? [y]es, [n]o, [A]ll, [N]one, [r]ename: N\n",
            "\n"
          ],
          "name": "stdout"
        }
      ]
    },
    {
      "cell_type": "code",
      "metadata": {
        "id": "pcRj0ZAIvH5Z"
      },
      "source": [
        "test_images_per_class = 20 # le immagini sono al massimo 80\r\n",
        "train_images_per_class = 80 - test_images_per_class"
      ],
      "execution_count": null,
      "outputs": []
    },
    {
      "cell_type": "code",
      "metadata": {
        "id": "JJG2iWZSu1CQ",
        "colab": {
          "base_uri": "https://localhost:8080/",
          "height": 412
        },
        "outputId": "897a8376-ab79-44de-d13f-dbb01e386917"
      },
      "source": [
        "BASE_DIR = \"/content/content/gdrive/Shareddrives/COMPUTER_VISION/MIRCV\"\r\n",
        "SKETCHES_DIR = os.path.join(BASE_DIR, \"sketches\")\r\n",
        "MIRFLICKR_DIR = os.path.join(BASE_DIR, \"mirflickr/mirflickr25k\")\r\n",
        "\r\n",
        "print(os.listdir(os.path.join(SKETCHES_DIR, \"png\")))\r\n",
        "def copytree(src, dst, symlinks=False, ignore=None):\r\n",
        "    for item in os.listdir(src):\r\n",
        "        s = os.path.join(src, item)\r\n",
        "        d = os.path.join(dst, item)\r\n",
        "        if os.path.isdir(s):\r\n",
        "            shutil.copytree(s, d, symlinks, ignore)\r\n",
        "        else:\r\n",
        "            shutil.copy2(s, d)\r\n",
        "      \r\n",
        "copytree(f'{SKETCHES_DIR}/png', f'{SKETCHES_DIR}/all')\r\n",
        "\r\n",
        "try:\r\n",
        "  os.rename(f'{SKETCHES_DIR}/png', f'{SKETCHES_DIR}/train')\r\n",
        "except:\r\n",
        "  print('already renamed')\r\n",
        "\r\n",
        "if not os.path.exists(f'{SKETCHES_DIR}/test'):\r\n",
        "  os.mkdir(f'{SKETCHES_DIR}/test')\r\n",
        "  for class_folder in os.listdir(f'{SKETCHES_DIR}/train'):\r\n",
        "    if os.path.isdir(f'{SKETCHES_DIR}/train/{class_folder}'):\r\n",
        "      images = os.listdir(f'{SKETCHES_DIR}/train/{class_folder}')\r\n",
        "      os.mkdir(f'{SKETCHES_DIR}/test/{class_folder}')\r\n",
        "      for i in range(test_images_per_class):\r\n",
        "        os.rename(f'{SKETCHES_DIR}/train/{class_folder}/{images[i]}', f'{SKETCHES_DIR}/test/{class_folder}/{images[i]}')"
      ],
      "execution_count": null,
      "outputs": [
        {
          "output_type": "stream",
          "text": [
            "['rooster', 'head-phones', 'door handle', 'flashlight', 'panda', 'bottle opener', 'revolver', 'binoculars', 'piano', 'lightbulb', 'saxophone', 'snowboard', 'giraffe', 'filelist.txt', 'scissors', 'rabbit', 'pear', 'ship', 'helicopter', 'van', 'barn', 'tiger', 'dragon', 'ice-cream-cone', 'wheel', 'dolphin', 'cell phone', 'tree', 'squirrel', 'speed-boat', 'wheelbarrow', 'screwdriver', 'rifle', 'arm', 'bee', 'house', 'penguin', 'blimp', 'pretzel', 'motorbike', 'mosquito', 'hourglass', 'moon', 'spoon', 'pig', 'pizza', 'rollerblades', 'ant', 'cabinet', 'car (sedan)', 'book', 'bed', 'sailboat', 'candle', 'tooth', 'train', 'strawberry', 'palm tree', 'streetlight', 'present', 'angel', 'envelope', 'table', 'eye', 'bathtub', 'lion', 'fan', 'crocodile', 'castle', 'keyboard', 'crown', 'flying bird', 'human-skeleton', 'octopus', 'laptop', 'nose', 'parrot', 'umbrella', 'bookshelf', 'sponge bob', 'satellite', 'couch', 'bicycle', 'stapler', 'kangaroo', 'door', 'ear', 'mug', 'hot-dog', 'suv', 'fish', 'key', 'pen', 'sun', 'ipod', 'canoe', 'leaf', 'person sitting', 't-shirt', 'toilet', 'trumpet', 'hedgehog', 'bush', 'pigeon', 'person walking', 'banana', 'frog', 'violin', 'computer monitor', 'alarm clock', 'lighter', 'skyscraper', 'zebra', 'grapes', 'beer-mug', 'tablelamp', 'pickup truck', 'basket', 'shovel', 'sword', 'truck', 'brain', 'dog', 'wrist-watch', 'backpack', 'shark', 'calculator', 'crab', 'hand', 'armchair', 'mouth', 'hamburger', 'eyeglasses', 'carrot', 'cup', 'harp', 'power outlet', 'guitar', 'race car', 'syringe', 'bench', 'butterfly', 'megaphone', 'floor lamp', 'bear (animal)', 'toothbrush', 'windmill', 'loudspeaker', 'apple', 'microscope', 'mouse (animal)', 'radio', 'hammer', 'pipe (for smoking)', 'parking meter', 'bell', 'parachute', 'mushroom', 'bridge', 'helmet', 'space shuttle', 'crane (machine)', 'cat', 'fork', 'vase', 'telephone', 'seagull', 'pumpkin', 'pineapple', 'feather', 'ladder', 'owl', 'spider', 'bowl', 'cannon', 'chandelier', 'hat', 'computer-mouse', 'bread', 'elephant', 'teddy-bear', 'scorpion', 'flying saucer', 'flower with stem', 'microphone', 'axe', 'skateboard', 'tennis-racket', 'suitcase', 'baseball bat', 'fire hydrant', 'donut', 'santa claus', 'cow', 'teacup', 'submarine', 'trousers', 'grenade', 'shoe', 'rainbow', 'tractor', 'cloud', 'wineglass', 'paper clip', 'horse', 'cigarette', 'ashtray', 'church', 'traffic light', 'frying-pan', 'bulldozer', 'sea turtle', 'snake', 'teapot', 'skull', 'tent', 'monkey', 'cactus', 'potted plant', 'tv', 'head', 'foot', 'face', 'camel', 'purse', 'socks', 'mermaid', 'chair', 'tire', 'mailbox', 'airplane', 'camera', 'wine-bottle', 'swan', 'hot air balloon', 'comb', 'boomerang', 'snail', 'bus', 'snowman', 'duck', 'standing bird', 'diamond', 'trombone', 'sheep', 'lobster', 'satellite dish', 'walkie talkie', 'cake', 'knife', 'tomato']\n"
          ],
          "name": "stdout"
        },
        {
          "output_type": "error",
          "ename": "FileExistsError",
          "evalue": "ignored",
          "traceback": [
            "\u001b[0;31m---------------------------------------------------------------------------\u001b[0m",
            "\u001b[0;31mFileExistsError\u001b[0m                           Traceback (most recent call last)",
            "\u001b[0;32m<ipython-input-64-3672df1b5fc3>\u001b[0m in \u001b[0;36m<module>\u001b[0;34m()\u001b[0m\n\u001b[1;32m     13\u001b[0m             \u001b[0mshutil\u001b[0m\u001b[0;34m.\u001b[0m\u001b[0mcopy2\u001b[0m\u001b[0;34m(\u001b[0m\u001b[0ms\u001b[0m\u001b[0;34m,\u001b[0m \u001b[0md\u001b[0m\u001b[0;34m)\u001b[0m\u001b[0;34m\u001b[0m\u001b[0;34m\u001b[0m\u001b[0m\n\u001b[1;32m     14\u001b[0m \u001b[0;34m\u001b[0m\u001b[0m\n\u001b[0;32m---> 15\u001b[0;31m \u001b[0mcopytree\u001b[0m\u001b[0;34m(\u001b[0m\u001b[0;34mf'{SKETCHES_DIR}/png'\u001b[0m\u001b[0;34m,\u001b[0m \u001b[0;34mf'{SKETCHES_DIR}/all'\u001b[0m\u001b[0;34m)\u001b[0m\u001b[0;34m\u001b[0m\u001b[0;34m\u001b[0m\u001b[0m\n\u001b[0m\u001b[1;32m     16\u001b[0m \u001b[0;34m\u001b[0m\u001b[0m\n\u001b[1;32m     17\u001b[0m \u001b[0;32mtry\u001b[0m\u001b[0;34m:\u001b[0m\u001b[0;34m\u001b[0m\u001b[0;34m\u001b[0m\u001b[0m\n",
            "\u001b[0;32m<ipython-input-64-3672df1b5fc3>\u001b[0m in \u001b[0;36mcopytree\u001b[0;34m(src, dst, symlinks, ignore)\u001b[0m\n\u001b[1;32m      9\u001b[0m         \u001b[0md\u001b[0m \u001b[0;34m=\u001b[0m \u001b[0mos\u001b[0m\u001b[0;34m.\u001b[0m\u001b[0mpath\u001b[0m\u001b[0;34m.\u001b[0m\u001b[0mjoin\u001b[0m\u001b[0;34m(\u001b[0m\u001b[0mdst\u001b[0m\u001b[0;34m,\u001b[0m \u001b[0mitem\u001b[0m\u001b[0;34m)\u001b[0m\u001b[0;34m\u001b[0m\u001b[0;34m\u001b[0m\u001b[0m\n\u001b[1;32m     10\u001b[0m         \u001b[0;32mif\u001b[0m \u001b[0mos\u001b[0m\u001b[0;34m.\u001b[0m\u001b[0mpath\u001b[0m\u001b[0;34m.\u001b[0m\u001b[0misdir\u001b[0m\u001b[0;34m(\u001b[0m\u001b[0ms\u001b[0m\u001b[0;34m)\u001b[0m\u001b[0;34m:\u001b[0m\u001b[0;34m\u001b[0m\u001b[0;34m\u001b[0m\u001b[0m\n\u001b[0;32m---> 11\u001b[0;31m             \u001b[0mshutil\u001b[0m\u001b[0;34m.\u001b[0m\u001b[0mcopytree\u001b[0m\u001b[0;34m(\u001b[0m\u001b[0ms\u001b[0m\u001b[0;34m,\u001b[0m \u001b[0md\u001b[0m\u001b[0;34m,\u001b[0m \u001b[0msymlinks\u001b[0m\u001b[0;34m,\u001b[0m \u001b[0mignore\u001b[0m\u001b[0;34m)\u001b[0m\u001b[0;34m\u001b[0m\u001b[0;34m\u001b[0m\u001b[0m\n\u001b[0m\u001b[1;32m     12\u001b[0m         \u001b[0;32melse\u001b[0m\u001b[0;34m:\u001b[0m\u001b[0;34m\u001b[0m\u001b[0;34m\u001b[0m\u001b[0m\n\u001b[1;32m     13\u001b[0m             \u001b[0mshutil\u001b[0m\u001b[0;34m.\u001b[0m\u001b[0mcopy2\u001b[0m\u001b[0;34m(\u001b[0m\u001b[0ms\u001b[0m\u001b[0;34m,\u001b[0m \u001b[0md\u001b[0m\u001b[0;34m)\u001b[0m\u001b[0;34m\u001b[0m\u001b[0;34m\u001b[0m\u001b[0m\n",
            "\u001b[0;32m/usr/lib/python3.6/shutil.py\u001b[0m in \u001b[0;36mcopytree\u001b[0;34m(src, dst, symlinks, ignore, copy_function, ignore_dangling_symlinks)\u001b[0m\n\u001b[1;32m    319\u001b[0m         \u001b[0mignored_names\u001b[0m \u001b[0;34m=\u001b[0m \u001b[0mset\u001b[0m\u001b[0;34m(\u001b[0m\u001b[0;34m)\u001b[0m\u001b[0;34m\u001b[0m\u001b[0;34m\u001b[0m\u001b[0m\n\u001b[1;32m    320\u001b[0m \u001b[0;34m\u001b[0m\u001b[0m\n\u001b[0;32m--> 321\u001b[0;31m     \u001b[0mos\u001b[0m\u001b[0;34m.\u001b[0m\u001b[0mmakedirs\u001b[0m\u001b[0;34m(\u001b[0m\u001b[0mdst\u001b[0m\u001b[0;34m)\u001b[0m\u001b[0;34m\u001b[0m\u001b[0;34m\u001b[0m\u001b[0m\n\u001b[0m\u001b[1;32m    322\u001b[0m     \u001b[0merrors\u001b[0m \u001b[0;34m=\u001b[0m \u001b[0;34m[\u001b[0m\u001b[0;34m]\u001b[0m\u001b[0;34m\u001b[0m\u001b[0;34m\u001b[0m\u001b[0m\n\u001b[1;32m    323\u001b[0m     \u001b[0;32mfor\u001b[0m \u001b[0mname\u001b[0m \u001b[0;32min\u001b[0m \u001b[0mnames\u001b[0m\u001b[0;34m:\u001b[0m\u001b[0;34m\u001b[0m\u001b[0;34m\u001b[0m\u001b[0m\n",
            "\u001b[0;32m/usr/lib/python3.6/os.py\u001b[0m in \u001b[0;36mmakedirs\u001b[0;34m(name, mode, exist_ok)\u001b[0m\n\u001b[1;32m    218\u001b[0m             \u001b[0;32mreturn\u001b[0m\u001b[0;34m\u001b[0m\u001b[0;34m\u001b[0m\u001b[0m\n\u001b[1;32m    219\u001b[0m     \u001b[0;32mtry\u001b[0m\u001b[0;34m:\u001b[0m\u001b[0;34m\u001b[0m\u001b[0;34m\u001b[0m\u001b[0m\n\u001b[0;32m--> 220\u001b[0;31m         \u001b[0mmkdir\u001b[0m\u001b[0;34m(\u001b[0m\u001b[0mname\u001b[0m\u001b[0;34m,\u001b[0m \u001b[0mmode\u001b[0m\u001b[0;34m)\u001b[0m\u001b[0;34m\u001b[0m\u001b[0;34m\u001b[0m\u001b[0m\n\u001b[0m\u001b[1;32m    221\u001b[0m     \u001b[0;32mexcept\u001b[0m \u001b[0mOSError\u001b[0m\u001b[0;34m:\u001b[0m\u001b[0;34m\u001b[0m\u001b[0;34m\u001b[0m\u001b[0m\n\u001b[1;32m    222\u001b[0m         \u001b[0;31m# Cannot rely on checking for EEXIST, since the operating system\u001b[0m\u001b[0;34m\u001b[0m\u001b[0;34m\u001b[0m\u001b[0;34m\u001b[0m\u001b[0m\n",
            "\u001b[0;31mFileExistsError\u001b[0m: [Errno 17] File exists: '/content/content/gdrive/Shareddrives/COMPUTER_VISION/MIRCV/sketches/all/rooster'"
          ]
        }
      ]
    },
    {
      "cell_type": "code",
      "metadata": {
        "id": "3_UtKRkUxO_p"
      },
      "source": [
        "class NO_INDEX:\r\n",
        "  def __init__(self):\r\n",
        "    self.features = None\r\n",
        "    self.ids = None\r\n",
        "    self.labels = None\r\n",
        "\r\n",
        "  def insert(self, features, ids, labels):\r\n",
        "    assert features.shape[0] == len(ids), \"mismatch between ids length and features\"\r\n",
        "    assert len(labels) == len(ids), \"mismatch between ids length and labels\"\r\n",
        "    self.features = features\r\n",
        "    self.ids = ids\r\n",
        "    self.labels = labels\r\n",
        "  \r\n",
        "  def query(self, features, top_k, mode = 'euclidean', return_cost = False):\r\n",
        "    assert mode in ['similarity', 'euclidean'], \"mode must be similarity or euclidean\"\r\n",
        "    top_k += 1\r\n",
        "    if mode == 'euclidean':\r\n",
        "      dist = norm(self.features - np.array(features), axis=1)\r\n",
        "      idx_partitioned = np.argpartition(dist, top_k - 1 if dist.shape[0] - 1 > top_k - 1 else dist.shape[0] - 1)\r\n",
        "      k = {}\r\n",
        "      # qua è più comodo avere array 1- dimensionali\r\n",
        "      k['ids'] = self.ids[idx_partitioned].flatten()[:top_k - 1 if dist.shape[0] - 1 > top_k - 1 else dist.shape[0]]\r\n",
        "      k['labels'] = self.labels[idx_partitioned].flatten()[:top_k - 1 if dist.shape[0] - 1 > top_k - 1 else dist.shape[0]]\r\n",
        "      k['distances'] = dist[idx_partitioned][:top_k - 1 if dist.shape[0] - 1 > top_k - 1 else dist.shape[0]]\r\n",
        "      \r\n",
        "      idx_sorted = np.argsort(k['distances'])\r\n",
        "      idx_sorted = idx_sorted\r\n",
        "      k['distances'] = k['distances'][idx_sorted]\r\n",
        "      k['ids'] = k['ids'][idx_sorted]\r\n",
        "      k['labels'] = k['labels'][idx_sorted]\r\n",
        "      if return_cost:\r\n",
        "        return (k, dist.size)\r\n",
        "      return k\r\n",
        "    sim = np.sum(self.features * np.array(features), axis=1) / (norm(self.features, axis=1) * norm(np.array([features]), axis=1))\r\n",
        "    idx_partitioned = np.argpartition(sim, -(top_k - 1) if sim.shape[0] - 1 > top_k - 1 else sim.shape[0] - 1)\r\n",
        "    k = {}\r\n",
        "    # qua è più comodo avere array 1- dimensionali\r\n",
        "    if sim.shape[0] - 1 > top_k - 1:  \r\n",
        "      idx_partitioned = idx_partitioned[-(top_k - 1):]\r\n",
        "\r\n",
        "    k['ids'] = self.ids[idx_partitioned].flatten()\r\n",
        "    k['labels'] = self.labels[idx_partitioned].flatten()\r\n",
        "    k['similarities'] = sim[idx_partitioned]\r\n",
        "    idx_sorted = np.argsort(k['similarities'])[::-1]\r\n",
        "    idx_sorted = idx_sorted\r\n",
        "    k['similarities'] = k['similarities'][idx_sorted]\r\n",
        "    k['ids'] = k['ids'][idx_sorted]\r\n",
        "    k['labels'] = k['labels'][idx_sorted]\r\n",
        "    if return_cost:\r\n",
        "      return (k, sim.size)\r\n",
        "    return k\r\n",
        "    "
      ],
      "execution_count": null,
      "outputs": []
    },
    {
      "cell_type": "code",
      "metadata": {
        "id": "rWfTQFpOyxcw"
      },
      "source": [
        "IMG_HEIGHT = 299\r\n",
        "IMG_WIDTH = 299\r\n",
        "INPUT_SHAPE = (IMG_WIDTH, IMG_HEIGHT, 3)\r\n",
        "BATCH_SIZE = 64"
      ],
      "execution_count": null,
      "outputs": []
    },
    {
      "cell_type": "code",
      "metadata": {
        "colab": {
          "base_uri": "https://localhost:8080/"
        },
        "id": "3dy-sylJyyQY",
        "outputId": "f12bdc5e-41dc-4456-86bd-0947c42e742d"
      },
      "source": [
        "#yields batches of images from the subdirectories \r\n",
        "#found in the sketches directory [class_0 ... class_250]\r\n",
        "#together with class labels.\r\n",
        "\r\n",
        "#images normalization \r\n",
        "sketches_datagen = ImageDataGenerator(preprocessing_function=preprocess_input)\r\n",
        "mirflickr_datagen = ImageDataGenerator(preprocessing_function=preprocess_input)\r\n",
        "\r\n",
        "sketches_generator = sketches_datagen.flow_from_directory(\r\n",
        "        # This is the target directory\r\n",
        "        SKETCHES_DIR + '/all',\r\n",
        "        shuffle=False,\r\n",
        "        target_size=(IMG_HEIGHT, IMG_WIDTH),\r\n",
        "        batch_size=BATCH_SIZE)\r\n",
        "\r\n",
        "mirflickr_generator = mirflickr_datagen.flow_from_directory(\r\n",
        "        # This is the target directory\r\n",
        "        MIRFLICKR_DIR,\r\n",
        "        shuffle=False,\r\n",
        "        target_size=(IMG_HEIGHT, IMG_WIDTH),\r\n",
        "        batch_size=BATCH_SIZE)"
      ],
      "execution_count": null,
      "outputs": [
        {
          "output_type": "stream",
          "text": [
            "Found 20000 images belonging to 250 classes.\n",
            "Found 25000 images belonging to 1 classes.\n"
          ],
          "name": "stdout"
        }
      ]
    },
    {
      "cell_type": "code",
      "metadata": {
        "id": "jrcZWxiZxmTB"
      },
      "source": [
        "#Extracting features using the pretrained convolutional base \r\n",
        "\r\n",
        "def extract_features(extractor, generator, sample_count, dim=2048):\r\n",
        "  features = np.zeros((sample_count, dim)) #extractor output shape \r\n",
        "  i = 0\r\n",
        "  for inputs_batch, labels_batch in generator:\r\n",
        "    start = time.time()\r\n",
        "    features_batch = extractor.predict(inputs_batch)\r\n",
        "    start = time.time()\r\n",
        "    if (i + 1) * BATCH_SIZE > sample_count:\r\n",
        "      features[i * BATCH_SIZE : sample_count , :] = features_batch\r\n",
        "      assert np.array_equal(np.argmax(labels_batch, axis = 1), generator.labels[i * BATCH_SIZE : sample_count]), 'LABELS NOT CORRESPONDING REINIZIALIZE GENERATOR'\r\n",
        "    else:\r\n",
        "      features[i * BATCH_SIZE : (i + 1) * BATCH_SIZE, : ] = features_batch\r\n",
        "      assert np.array_equal(np.argmax(labels_batch, axis = 1), generator.labels[i * BATCH_SIZE : (i + 1) * BATCH_SIZE]), 'LABELS NOT CORRESPONDING REINIZIALIZE GENERATOR'\r\n",
        "    i += 1\r\n",
        "    if i * BATCH_SIZE >= sample_count:\r\n",
        "      break\r\n",
        "  \r\n",
        "  return features\r\n"
      ],
      "execution_count": null,
      "outputs": []
    },
    {
      "cell_type": "code",
      "metadata": {
        "id": "uPO5MglsyA24"
      },
      "source": [
        "MODEL_PATH = \"/content/gdrive/Shareddrives/COMPUTER_VISION/models\""
      ],
      "execution_count": null,
      "outputs": []
    },
    {
      "cell_type": "code",
      "metadata": {
        "id": "LVywLisWyHQ5"
      },
      "source": [
        "# BEST MODEL -> inception_finetuning_classification_3_last_one_more_train_all_parameters_more_train.h5\r\n",
        "loaded = models.load_model(os.path.join(MODEL_PATH, 'inception_finetuning_classification_3_last_one_more_train_all_parameters_more_train.h5'))\r\n",
        "#loaded.summary()\r\n",
        "\r\n",
        "finetuned_extactor = Model(loaded.input, loaded.layers[-2].output)\r\n",
        "finetuned_extactor.summary()"
      ],
      "execution_count": null,
      "outputs": []
    },
    {
      "cell_type": "code",
      "metadata": {
        "id": "_w3gtQ0yyecw"
      },
      "source": [
        "sketches_features_finetuned = extract_features(finetuned_extactor, sketches_generator, 20000)\r\n",
        "mirflickr_features_finetuned = extract_features(finetuned_extactor, mirflickr_generator, 25000)"
      ],
      "execution_count": null,
      "outputs": []
    },
    {
      "cell_type": "code",
      "metadata": {
        "id": "sGUBolQKvbKQ"
      },
      "source": [
        "def average_precision(requested_label, result_labels, n_ground_truth = 80):\r\n",
        "  \"\"\"\r\n",
        "  label ricercata, label ottenute, il numero di oggetti che ci sono quella label\r\n",
        "  \"\"\"\r\n",
        "  correct_array = (requested_label == result_labels).astype(int)\r\n",
        "  precision_array = [np.mean(correct_array[:k]) for k in range(1, correct_array.shape[0] + 1)]\r\n",
        "  # print(precision_array * correct_array) # mi rimangono solo quelli a 1\r\n",
        "  return np.sum(precision_array * correct_array) / n_ground_truth\r\n"
      ],
      "execution_count": null,
      "outputs": []
    },
    {
      "cell_type": "code",
      "metadata": {
        "id": "yAzY7G8LvgGx"
      },
      "source": [
        "def mAP(index, features, n_queries = 80, n_labels = 250, img_per_labels = 80, mode = 'euclidean'):\r\n",
        "  \"\"\" \r\n",
        "  calcolo la mAP su 80 query per ogni class label \r\n",
        "  per poi calcolare mean(mAP) e std(mAP) per ogni classe \r\n",
        "  \"\"\"\r\n",
        "  counter = 0\r\n",
        "\r\n",
        "  sum = 0\r\n",
        "  classes_AP = []\r\n",
        "  for label in range(n_labels): \r\n",
        "    counter += 1\r\n",
        "    AP_values = []\r\n",
        "    for i in range(img_per_labels):\r\n",
        "      image_idx = label*n_queries + i \r\n",
        "\r\n",
        "      #print(image_idx)\r\n",
        "      #if label*n_queries >= 80:\r\n",
        "      #  # sketch image displaying \r\n",
        "      #  image1 = SKETCHES_DIR + '/png/alarm clock/' + str(image_idx+1) + \".png\"\r\n",
        "      #  display(Image.from_file(image1, width=229, height=229))\r\n",
        "\r\n",
        "      res = index.query(features[image_idx], img_per_labels, mode = mode)\r\n",
        "      assert res['labels'][0] == label, 'deve essere della stessa label'\r\n",
        "      a = average_precision(label, res['labels'], img_per_labels)\r\n",
        "    \r\n",
        "      AP_values.append(a)\r\n",
        "    classes_AP.append(AP_values)\r\n",
        "\r\n",
        "    if counter == 2:\r\n",
        "      return classes_AP"
      ],
      "execution_count": null,
      "outputs": []
    },
    {
      "cell_type": "code",
      "metadata": {
        "id": "ScP1bHtM1E45"
      },
      "source": [
        "no_index_finetuned = NO_INDEX()\r\n",
        "no_index_finetuned.insert(np.vstack((sketches_features_finetuned, mirflickr_features_finetuned)), \r\n",
        "                np.concatenate((sketches_generator.filenames, mirflickr_generator.filenames)), \r\n",
        "                np.concatenate((sketches_generator.labels, np.array([250] * mirflickr_features_finetuned.shape[0]))))"
      ],
      "execution_count": null,
      "outputs": []
    },
    {
      "cell_type": "code",
      "metadata": {
        "id": "SV6npPA9vvDB",
        "colab": {
          "base_uri": "https://localhost:8080/"
        },
        "outputId": "629f3b25-0f42-420e-e7b4-be894e26e48b"
      },
      "source": [
        "map_value = mAP(no_index_finetuned, sketches_features_finetuned)\r\n",
        "print(map_value)"
      ],
      "execution_count": null,
      "outputs": [
        {
          "output_type": "stream",
          "text": [
            "[[0.7242832081986927, 0.12363636800117044, 0.15170553829215488, 0.7519308131376713, 0.2213613124595284, 0.6205056427041493, 0.0125, 0.0125, 0.12777973223719008, 0.76151889044459, 0.0324818563789152, 0.7537407903524598, 0.5283259595856107, 0.759174779509735, 0.0125, 0.46183903012147576, 0.013257575757575756, 0.01854957805907173, 0.7096201298154987, 0.07749118308190446, 0.7684292846174299, 0.7425936480705341, 0.5496752994093665, 0.473227398236734, 0.7472451590637876, 0.1451355219851131, 0.4274054196733713, 0.06877572541236296, 0.41405455355846366, 0.030282444005270092, 0.4004845135294768, 0.34422268558554003, 0.013031914893617023, 0.7071871464634901, 0.2073718619568546, 0.1907019155929949, 0.6971478155213313, 0.23345146531428812, 0.7145870706818662, 0.2909983444379087, 0.6835951899964241, 0.04854853427654711, 0.4106624738663898, 0.7252705952866152, 0.4463462733855776, 0.6904040989445066, 0.03018433823121323, 0.5072991626790864, 0.7480729960319417, 0.759612800085049, 0.27638604736175887, 0.6898349669439107, 0.013410524026962384, 0.7478025173137859, 0.012954545454545455, 0.4148347734824502, 0.325479348943447, 0.08779052615540986, 0.756657065373148, 0.6875834812455992, 0.01287313432835821, 0.7652967184140458, 0.45061370522703703, 0.20543844259029614, 0.6644922144090664, 0.5830989441329735, 0.1423485058256137, 0.5347415648545264, 0.5521547629542961, 0.4782085583233694, 0.10061157324163239, 0.755567528144031, 0.7371222724668226, 0.01580342902711324, 0.7214759316690043, 0.2821431221674332, 0.03559357178460952, 0.6454519632342665, 0.745306481850583, 0.7440313932580075], [0.7964247869729747, 0.8349023600986112, 0.04191088078588078, 0.8326617149936091, 0.8069714200382094, 0.03693145557900947, 0.8356585755818641, 0.6097345062185002, 0.8040887461529479, 0.1614321317857502, 0.3352047559076915, 0.012824675324675325, 0.7755002598956143, 0.6613323078785913, 0.06331196921527109, 0.702534250059353, 0.5792755641953493, 0.8322256941964824, 0.7959595173079309, 0.19199095894181034, 0.3575934917337763, 0.844064322282614, 0.8343714324868714, 0.808084095356661, 0.8337487932673604, 0.8201617306515192, 0.5274718129488182, 0.8294549795011882, 0.8216213868692034, 0.8371480029115208, 0.7718771519815565, 0.5730368835947675, 0.5613658154835435, 0.36896961671923034, 0.7593530851708419, 0.013425925925925924, 0.8210334489854908, 0.836016070686815, 0.06650856793145656, 0.718349666345751, 0.041403782954850026, 0.38032329527800834, 0.31647355683383277, 0.37997880263537975, 0.7376494292112712, 0.8139669954193642, 0.8329696024222727, 0.5743858952860413, 0.8010724333349784, 0.7760294874989825, 0.44206344989899743, 0.46393063048356586, 0.18034076103942778, 0.8014399505980812, 0.2462394994505054, 0.7007108506708134, 0.6634879297686707, 0.3779816593419353, 0.8355614198001706, 0.812962484572511, 0.2562872147618966, 0.6912066464757866, 0.0125, 0.8083963486166894, 0.8352198865018323, 0.0125, 0.21070827586181945, 0.7875243643670853, 0.46456924284472956, 0.7429238987536705, 0.8076876532246118, 0.63978461349885, 0.06873065758561489, 0.8376858558670254, 0.07140005462373884, 0.7923742512188279, 0.8350684961814479, 0.257713973618871, 0.621974038550996, 0.0125]]\n"
          ],
          "name": "stdout"
        }
      ]
    },
    {
      "cell_type": "code",
      "metadata": {
        "colab": {
          "base_uri": "https://localhost:8080/"
        },
        "id": "tPmjYkfSCHKQ",
        "outputId": "6151f339-9d10-4e7f-c736-6177175cbae6"
      },
      "source": [
        "for item in map_value:\r\n",
        "  print(max(item))\r\n",
        "  max_index = [i for i, j in enumerate(a) if j == m]\r\n",
        "  print(min(item))\r\n",
        "  print(np.std(item))\r\n"
      ],
      "execution_count": null,
      "outputs": [
        {
          "output_type": "stream",
          "text": [
            "0.7684292846174299\n",
            "0.0125\n",
            "0.2839384473291182\n",
            "0.844064322282614\n",
            "0.0125\n",
            "0.29381322038902813\n"
          ],
          "name": "stdout"
        }
      ]
    }
  ]
}