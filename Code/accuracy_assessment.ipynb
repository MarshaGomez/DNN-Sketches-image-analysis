{
  "nbformat": 4,
  "nbformat_minor": 0,
  "metadata": {
    "colab": {
      "name": "accuracy_assessment.ipynb",
      "provenance": [],
      "collapsed_sections": [],
      "toc_visible": true,
      "include_colab_link": true
    },
    "kernelspec": {
      "name": "python3",
      "display_name": "Python 3"
    },
    "accelerator": "GPU"
  },
  "cells": [
    {
      "cell_type": "markdown",
      "metadata": {
        "id": "view-in-github",
        "colab_type": "text"
      },
      "source": [
        "<a href=\"https://colab.research.google.com/github/MarshaGomez/DNN-Sketches-image-analysis/blob/main/Code/accuracy_assessment.ipynb\" target=\"_parent\"><img src=\"https://colab.research.google.com/assets/colab-badge.svg\" alt=\"Open In Colab\"/></a>"
      ]
    },
    {
      "cell_type": "markdown",
      "metadata": {
        "id": "bkobvkzXMzNm"
      },
      "source": [
        "# Setting up"
      ]
    },
    {
      "cell_type": "code",
      "metadata": {
        "id": "HB_XvLvHMP1m",
        "colab": {
          "base_uri": "https://localhost:8080/"
        },
        "outputId": "32d10586-0e87-4baf-c88b-34ca579de417"
      },
      "source": [
        "from google.colab import drive\n",
        "drive.mount('/content/gdrive', force_remount=True)"
      ],
      "execution_count": null,
      "outputs": [
        {
          "output_type": "stream",
          "text": [
            "Mounted at /content/gdrive\n"
          ],
          "name": "stdout"
        }
      ]
    },
    {
      "cell_type": "code",
      "metadata": {
        "id": "Ikl2932XMWCi"
      },
      "source": [
        "import numpy as np\n",
        "import time\n",
        "import itertools\n",
        "import os, shutil\n",
        "import tensorflow as tf\n",
        "import matplotlib.pyplot as plt\n",
        "\n",
        "from random import random\n",
        "from ipywidgets import Image\n",
        "from numpy.linalg import norm\n",
        "from IPython.display import display\n",
        "from keras.models import Model\n",
        "from sklearn.metrics import classification_report\n",
        "from keras.callbacks import EarlyStopping, ModelCheckpoint\n",
        "\n",
        "# tensorflow version 2.4.0\n",
        "from tensorflow import keras\n",
        "from tensorflow.keras import layers, models\n",
        "from tensorflow.keras.optimizers import SGD, Adam\n",
        "from tensorflow.keras.preprocessing import image_dataset_from_directory\n",
        "from tensorflow.keras.preprocessing.image import ImageDataGenerator\n",
        "from tensorflow.keras.preprocessing import image\n",
        "from tensorflow.keras.applications.inception_v3 import preprocess_input, InceptionV3"
      ],
      "execution_count": null,
      "outputs": []
    },
    {
      "cell_type": "code",
      "metadata": {
        "id": "1Gu0zSOgMp-I"
      },
      "source": [
        "zip_path = '/content/gdrive/Shareddrives/COMPUTER_VISION/MIM_zipped.zip'\n",
        "!cp \"{zip_path}\" .\n",
        "!unzip -q MIM_zipped.zip\n",
        "!rm MIM_zipped.zip"
      ],
      "execution_count": null,
      "outputs": []
    },
    {
      "cell_type": "code",
      "metadata": {
        "id": "DhvYQaG0Mrl2"
      },
      "source": [
        "test_images_per_class = 20 # le immagini sono al massimo 80\n",
        "train_images_per_class = 80 - test_images_per_class"
      ],
      "execution_count": null,
      "outputs": []
    },
    {
      "cell_type": "code",
      "metadata": {
        "id": "cEy3dp3VMs-O",
        "colab": {
          "base_uri": "https://localhost:8080/"
        },
        "outputId": "e1452442-7d52-4d41-bc55-56ac244ee668"
      },
      "source": [
        "BASE_DIR = \"/content/content/gdrive/Shareddrives/COMPUTER_VISION/MIRCV\"\n",
        "SKETCHES_DIR = os.path.join(BASE_DIR, \"sketches\")\n",
        "MIRFLICKR_DIR = os.path.join(BASE_DIR, \"mirflickr/mirflickr25k\")\n",
        "\n",
        "print(os.listdir(os.path.join(SKETCHES_DIR, \"png\")))\n",
        "def copytree(src, dst, symlinks=False, ignore=None):\n",
        "    for item in os.listdir(src):\n",
        "        s = os.path.join(src, item)\n",
        "        d = os.path.join(dst, item)\n",
        "        if os.path.isdir(s):\n",
        "            shutil.copytree(s, d, symlinks, ignore)\n",
        "        else:\n",
        "            shutil.copy2(s, d)\n",
        "      \n",
        "copytree(f'{SKETCHES_DIR}/png', f'{SKETCHES_DIR}/all')\n",
        "\n",
        "try:\n",
        "  os.rename(f'{SKETCHES_DIR}/png', f'{SKETCHES_DIR}/train')\n",
        "except:\n",
        "  print('already renamed')\n",
        "\n",
        "if not os.path.exists(f'{SKETCHES_DIR}/test'):\n",
        "  os.mkdir(f'{SKETCHES_DIR}/test')\n",
        "  for class_folder in os.listdir(f'{SKETCHES_DIR}/train'):\n",
        "    if os.path.isdir(f'{SKETCHES_DIR}/train/{class_folder}'):\n",
        "      images = os.listdir(f'{SKETCHES_DIR}/train/{class_folder}')\n",
        "      os.mkdir(f'{SKETCHES_DIR}/test/{class_folder}')\n",
        "      for i in range(test_images_per_class):\n",
        "        os.rename(f'{SKETCHES_DIR}/train/{class_folder}/{images[i]}', f'{SKETCHES_DIR}/test/{class_folder}/{images[i]}')"
      ],
      "execution_count": null,
      "outputs": [
        {
          "output_type": "stream",
          "text": [
            "['bookshelf', 'baseball bat', 'owl', 'basket', 'hot air balloon', 'tablelamp', 'fish', 'hot-dog', 'laptop', 'pretzel', 'nose', 'cigarette', 'mailbox', 'snake', 'computer monitor', 'pig', 'panda', 'sheep', 'octopus', 'radio', 'saxophone', 'floor lamp', 'couch', 'fan', 'sea turtle', 'rollerblades', 'bell', 'tiger', 'crane (machine)', 'bee', 'arm', 'car (sedan)', 'rifle', 'blimp', 'chandelier', 'banana', 'house', 'apple', 'book', 'swan', 'pumpkin', 'bed', 'hedgehog', 'canoe', 'mermaid', 'tooth', 'chair', 'pipe (for smoking)', 'parrot', 'grenade', 'donut', 'cup', 'santa claus', 'wheel', 'violin', 'camel', 'alarm clock', 'shovel', 'ashtray', 'standing bird', 'tent', 'mosquito', 'skateboard', 'bicycle', 'cloud', 'hat', 'flashlight', 'door', 'teddy-bear', 'tennis-racket', 'door handle', 'bush', 'wheelbarrow', 'lightbulb', 'mushroom', 'beer-mug', 'boomerang', 'parking meter', 'penguin', 'van', 'toothbrush', 'teacup', 'duck', 'motorbike', 'suv', 'monkey', 'vase', 'face', 'cow', 'snowman', 'tractor', 'fire hydrant', 'bathtub', 'helicopter', 'cannon', 'flying bird', 'church', 'cactus', 'eyeglasses', 'lighter', 'butterfly', 'frying-pan', 'filelist.txt', 'pen', 'spider', 'submarine', 'moon', 't-shirt', 'windmill', 'pineapple', 'socks', 'tire', 'trombone', 'axe', 'carrot', 'telephone', 'trousers', 'person walking', 'airplane', 'flower with stem', 'loudspeaker', 'bus', 'walkie talkie', 'guitar', 'sailboat', 'rooster', 'piano', 'keyboard', 'parachute', 'backpack', 'teapot', 'fork', 'spoon', 'ant', 'revolver', 'skull', 'camera', 'tree', 'trumpet', 'satellite', 'human-skeleton', 'race car', 'traffic light', 'binoculars', 'ear', 'grapes', 'armchair', 'cat', 'bottle opener', 'bear (animal)', 'eye', 'mug', 'umbrella', 'bread', 'suitcase', 'diamond', 'lobster', 'pigeon', 'flying saucer', 'elephant', 'hand', 'envelope', 'calculator', 'lion', 'ipod', 'giraffe', 'stapler', 'kangaroo', 'rabbit', 'leaf', 'helmet', 'toilet', 'scorpion', 'key', 'crocodile', 'syringe', 'foot', 'space shuttle', 'crab', 'microscope', 'frog', 'castle', 'paper clip', 'harp', 'head', 'bulldozer', 'zebra', 'barn', 'pizza', 'bowl', 'sun', 'bridge', 'cabinet', 'crown', 'scissors', 'seagull', 'dragon', 'knife', 'satellite dish', 'strawberry', 'sponge bob', 'streetlight', 'shoe', 'skyscraper', 'brain', 'purse', 'snowboard', 'wine-bottle', 'sword', 'squirrel', 'ice-cream-cone', 'wineglass', 'ship', 'shark', 'screwdriver', 'microphone', 'truck', 'megaphone', 'bench', 'power outlet', 'dog', 'wrist-watch', 'pear', 'hamburger', 'angel', 'speed-boat', 'cell phone', 'present', 'dolphin', 'hourglass', 'head-phones', 'comb', 'tomato', 'ladder', 'tv', 'mouth', 'pickup truck', 'rainbow', 'horse', 'person sitting', 'train', 'mouse (animal)', 'hammer', 'snail', 'potted plant', 'candle', 'feather', 'palm tree', 'cake', 'computer-mouse', 'table']\n"
          ],
          "name": "stdout"
        }
      ]
    },
    {
      "cell_type": "code",
      "metadata": {
        "id": "lQoDX55ZNB7Z"
      },
      "source": [
        "def average_precision(requested_label, result_labels, n_ground_truth = 80):\n",
        "  \"\"\"\n",
        "  label ricercata, label ottenute, il numero di oggetti che ci sono quella label\n",
        "  \"\"\"\n",
        "  correct_array = (requested_label == result_labels).astype(int)\n",
        "  precision_array = [np.mean(correct_array[:k]) for k in range(1, correct_array.shape[0] + 1)]\n",
        "  # print(precision_array * correct_array) # mi rimangono solo quelli a 1\n",
        "  return np.sum(precision_array * correct_array) / n_ground_truth\n",
        "\n",
        "\n",
        "def mAP_per_label(index, features, n_queries = 250, n_labels = 250, img_per_labels = 80, mode = 'euclidean', check_first_label=True, n_ground_truth=None):\n",
        "  sum = {}\n",
        "  if not n_ground_truth:\n",
        "    n_ground_truth = img_per_labels\n",
        "  for i in range(n_queries):\n",
        "    label = i % n_labels\n",
        "    image_idx = ((i * img_per_labels) + int(random() * img_per_labels)) % (n_labels * img_per_labels)\n",
        "    # print('QUERY')\n",
        "    # print('index = ' + str(image_idx))\n",
        "    # print('label =' + str(label))\n",
        "    res = index.query(features[image_idx], n_ground_truth, mode = mode)\n",
        "    if res is None:\n",
        "      sum += 0\n",
        "      continue\n",
        "    # print('first label of resultset (must be equal to label) = ' + str(res['labels'][0]))\n",
        "    if check_first_label:\n",
        "      assert res['labels'][0] == label, 'deve essere della stessa label'\n",
        "    a = average_precision(label, res['labels'], n_ground_truth)\n",
        "    if sum.get(label) is None:\n",
        "      sum[label] = 0\n",
        "    sum[label] = sum[label] + a\n",
        "  for key in sum:\n",
        "    sum[key] = sum[key] / (n_queries / n_labels)\n",
        "  return sum"
      ],
      "execution_count": null,
      "outputs": []
    },
    {
      "cell_type": "code",
      "metadata": {
        "id": "4fsdebINPaSU"
      },
      "source": [
        "def extract_features(extractor, generator, sample_count, dim=2048):\n",
        "  features = np.zeros((sample_count, dim)) #extractor output shape \n",
        "  i = 0\n",
        "  for inputs_batch, labels_batch in generator:\n",
        "    start = time.time()\n",
        "    features_batch = extractor.predict(inputs_batch)\n",
        "    start = time.time()\n",
        "    if (i + 1) * BATCH_SIZE > sample_count:\n",
        "      features[i * BATCH_SIZE : sample_count , :] = features_batch\n",
        "      assert np.array_equal(np.argmax(labels_batch, axis = 1), generator.labels[i * BATCH_SIZE : sample_count]), 'LABELS NOT CORRESPONDING REINIZIALIZE GENERATOR'\n",
        "    else:\n",
        "      features[i * BATCH_SIZE : (i + 1) * BATCH_SIZE, : ] = features_batch\n",
        "      assert np.array_equal(np.argmax(labels_batch, axis = 1), generator.labels[i * BATCH_SIZE : (i + 1) * BATCH_SIZE]), 'LABELS NOT CORRESPONDING REINIZIALIZE GENERATOR'\n",
        "    i += 1\n",
        "    if i * BATCH_SIZE >= sample_count:\n",
        "      break\n",
        "  \n",
        "  return features\n",
        "  "
      ],
      "execution_count": null,
      "outputs": []
    },
    {
      "cell_type": "code",
      "metadata": {
        "colab": {
          "base_uri": "https://localhost:8080/"
        },
        "id": "le-aILUUPhWp",
        "outputId": "1079c14a-52b3-4fef-a4fe-62e0629317c8"
      },
      "source": [
        "IMG_HEIGHT = 299\n",
        "IMG_WIDTH = 299\n",
        "INPUT_SHAPE = (IMG_WIDTH, IMG_HEIGHT, 3)\n",
        "BATCH_SIZE = 64\n",
        "\n",
        "\n",
        "sketches_datagen = ImageDataGenerator(preprocessing_function=preprocess_input)\n",
        "mirflickr_datagen = ImageDataGenerator(preprocessing_function=preprocess_input)\n",
        "\n",
        "sketches_generator_train = sketches_datagen.flow_from_directory(\n",
        "      # This is the target directory\n",
        "      SKETCHES_DIR + '/train',\n",
        "      shuffle=False,\n",
        "      target_size=(IMG_HEIGHT, IMG_WIDTH),\n",
        "      batch_size=BATCH_SIZE)\n",
        "\n",
        "mirflickr_generator = mirflickr_datagen.flow_from_directory(\n",
        "        # This is the target directory\n",
        "        MIRFLICKR_DIR,\n",
        "        shuffle=False,\n",
        "        target_size=(IMG_HEIGHT, IMG_WIDTH),\n",
        "        batch_size=BATCH_SIZE)\n",
        "\n",
        "sketches_generator_test = sketches_datagen.flow_from_directory(\n",
        "      # This is the target directory\n",
        "      SKETCHES_DIR + '/test',\n",
        "      shuffle=False,\n",
        "      target_size=(IMG_HEIGHT, IMG_WIDTH),\n",
        "      batch_size=BATCH_SIZE)"
      ],
      "execution_count": null,
      "outputs": [
        {
          "output_type": "stream",
          "text": [
            "Found 15000 images belonging to 250 classes.\n",
            "Found 25000 images belonging to 1 classes.\n",
            "Found 5000 images belonging to 250 classes.\n"
          ],
          "name": "stdout"
        }
      ]
    },
    {
      "cell_type": "code",
      "metadata": {
        "id": "YwHj_KuxPlaJ"
      },
      "source": [
        "MODEL_PATH = \"/content/gdrive/Shareddrives/COMPUTER_VISION/models\"\n",
        "model = models.load_model(MODEL_PATH + '/inception_finetuning_classification_3_last_one_more_train_all_parameters_more_train.h5')\n",
        "extractor = Model(model.input, model.layers[-2].output)"
      ],
      "execution_count": null,
      "outputs": []
    },
    {
      "cell_type": "code",
      "metadata": {
        "id": "e3M84xd0PZ8s"
      },
      "source": [
        "sketches_features_train = extract_features(extractor, sketches_generator_train, 15000, dim=2048)\n",
        "sketches_features_test = extract_features(extractor, sketches_generator_test, 5000, dim=2048)\n",
        "mirflickr_features = extract_features(extractor, mirflickr_generator, 25000, dim=2048)"
      ],
      "execution_count": null,
      "outputs": []
    },
    {
      "cell_type": "markdown",
      "metadata": {
        "id": "H4_0nAC9MxNm"
      },
      "source": [
        "# Assess model"
      ]
    },
    {
      "cell_type": "code",
      "metadata": {
        "id": "y1pL2JcXM3-b"
      },
      "source": [
        "# Useful to have comparable performance\n",
        "class NO_INDEX:\n",
        "  def __init__(self):\n",
        "    self.features = None\n",
        "    self.ids = None\n",
        "    self.labels = None\n",
        "\n",
        "  def insert(self, features, ids, labels):\n",
        "    assert features.shape[0] == len(ids), \"mismatch between ids length and features\"\n",
        "    assert len(labels) == len(ids), \"mismatch between ids length and labels\"\n",
        "    self.features = features\n",
        "    self.ids = ids\n",
        "    self.labels = labels\n",
        "  \n",
        "  def query(self, features, top_k, mode = 'euclidean', return_cost = False):\n",
        "    assert mode in ['similarity', 'euclidean'], \"mode must be similarity or euclidean\"\n",
        "    top_k += 1\n",
        "    if mode == 'euclidean':\n",
        "      dist = norm(self.features - np.array(features), axis=1)\n",
        "      idx_partitioned = np.argpartition(dist, top_k - 1 if dist.shape[0] - 1 > top_k - 1 else dist.shape[0] - 1)\n",
        "      k = {}\n",
        "      # qua è più comodo avere array 1- dimensionali\n",
        "      k['ids'] = self.ids[idx_partitioned].flatten()[:top_k - 1 if dist.shape[0] - 1 > top_k - 1 else dist.shape[0]]\n",
        "      k['labels'] = self.labels[idx_partitioned].flatten()[:top_k - 1 if dist.shape[0] - 1 > top_k - 1 else dist.shape[0]]\n",
        "      k['distances'] = dist[idx_partitioned][:top_k - 1 if dist.shape[0] - 1 > top_k - 1 else dist.shape[0]]\n",
        "      \n",
        "      idx_sorted = np.argsort(k['distances'])\n",
        "      idx_sorted = idx_sorted\n",
        "      k['distances'] = k['distances'][idx_sorted]\n",
        "      k['ids'] = k['ids'][idx_sorted]\n",
        "      k['labels'] = k['labels'][idx_sorted]\n",
        "      if return_cost:\n",
        "        return (k, dist.size)\n",
        "      return k\n",
        "    sim = np.sum(self.features * np.array(features), axis=1) / (norm(self.features, axis=1) * norm(np.array([features]), axis=1))\n",
        "    idx_partitioned = np.argpartition(sim, -(top_k - 1) if sim.shape[0] - 1 > top_k - 1 else sim.shape[0] - 1)\n",
        "    k = {}\n",
        "    # qua è più comodo avere array 1- dimensionali\n",
        "    if sim.shape[0] - 1 > top_k - 1:  \n",
        "      idx_partitioned = idx_partitioned[-(top_k - 1):]\n",
        "\n",
        "    k['ids'] = self.ids[idx_partitioned].flatten()\n",
        "    k['labels'] = self.labels[idx_partitioned].flatten()\n",
        "    k['similarities'] = sim[idx_partitioned]\n",
        "    idx_sorted = np.argsort(k['similarities'])[::-1]\n",
        "    idx_sorted = idx_sorted\n",
        "    k['similarities'] = k['similarities'][idx_sorted]\n",
        "    k['ids'] = k['ids'][idx_sorted]\n",
        "    k['labels'] = k['labels'][idx_sorted]\n",
        "    if return_cost:\n",
        "      return (k, sim.size)\n",
        "    return k\n",
        "    "
      ],
      "execution_count": null,
      "outputs": []
    },
    {
      "cell_type": "markdown",
      "metadata": {
        "id": "76pYj9DaPKPD"
      },
      "source": [
        "## mAP per class"
      ]
    },
    {
      "cell_type": "code",
      "metadata": {
        "id": "izR8YZjSMwog",
        "colab": {
          "base_uri": "https://localhost:8080/"
        },
        "outputId": "8417eab3-ee2a-4375-bbc8-2370476ed9e3"
      },
      "source": [
        "print('mAP on train')\n",
        "no_index_base = NO_INDEX()\n",
        "no_index_base.insert(np.vstack((sketches_features_train, mirflickr_features)), \n",
        "              np.concatenate((sketches_generator_train.filenames, mirflickr_generator.filenames)), \n",
        "              np.concatenate((sketches_generator_train.labels, np.array([250] * mirflickr_features.shape[0]))))\n",
        "print('Euclidean mAP')\n",
        "print(mAP_per_label(no_index_base, sketches_features_train, img_per_labels=train_images_per_class))\n",
        "print('Cosine mAP')\n",
        "print(mAP_per_label(no_index_base, sketches_features_train, mode = 'similarity', img_per_labels=train_images_per_class))\n",
        "print('')\n",
        "\n",
        "print('mAP using test as query on train')\n",
        "\n",
        "print('Euclidean mAP')\n",
        "print(mAP_per_label(no_index_base, sketches_features_test, 5000, img_per_labels=test_images_per_class, check_first_label=False, n_ground_truth=train_images_per_class))\n",
        "print('Cosine mAP')\n",
        "print(mAP_per_label(no_index_base, sketches_features_test, 5000, mode = 'similarity', img_per_labels=test_images_per_class, check_first_label=False, n_ground_truth=train_images_per_class))\n",
        "print('')\n",
        "\n",
        "\n",
        "del no_index_base"
      ],
      "execution_count": null,
      "outputs": [
        {
          "output_type": "stream",
          "text": [
            "mAP on train\n",
            "Euclidean mAP\n",
            "{0: 0.38482204401932163, 1: 0.7838800993730073, 2: 0.39809673299083276, 3: 0.031767676767676764, 4: 0.8473486618056701, 5: 0.12873027618041272, 6: 0.2957095867846841, 7: 0.01875, 8: 0.8396038651559895, 9: 0.4585360645536076, 10: 0.5000423144806632, 11: 0.22680596486803153, 12: 0.8234438465780236, 13: 0.46414372748521676, 14: 0.07133500557413601, 15: 0.17672664520798692, 16: 0.07657372737271456, 17: 0.016666666666666666, 18: 0.07183195801525584, 19: 0.7511266119903776, 20: 0.20094854870799594, 21: 0.3827849587233155, 22: 0.36027766615865164, 23: 0.09836407939039518, 24: 0.47389535097586466, 25: 0.4650587404015293, 26: 0.7596252205569922, 27: 0.6239257178589717, 28: 0.01916666666666667, 29: 0.5172872918783917, 30: 0.19589757427869917, 31: 0.04654794386758871, 32: 0.07220076431746912, 33: 0.8247985243755775, 34: 0.09797979797979799, 35: 0.8194644488570223, 36: 0.17994225145709672, 37: 0.7651250427077123, 38: 0.043950807510129544, 39: 0.43008906377236467, 40: 0.7207341146353757, 41: 0.5981418138294572, 42: 0.6512590482390684, 43: 0.626108462370307, 44: 0.36748285006277537, 45: 0.30794442105504827, 46: 0.3009879614513258, 47: 0.6870123552671016, 48: 0.05554689047336106, 49: 0.5383871550851247, 50: 0.7391023636981718, 51: 0.10294205550784498, 52: 0.019985925404644615, 53: 0.29900486115191993, 54: 0.202328734500946, 55: 0.29785477230155893, 56: 0.6200963352248083, 57: 0.4580842875212906, 58: 0.018115942028985508, 59: 0.028786344562206634, 60: 0.7082628392299175, 61: 0.28508265881599915, 62: 0.2288292019895374, 63: 0.22265431915317502, 64: 0.023858150962183692, 65: 0.5016844091580934, 66: 0.19651677498787687, 67: 0.568832513610459, 68: 0.7315557808229831, 69: 0.40667853105755297, 70: 0.017222222222222226, 71: 0.30114698812207563, 72: 0.35852776060564756, 73: 0.7943943294597734, 74: 0.060150920297196896, 75: 0.9315765843802566, 76: 0.024463043665942215, 77: 0.5154630099794509, 78: 0.41464869538709226, 79: 0.11590505899329427, 80: 0.4754548962913416, 81: 0.7365526860055901, 82: 0.2872372564248462, 83: 0.06346895832710014, 84: 0.5038419748171409, 85: 0.1523233622022163, 86: 0.23951742970321227, 87: 0.3482389723093048, 88: 0.8236231343124188, 89: 0.9666666666666667, 90: 0.0733697266785502, 91: 0.06632178833265791, 92: 0.7893187433170571, 93: 0.8767839804908802, 94: 0.7167926706685042, 95: 0.5518528604964822, 96: 0.8103439688966004, 97: 0.2106084702064286, 98: 0.08949688755180746, 99: 0.12993461957432545, 100: 0.5216399900031224, 101: 0.2674862467362102, 102: 0.07233103346421658, 103: 0.4741478774048404, 104: 0.8245063257685935, 105: 0.5452967104107828, 106: 0.5717101160157886, 107: 0.835549860436697, 108: 0.047052860787616876, 109: 0.9103037926932843, 110: 0.4026890448383848, 111: 0.10573310566938753, 112: 0.7115352708987568, 113: 0.07969296499007357, 114: 0.7109584657652446, 115: 0.7398079797799357, 116: 0.6433029150559798, 117: 0.7570801034731541, 118: 0.7107339096714553, 119: 0.8420546081031292, 120: 0.6470884226515383, 121: 0.39139458841758085, 122: 0.3499516211042295, 123: 0.19904810265396575, 124: 0.22154797164584966, 125: 0.12528971845148315, 126: 0.02312301037641856, 127: 0.05379079011536003, 128: 0.0983529900292725, 129: 0.20457867808475239, 130: 0.3209841212093582, 131: 0.4627024925067786, 132: 0.016666666666666666, 133: 0.1297208614368979, 134: 0.16910100583584564, 135: 0.017708333333333333, 136: 0.4151422354589009, 137: 0.017346938775510204, 138: 0.6141564191554596, 139: 0.34188853054900525, 140: 0.5033374559123608, 141: 0.4117854970936096, 142: 0.18127920012548868, 143: 0.0819884092166701, 144: 0.2754600520675149, 145: 0.8227511718067309, 146: 0.6146461368461171, 147: 0.31840213553727864, 148: 0.13232335842116044, 149: 0.28688713594356535, 150: 0.6987953952380501, 151: 0.08168663847757926, 152: 0.16093593408465576, 153: 0.029117032392894465, 154: 0.2627654515390852, 155: 0.0398222242376886, 156: 0.08196044764748554, 157: 0.8301485318222154, 158: 0.020253968253968257, 159: 0.08185064676277015, 160: 0.7082842848562988, 161: 0.7436843826779833, 162: 0.6146346810953303, 163: 0.18140580151785587, 164: 0.019625372498935714, 165: 0.3258327049014324, 166: 0.6485920680387248, 167: 0.1001430831717558, 168: 0.14533709262886987, 169: 0.33498567206546837, 170: 0.69502902670475, 171: 0.4175875537799164, 172: 0.11329697349434191, 173: 0.6236047364002434, 174: 0.7556916873861528, 175: 0.761293190716861, 176: 0.5305910704172389, 177: 0.03985038026099732, 178: 0.855161107164951, 179: 0.6708428892464863, 180: 0.04503912165988437, 181: 0.49381843240934514, 182: 0.4941213227159753, 183: 0.05092617900154617, 184: 0.02050827423167849, 185: 0.6606051790360269, 186: 0.17391938623782682, 187: 0.3355897747596813, 188: 0.28654441968041755, 189: 0.032116013071895426, 190: 0.5915236273224552, 191: 0.06435598392835234, 192: 0.6967068574145913, 193: 0.05379890429585829, 194: 0.016666666666666666, 195: 0.7873663745853431, 196: 0.19547184297184297, 197: 0.022312801932367145, 198: 0.18743708913410057, 199: 0.02222222222222222, 200: 0.9479724899802416, 201: 0.8089980313083701, 202: 0.016666666666666666, 203: 0.051307600117123923, 204: 0.4307923849073366, 205: 0.3356647044585477, 206: 0.5282481115545907, 207: 0.5368372478061729, 208: 0.4333021935708767, 209: 0.9833333333333333, 210: 0.14232168255428093, 211: 0.21308359300470023, 212: 0.5170434569656898, 213: 0.08752059250780479, 214: 0.9661111111111111, 215: 0.709368321791593, 216: 0.17121059045150525, 217: 0.1672168431211348, 218: 0.7590448132407739, 219: 0.42335210229161596, 220: 0.03584926677280202, 221: 0.9655313571284534, 222: 0.5711042429009129, 223: 0.07859758297258296, 224: 0.15027023880248494, 225: 0.019000000000000003, 226: 0.08583015719070132, 227: 0.38843761325024173, 228: 0.8440516357940449, 229: 0.576199937646842, 230: 0.05567779743476338, 231: 0.025800926598798943, 232: 0.4655091477081165, 233: 0.726695336926914, 234: 0.7249765086138639, 235: 0.1902307870893476, 236: 0.6605659490341265, 237: 0.5441867432627301, 238: 0.18955814893389372, 239: 0.23577323983374765, 240: 0.15627980679451267, 241: 0.4169870950013435, 242: 0.04817582636938379, 243: 0.017333333333333333, 244: 0.726466132528668, 245: 0.8039253332122961, 246: 0.8868185821379683, 247: 0.7976333990756891, 248: 0.8802740082415004, 249: 0.9088261272980944}\n",
            "Cosine mAP\n",
            "{0: 0.7556255215375326, 1: 0.6385407927625297, 2: 0.2486511033949292, 3: 0.6741054994848777, 4: 0.8991503668702127, 5: 0.6716678264807183, 6: 0.14560000120999222, 7: 0.18230756159192438, 8: 0.5550624887261432, 9: 0.5241409230883265, 10: 0.22728763152956508, 11: 0.11645434691964568, 12: 0.7114405770256941, 13: 0.2637311588232729, 14: 0.016666666666666666, 15: 0.1561717373182747, 16: 0.14722425181381643, 17: 0.6635541395467155, 18: 0.11785112405003706, 19: 0.800682212865665, 20: 0.1361402438125235, 21: 0.857508758088878, 22: 0.6282508329900209, 23: 0.7735479000641725, 24: 0.672380473949607, 25: 0.02179012345679012, 26: 0.9468058600000524, 27: 0.6615049966739125, 28: 0.2886543726825527, 29: 0.31868942308480624, 30: 0.19459998388777458, 31: 0.01744186046511628, 32: 0.08623608131251186, 33: 0.7467757514614763, 34: 0.0717219336938706, 35: 0.6498598136266502, 36: 0.2129927434241889, 37: 0.8203397681651816, 38: 0.483687983914008, 39: 0.7644896286316555, 40: 0.7244103451115568, 41: 0.016666666666666666, 42: 0.2871993586447918, 43: 0.019047619047619046, 44: 0.02821772278860045, 45: 0.07088481509431008, 46: 0.06087962962962964, 47: 0.337002614698461, 48: 0.023974238624776257, 49: 0.03991942709656713, 50: 0.6730157409255378, 51: 0.016666666666666666, 52: 0.7193650112838417, 53: 0.8236462726287029, 54: 0.8709602734927084, 55: 0.8192101813223016, 56: 0.6488231410531913, 57: 0.5315909771472901, 58: 0.5652160923868818, 59: 0.4086909764071915, 60: 0.7745215359016301, 61: 0.29034709201699344, 62: 0.5624072756970018, 63: 0.02052094199462621, 64: 0.07204392553748643, 65: 0.5710332777724082, 66: 0.22266020269307524, 67: 0.31134991789215394, 68: 0.5100875498353186, 69: 0.376832911962193, 70: 0.37047761795544826, 71: 0.360782887590879, 72: 0.10456504688890962, 73: 0.7858663869865127, 74: 0.7355744389140652, 75: 0.9476826626970305, 76: 0.8990738623128559, 77: 0.7758915895228188, 78: 0.1901789768165728, 79: 0.031600892647404275, 80: 0.7262482092353925, 81: 0.6976075601896599, 82: 0.016666666666666666, 83: 0.45318445285818865, 84: 0.2877154352912207, 85: 0.69841875118608, 86: 0.23131842829161992, 87: 0.02006447542161828, 88: 0.8420772630837443, 89: 0.9302814754319846, 90: 0.4818740891971956, 91: 0.8101009209122731, 92: 0.7783539045939617, 93: 0.9116204872432114, 94: 0.7480392156862745, 95: 0.01957459409033259, 96: 0.8298270149079897, 97: 0.7769961890579035, 98: 0.8969837351064593, 99: 0.7597087467254936, 100: 0.7277372921996998, 101: 0.6020345998672989, 102: 0.6974733414266449, 103: 0.06525283025940921, 104: 0.1855214673364926, 105: 0.11309175717070455, 106: 0.6589310320299738, 107: 0.8516662752883453, 108: 0.659403344254354, 109: 0.23382130842154059, 110: 0.27616084785593126, 111: 0.8234916954239876, 112: 0.06694691788187722, 113: 0.594113262112288, 114: 0.05934185259185259, 115: 0.4521556547566225, 116: 0.6848020689171548, 117: 0.6027015270616499, 118: 0.8707534211563286, 119: 0.048697324477466324, 120: 0.731372145637655, 121: 0.44386300237363746, 122: 0.027077884929715593, 123: 0.031846773797238194, 124: 0.2672303638020936, 125: 0.11893667385647586, 126: 0.5277062873013652, 127: 0.397423415222184, 128: 0.7740078882972099, 129: 0.6940044870055829, 130: 0.8279692315312622, 131: 0.018571428571428572, 132: 0.7963629377655254, 133: 0.016666666666666666, 134: 0.7451580329310907, 135: 0.07079102423452878, 136: 0.6309279473946167, 137: 0.01728395061728395, 138: 0.025851217906517447, 139: 0.6545389706745532, 140: 0.8965158107829558, 141: 0.5238005094195872, 142: 0.8903952390120774, 143: 0.30614704621420796, 144: 0.64766398472, 145: 0.6110581021728031, 146: 0.6579755710063179, 147: 0.017272727272727273, 148: 0.9303771562330406, 149: 0.3875910334902523, 150: 0.7045573527182084, 151: 0.4235310066707836, 152: 0.5116669040621906, 153: 0.1682086048933875, 154: 0.27980347491564045, 155: 0.32004630107286297, 156: 0.20638701204207102, 157: 0.939003965841949, 158: 0.8347481154360187, 159: 0.7924938388612611, 160: 0.8713061273286355, 161: 0.8132390542562902, 162: 0.28603515216475917, 163: 0.8861912680047422, 164: 0.05899623524623524, 165: 0.19354375560984108, 166: 0.6982029969562327, 167: 0.0930777474427729, 168: 0.6462207812054106, 169: 0.9333333333333333, 170: 0.5227803928842408, 171: 0.7293096405228758, 172: 0.9327433166248956, 173: 0.6944862907281969, 174: 0.650140639285844, 175: 0.7539773594271659, 176: 0.6437639245741822, 177: 0.3181869180818377, 178: 0.21780612080850595, 179: 0.9476826626970305, 180: 0.016666666666666666, 181: 0.6618694406930745, 182: 0.8090355922080847, 183: 0.12139591699566124, 184: 0.5672421393303293, 185: 0.1323742522517032, 186: 0.08605628938962272, 187: 0.5247951877613976, 188: 0.7148337516111011, 189: 0.07454271471712796, 190: 0.7791162850591579, 191: 0.21136150152633848, 192: 0.95, 193: 0.701877406619084, 194: 0.019444444444444445, 195: 0.9316215728715728, 196: 0.6719233859110877, 197: 0.11125100017373805, 198: 0.258863556868888, 199: 0.32765914887588027, 200: 0.931331837980206, 201: 0.8532333889896971, 202: 0.1013903617655192, 203: 0.0687203308685597, 204: 0.6946963825837585, 205: 0.025685817805383024, 206: 0.555436541245655, 207: 0.2543791753792525, 208: 0.7566066821926225, 209: 0.9284007751199651, 210: 0.13078091366618141, 211: 0.6338334479678391, 212: 0.7950173645703601, 213: 0.6603597087592312, 214: 0.7279209119932912, 215: 0.6310175165800406, 216: 0.10710712814522509, 217: 0.33184769130167596, 218: 0.10513375964420855, 219: 0.5154857519386122, 220: 0.5014567879301245, 221: 0.9833333333333333, 222: 0.7991647335784023, 223: 0.4417539174907441, 224: 0.22629126945035022, 225: 0.046732636644401346, 226: 0.8018899322749652, 227: 0.581446218025616, 228: 0.8205223379009186, 229: 0.7165529032844468, 230: 0.8461811962698318, 231: 0.6570773747947458, 232: 0.16471855519883047, 233: 0.8256002597463528, 234: 0.7998369628987461, 235: 0.07669442439072831, 236: 0.027915553228369205, 237: 0.18355097154477212, 238: 0.9663841807909604, 239: 0.07893544263414914, 240: 0.30432631225290374, 241: 0.4596296891041411, 242: 0.16482222372206218, 243: 0.5042722338892416, 244: 0.47185081265025125, 245: 0.7180554740260082, 246: 0.7938519525611664, 247: 0.9284555045580166, 248: 0.8812792677735206, 249: 0.6207299052497937}\n",
            "\n",
            "mAP using test as query on train\n",
            "Euclidean mAP\n",
            "{0: 0.38249875240397374, 1: 0.0007936507936507937, 2: 0.000641025641025641, 3: 0.16285925736967358, 4: 0.01187225599459642, 5: 0.16886190175465643, 6: 0.02975683896736529, 7: 0.05987646334736784, 8: 0.8713918609573016, 9: 0.7906501381326746, 10: 0.6512897743690821, 11: 0.5108156892877502, 12: 0.46187406599422426, 13: 0.0, 14: 0.0, 15: 0.022924942145917383, 16: 0.2362016430188364, 17: 0.25847226418926816, 18: 0.04515499397600906, 19: 0.6331388903439676, 20: 0.26137918642632396, 21: 0.11911234079375015, 22: 0.4219451608499727, 23: 0.8373334020977795, 24: 0.017391304347826087, 25: 0.4059725049302242, 26: 0.6538911960269851, 27: 0.0009606705351386202, 28: 0.5178267264162505, 29: 0.5602055555899098, 30: 0.0790986790986791, 31: 0.45277011553762325, 32: 0.010555555555555556, 33: 0.2981983895804095, 34: 0.01990740740740741, 35: 0.5499322735212809, 36: 0.47856548558621914, 37: 0.7399814656443383, 38: 0.008333333333333333, 39: 0.041925503467440416, 40: 0.004660093792695986, 41: 0.3781064829055399, 42: 0.6124457270647198, 43: 0.6252119312349045, 44: 0.2112181214038799, 45: 0.0, 46: 0.44118649552052625, 47: 0.15542345058854495, 48: 0.008474297752206391, 49: 0.01868415821904194, 50: 0.07203263406546875, 51: 0.0, 52: 0.0, 53: 0.7763535793825255, 54: 0.67227325752741, 55: 0.7658285254467623, 56: 0.6222373265055644, 57: 0.8581261774553812, 58: 0.0, 59: 0.021917450081065642, 60: 0.7672184999595115, 61: 0.035867411653309825, 62: 0.44951556188275604, 63: 0.0, 64: 0.16298877294498662, 65: 0.13013873883634994, 66: 0.0802889228279529, 67: 0.39126061675064655, 68: 0.6166719082943174, 69: 0.19631695588226397, 70: 0.19964068216517822, 71: 0.1478696960049365, 72: 0.13610646178883185, 73: 0.205640690174108, 74: 0.0, 75: 0.9319010803845772, 76: 0.8608128743097593, 77: 0.6855445267252248, 78: 0.2497294124273143, 79: 0.726259973168792, 80: 0.22983785885074384, 81: 0.7914098783463303, 82: 0.04009413438998002, 83: 0.06681550775135081, 84: 0.7206715287909023, 85: 0.8008668886827636, 86: 0.05583110560904877, 87: 0.0, 88: 0.04257857767022921, 89: 0.5853739604289905, 90: 0.009343434343434343, 91: 0.8122259306704469, 92: 0.712852800694746, 93: 0.7439528448619774, 94: 0.5891613611624963, 95: 0.01130952380952381, 96: 0.7131338306793392, 97: 0.7152611122296889, 98: 0.879143270525125, 99: 0.3027926214278167, 100: 0.08913630852403781, 101: 0.3035154308834083, 102: 0.02532265208281496, 103: 0.4671500271540152, 104: 0.5900175026689283, 105: 0.4992927603827807, 106: 0.1193024779365303, 107: 0.5869647830660637, 108: 0.24808326639980288, 109: 0.03169357294357294, 110: 0.2509930336312461, 111: 0.0023809523809523807, 112: 0.8129524093233237, 113: 0.4371860149761254, 114: 0.07412037037037038, 115: 0.8686144757931554, 116: 0.6284667684726871, 117: 0.09283653259668236, 118: 0.33440835448355316, 119: 0.8450230159315026, 120: 0.09673766419154872, 121: 0.11036549789200106, 122: 0.5948795174048798, 123: 0.16404559147493084, 124: 0.05872218995235612, 125: 0.0024689910360642065, 126: 0.14270611333111335, 127: 0.20221346989860403, 128: 0.695269924700959, 129: 0.1484346976293755, 130: 0.009857170138804015, 131: 0.18327327303465663, 132: 0.6989921678476967, 133: 0.12056569417818083, 134: 0.04389738058877621, 135: 0.02277358447799084, 136: 0.0, 137: 0.2600269093805796, 138: 0.6913856470940004, 139: 0.7417753817653902, 140: 0.8776189550623285, 141: 0.3121205217561821, 142: 0.2750843517307801, 143: 0.10173670851919228, 144: 0.7505852693640295, 145: 0.652323255289163, 146: 0.587089633209351, 147: 0.13081315526196313, 148: 0.7626586766307102, 149: 0.07291757421119849, 150: 0.48560701007607193, 151: 0.5096770144643846, 152: 0.4153399176065717, 153: 0.01600238948626045, 154: 0.30667760369613983, 155: 0.01929255366211888, 156: 0.011236920338751002, 157: 0.8945292642292937, 158: 0.8489448460170922, 159: 0.7751965218350952, 160: 0.8093014213855579, 161: 0.31035184023102375, 162: 0.7966611854329246, 163: 0.5874012034619561, 164: 0.17199224430991628, 165: 0.0004761904761904762, 166: 0.003476425881086898, 167: 0.11679525860201814, 168: 0.04733472656128183, 169: 0.10147979797979798, 170: 0.597659437206335, 171: 0.06838062989580643, 172: 0.7618583503211, 173: 0.11946094362472523, 174: 0.8160527317246941, 175: 0.04123328853391297, 176: 0.0, 177: 0.29257528847309383, 178: 0.2603032316470741, 179: 0.2860145608484722, 180: 0.016666666666666666, 181: 0.3600278189642657, 182: 0.012686649099692578, 183: 0.024007694814489947, 184: 0.29588417096546143, 185: 0.6308622086624134, 186: 0.6222563001094811, 187: 0.017841200035967474, 188: 0.27898203839080443, 189: 0.6797734787700818, 190: 0.11039318329439812, 191: 0.0023582236174733854, 192: 0.016666666666666666, 193: 0.7739306646812177, 194: 0.3366827175207869, 195: 0.8878109275106836, 196: 0.5360831222283262, 197: 0.1762681115207069, 198: 0.0, 199: 0.04894419225943682, 200: 0.844127350978048, 201: 0.01254295454343494, 202: 0.009188034188034188, 203: 0.0027777777777777775, 204: 0.016332451375021036, 205: 0.7145827725161562, 206: 0.08959116809116809, 207: 0.008067814728602265, 208: 0.6709041394878704, 209: 0.9663841807909604, 210: 0.12493683424159187, 211: 0.5988370223964151, 212: 0.7428282543454419, 213: 0.8412532688596699, 214: 0.9480215899919291, 215: 0.5009537121229176, 216: 0.0021708683473389352, 217: 0.35082703216716155, 218: 0.8412333249921076, 219: 0.4133625430672066, 220: 0.2472869553458211, 221: 0.9830555555555556, 222: 0.7882352918518808, 223: 0.22590606817301542, 224: 0.21497731754460023, 225: 0.14307471972733737, 226: 0.3423292264096571, 227: 0.6416927666398798, 228: 0.8074124756836513, 229: 0.7275457149000696, 230: 0.7154272575719092, 231: 0.6808713767348364, 232: 0.5572098611073713, 233: 0.7635147754519985, 234: 0.7973197467349393, 235: 0.20768773169009566, 236: 0.03303797500662002, 237: 0.009286791639732816, 238: 0.38484903010180094, 239: 0.2568557018456403, 240: 0.062461852172218016, 241: 0.004962556600487635, 242: 0.20401582136198768, 243: 0.38737424663463865, 244: 0.003194444444444444, 245: 0.6115069822331808, 246: 0.8237482404276742, 247: 0.9139427758726003, 248: 0.7905393489294322, 249: 0.49938832442125164}\n",
            "Cosine mAP\n",
            "{0: 0.737224153236505, 1: 0.9261255268826438, 2: 0.08007790385609934, 3: 0.23570756473892251, 4: 0.5655446550800166, 5: 0.2199094237154259, 6: 0.10587024847016649, 7: 0.051690571720263465, 8: 0.5659374324891963, 9: 0.31742036226966736, 10: 0.3337974003555973, 11: 0.19422930865035856, 12: 0.849152166796076, 13: 0.1433086917562724, 14: 0.3449080087919814, 15: 0.007788084930942074, 16: 0.018973781858032335, 17: 0.0007936507936507937, 18: 0.16768535156058947, 19: 0.8188041041740933, 20: 0.2513384359244306, 21: 0.8141450804843569, 22: 0.4374656956758096, 23: 0.6977986746292546, 24: 0.18257763254307285, 25: 0.02333333333333333, 26: 0.9321882566585956, 27: 0.7251392090422139, 28: 0.20579549035044584, 29: 0.08854961582334082, 30: 0.0, 31: 0.3039295888355042, 32: 0.14936323408278665, 33: 0.7558568685883837, 34: 0.02106837606837607, 35: 0.49550733969193506, 36: 0.04565088245708229, 37: 0.7660386423063353, 38: 0.0, 39: 0.7922591321516989, 40: 0.0032624434389140274, 41: 0.057473390069709834, 42: 0.0, 43: 0.6118620615965757, 44: 0.02753527551232041, 45: 0.11720485245244477, 46: 0.7311616797878481, 47: 0.546799101522019, 48: 0.4193257469926508, 49: 0.5502767637342857, 50: 0.35528881746742297, 51: 0.2559530477281335, 52: 0.7016427223622687, 53: 0.1801839969703601, 54: 0.8589794345670201, 55: 0.8334983383811375, 56: 0.28717004140079355, 57: 0.8397665814617371, 58: 0.6189893751484251, 59: 0.24389354320215434, 60: 0.7737958622105995, 61: 0.1193031715966375, 62: 0.6698663556474308, 63: 0.5219226563617285, 64: 0.0002976190476190476, 65: 0.5609291568737135, 66: 0.10881433384341581, 67: 0.5805266009265, 68: 0.6513330168351803, 69: 0.12502342209455006, 70: 0.0, 71: 0.040406664535024076, 72: 0.20219864527738843, 73: 0.6159018956037551, 74: 0.0, 75: 0.9327433166248956, 76: 0.733530608236256, 77: 0.43002664034227706, 78: 0.34080701149023607, 79: 0.14049046499477535, 80: 0.7494659462752047, 81: 0.8254239418496646, 82: 0.42160953976372717, 83: 0.10342202028414843, 84: 0.0755719222895366, 85: 0.7416124354847857, 86: 0.08065476190476191, 87: 0.0, 88: 0.880867464036628, 89: 0.9666666666666667, 90: 0.3043008719069527, 91: 0.5644607455137168, 92: 0.826378822381262, 93: 0.9494202460173422, 94: 0.7322695035460993, 95: 0.6535491312190358, 96: 0.04084014260876786, 97: 0.5437311839042082, 98: 0.5871639992256662, 99: 0.5812210639827787, 100: 0.6271926485880855, 101: 0.5366998152751344, 102: 0.8109267651225205, 103: 0.8454130484442113, 104: 0.049121905737847776, 105: 0.012100512640953819, 106: 0.49517465637050584, 107: 0.639748424565695, 108: 0.429362227890273, 109: 0.6278743400381708, 110: 0.30067044018468037, 111: 0.1656785297851198, 112: 0.7807883246941427, 113: 0.6481312962867182, 114: 0.5804305127642816, 115: 0.9247049009500106, 116: 0.21280500487200107, 117: 0.5863701350430652, 118: 0.8865444349648749, 119: 0.8288687695287468, 120: 0.7264522203946656, 121: 0.31598415319240364, 122: 0.026122913921826967, 123: 0.42161242735930915, 124: 0.2086378740940338, 125: 0.04401418708916226, 126: 0.6206745483254349, 127: 0.01365741089251717, 128: 0.7819197500780838, 129: 0.07968349573742657, 130: 0.0, 131: 0.12432727344709936, 132: 0.7220066969121117, 133: 0.002348484848484849, 134: 0.02083429920300989, 135: 0.0030197132616487455, 136: 0.5044067254536929, 137: 0.36534735746452857, 138: 0.6596380935820644, 139: 0.3424599279730859, 140: 0.9152093596059114, 141: 0.6468269056858245, 142: 0.9066871089160055, 143: 0.06551934284140033, 144: 0.0007246376811594203, 145: 0.7684731537310227, 146: 0.0, 147: 0.03411998169728343, 148: 0.9296774177184468, 149: 0.08195613413175029, 150: 0.2121003239944225, 151: 0.5526882740957659, 152: 0.42197338655413064, 153: 0.48947621375562483, 154: 0.21459026503534703, 155: 0.12593194662849733, 156: 0.04567385274840234, 157: 0.8483575054226502, 158: 0.7968495188940649, 159: 0.7946433190097869, 160: 0.8526822221520989, 161: 0.7045801607015008, 162: 0.8485119047619047, 163: 0.8775484049244003, 164: 0.8082806270849436, 165: 0.22709374288455722, 166: 0.7816459856744964, 167: 0.1638145763627818, 168: 0.5557575673476373, 169: 0.23968436182951627, 170: 0.45624408060766597, 171: 0.8082287091563408, 172: 0.8648288802700568, 173: 0.11485550040947314, 174: 0.8301409165282114, 175: 0.34725469968872297, 176: 0.5123643752637038, 177: 0.0014338575393154488, 178: 0.6861901618741377, 179: 0.30418981381225785, 180: 0.05197995176894685, 181: 0.5356258052594054, 182: 0.06587013295346629, 183: 0.10659215791496217, 184: 0.4497554604845176, 185: 0.004122846108140226, 186: 0.06097554583776114, 187: 0.7091456851714734, 188: 0.0, 189: 0.7321174582070105, 190: 0.7605535805546743, 191: 0.0, 192: 0.9284792079406922, 193: 0.02115009746588694, 194: 0.009210526315789473, 195: 0.9310922787193973, 196: 0.057231998860651764, 197: 0.13821096964063187, 198: 0.0, 199: 0.4521517831448897, 200: 0.932579771119978, 201: 0.904044896057874, 202: 0.6664834699793211, 203: 0.11520683058829188, 204: 0.4879778060933035, 205: 0.8175309426745855, 206: 0.48398848552305473, 207: 0.5978593697270463, 208: 0.754859566471382, 209: 0.9830555555555556, 210: 0.2629248224680807, 211: 0.5455368482510411, 212: 0.14279589533665887, 213: 0.8333886861408898, 214: 0.9827730696798493, 215: 0.0009259259259259259, 216: 0.440038858289504, 217: 0.26269538285905136, 218: 0.8398059018741486, 219: 0.48178801442848657, 220: 0.5676413249460204, 221: 1.0, 222: 0.7614835338474127, 223: 0.0011111111111111111, 224: 0.08850445229513462, 225: 0.3689004738783919, 226: 0.4072937429166899, 227: 0.027025583618731034, 228: 0.5014120464388141, 229: 0.0, 230: 0.8221525872246862, 231: 0.639654792046973, 232: 0.03738095238095238, 233: 0.02778427750410509, 234: 0.778157997959879, 235: 0.24702111494495255, 236: 0.8330257629621435, 237: 0.23157318142004124, 238: 0.9485626965572904, 239: 0.04902797855739032, 240: 0.5705656563821886, 241: 0.19556253457983164, 242: 0.3187125371133524, 243: 0.001555104800540906, 244: 0.0, 245: 0.6351636965723342, 246: 0.8714126690965143, 247: 0.055393474718, 248: 0.000901510029299076, 249: 0.8454012597755185}\n",
            "\n"
          ],
          "name": "stdout"
        }
      ]
    },
    {
      "cell_type": "code",
      "metadata": {
        "colab": {
          "base_uri": "https://localhost:8080/"
        },
        "id": "CfmbpAB3Lkjk",
        "outputId": "ccfd2184-d33c-4d50-c531-fb2174ebfdc3"
      },
      "source": [
        "# 20 queries per class (250*20 = 5000) first run\r\n",
        "\r\n",
        "no_index_base = NO_INDEX()\r\n",
        "no_index_base.insert(np.vstack((sketches_features_train, mirflickr_features)), \r\n",
        "              np.concatenate((sketches_generator_train.filenames, mirflickr_generator.filenames)), \r\n",
        "              np.concatenate((sketches_generator_train.labels, np.array([250] * mirflickr_features.shape[0]))))\r\n",
        "\r\n",
        "print('mAP on train')\r\n",
        "print('Euclidean mAP')\r\n",
        "print(mAP_per_label(no_index_base, sketches_features_train, 5000, img_per_labels=train_images_per_class))\r\n",
        "print('Cosine mAP')\r\n",
        "print(mAP_per_label(no_index_base, sketches_features_train, 5000, mode = 'similarity', img_per_labels=train_images_per_class))\r\n",
        "print('')\r\n",
        "\r\n",
        "print('mAP using test as query on train')\r\n",
        "\r\n",
        "print('Euclidean mAP')\r\n",
        "print(mAP_per_label(no_index_base, sketches_features_test, 5000, img_per_labels=test_images_per_class, check_first_label=False, n_ground_truth=train_images_per_class))\r\n",
        "print('Cosine mAP')\r\n",
        "print(mAP_per_label(no_index_base, sketches_features_test, 5000, mode = 'similarity', img_per_labels=test_images_per_class, check_first_label=False, n_ground_truth=train_images_per_class))\r\n",
        "print('')\r\n"
      ],
      "execution_count": null,
      "outputs": [
        {
          "output_type": "stream",
          "text": [
            "mAP on train\n",
            "Euclidean mAP\n",
            "{0: 0.41653948885272607, 1: 0.5181348972504611, 2: 0.3404292274106406, 3: 0.45706896427105315, 4: 0.6550197876781823, 5: 0.38875840312436466, 6: 0.1109792143869841, 7: 0.1362382454605243, 8: 0.49943853116755543, 9: 0.519441303426431, 10: 0.2860833825860482, 11: 0.21909240329474353, 12: 0.5237084931782807, 13: 0.2501863924195347, 14: 0.18082417371079898, 15: 0.08065150128126881, 16: 0.09194052084105545, 17: 0.40440859384134853, 18: 0.21148339438190167, 19: 0.6540657816893309, 20: 0.15176283762277937, 21: 0.6496589935741851, 22: 0.3314525187727759, 23: 0.44677607657708707, 24: 0.4199233826197425, 25: 0.2162637010659577, 26: 0.7164379902826586, 27: 0.3416371483458332, 28: 0.5994164065828917, 29: 0.4225669160734059, 30: 0.1050489757119529, 31: 0.1644044674350533, 32: 0.15897289856228095, 33: 0.3716115340975566, 34: 0.07527141397193873, 35: 0.5486017381299376, 36: 0.2641440013297104, 37: 0.4271858675229492, 38: 0.1778458606358665, 39: 0.5372058647010978, 40: 0.4669481222882534, 41: 0.3232585220433858, 42: 0.42266721932621215, 43: 0.24572317626830803, 44: 0.1382219516687377, 45: 0.16500115505640076, 46: 0.3526960833087696, 47: 0.26257343528895605, 48: 0.2162358481349241, 49: 0.42159269484109724, 50: 0.38575307139258197, 51: 0.12700602669180078, 52: 0.24924091593997866, 53: 0.4672290383925457, 54: 0.5306392890306841, 55: 0.5965007833390236, 56: 0.2855735305126701, 57: 0.5978219384527936, 58: 0.21645809719927867, 59: 0.2715461262851463, 60: 0.5522729239146797, 61: 0.15351522806854173, 62: 0.2705837439500828, 63: 0.2534534132116396, 64: 0.10579853748872733, 65: 0.22073488820504128, 66: 0.14197717883149025, 67: 0.4063634237961312, 68: 0.5135185847350235, 69: 0.2426068328919535, 70: 0.15413885347097755, 71: 0.09438233779796404, 72: 0.1985318874047574, 73: 0.395309659923819, 74: 0.4808093633907794, 75: 0.7707684132052512, 76: 0.5841920660744723, 77: 0.4171742276095314, 78: 0.3167196777483835, 79: 0.41059578746747166, 80: 0.2649881621140581, 81: 0.3728925510902389, 82: 0.32527685427782715, 83: 0.28025082148865815, 84: 0.3815616186411475, 85: 0.37265367769582863, 86: 0.1889589203916601, 87: 0.10202810940401807, 88: 0.6354554089895182, 89: 0.7105012920644331, 90: 0.3211772530016024, 91: 0.5336524055441078, 92: 0.5112520483813033, 93: 0.5747072944745153, 94: 0.4596592603800028, 95: 0.4696996684799868, 96: 0.3694472827015535, 97: 0.5294624054659319, 98: 0.572270801062565, 99: 0.3519735659109553, 100: 0.40800720320140316, 101: 0.2817555750492536, 102: 0.571656080476062, 103: 0.5300447426747945, 104: 0.6464445933983917, 105: 0.46808929776985575, 106: 0.49412516653399824, 107: 0.6136737074746241, 108: 0.26327750256731586, 109: 0.6025796075570778, 110: 0.3054554499950835, 111: 0.5923687307745323, 112: 0.29213780205802176, 113: 0.30602306534072715, 114: 0.41482801388117335, 115: 0.5880541454365832, 116: 0.2877358683107035, 117: 0.3304892713081652, 118: 0.6285315727734743, 119: 0.6037887447116348, 120: 0.36737542780363974, 121: 0.46924568111755605, 122: 0.32317397384485413, 123: 0.18855656221120573, 124: 0.2425410023866522, 125: 0.1398476013903796, 126: 0.2953572421632625, 127: 0.37047889244334614, 128: 0.4383881462348599, 129: 0.3799066366746534, 130: 0.5349733715302964, 131: 0.1400031311088497, 132: 0.5217226443333176, 133: 0.24388781401093462, 134: 0.5824084607056095, 135: 0.3174468209115038, 136: 0.48879053426123625, 137: 0.2630986259347149, 138: 0.3647319713233791, 139: 0.47618498162515766, 140: 0.6631944145590454, 141: 0.25343610833476354, 142: 0.5588434995093956, 143: 0.18512150440050296, 144: 0.593133335866977, 145: 0.304551699981774, 146: 0.431901376508257, 147: 0.18472741495623177, 148: 0.7094091006534218, 149: 0.19873987152930667, 150: 0.3534289865308894, 151: 0.25834567684909965, 152: 0.3125135944875338, 153: 0.15652716076248005, 154: 0.24665536095816348, 155: 0.2383211001269093, 156: 0.13193923300662974, 157: 0.7241803479947275, 158: 0.6089688078563763, 159: 0.43075700655086335, 160: 0.6537057813763438, 161: 0.6507573705104773, 162: 0.5025407246035501, 163: 0.4019365878724973, 164: 0.5402859132064884, 165: 0.18387025363366927, 166: 0.40700553054074157, 167: 0.17711947909732495, 168: 0.2724016880777792, 169: 0.48868596065993514, 170: 0.5117192332629501, 171: 0.5311747363760911, 172: 0.6230250747524052, 173: 0.5193455315057707, 174: 0.5148404912875665, 175: 0.4273292781818959, 176: 0.2465474244776425, 177: 0.3718595176650137, 178: 0.5468055487549123, 179: 0.7335579752892196, 180: 0.36148698213404745, 181: 0.5202616198054973, 182: 0.5993640206825099, 183: 0.07752730146465443, 184: 0.3058272589879369, 185: 0.36229213818805867, 186: 0.25980255409866915, 187: 0.40793957002000203, 188: 0.45698238754354203, 189: 0.4705369825537769, 190: 0.5678885043761065, 191: 0.06570836530657123, 192: 0.6066147372234365, 193: 0.5196511721323738, 194: 0.2003207535948896, 195: 0.7042076653144791, 196: 0.3951871720718937, 197: 0.11918618994209533, 198: 0.1355532016730598, 199: 0.39546284018996275, 200: 0.7170161417593486, 201: 0.6998239556115727, 202: 0.321327703938519, 203: 0.11377560824981683, 204: 0.48907351452386616, 205: 0.672136577891288, 206: 0.3853708961430448, 207: 0.23587707747416126, 208: 0.45501774555980523, 209: 0.8379046957823775, 210: 0.16420422007850236, 211: 0.28804380214247616, 212: 0.47913727912810977, 213: 0.5882548132184565, 214: 0.8190704024775896, 215: 0.4207873859359637, 216: 0.1921070938876178, 217: 0.2776644999234774, 218: 0.5254663358385254, 219: 0.4257033718358956, 220: 0.33063719344876513, 221: 0.9085600437679731, 222: 0.41632571383132266, 223: 0.29676302877426564, 224: 0.16225951016971904, 225: 0.34732740815307117, 226: 0.6167638203573381, 227: 0.44048759963569817, 228: 0.5823696374488501, 229: 0.5796013635422043, 230: 0.5321423354934731, 231: 0.32346852192851194, 232: 0.5534379207314487, 233: 0.5846180549682864, 234: 0.5929401417289115, 235: 0.17494423053034047, 236: 0.6147467783168609, 237: 0.3529848379838535, 238: 0.7665546528133244, 239: 0.21228712799709984, 240: 0.2941067353886315, 241: 0.4827273873884196, 242: 0.3403213416270331, 243: 0.4623856265395938, 244: 0.6671695799494184, 245: 0.510821842979315, 246: 0.5081044830476008, 247: 0.6527687117024559, 248: 0.6487216086677827, 249: 0.6856237516994891}\n",
            "Cosine mAP\n",
            "{0: 0.536130591233638, 1: 0.9125080289202652, 2: 0.32725795267120816, 3: 0.4338047439950771, 4: 0.7016573930873665, 5: 0.535226894095772, 6: 0.08375188377078183, 7: 0.15178132859847, 8: 0.66170442347862, 9: 0.531977225045002, 10: 0.3971072419206304, 11: 0.2779092055795949, 12: 0.7213131580177919, 13: 0.21592019307472365, 14: 0.24280894367090688, 15: 0.20939888562841005, 16: 0.05598429939330901, 17: 0.4833267577668307, 18: 0.24213727568398, 19: 0.6686299583474531, 20: 0.21281543234622666, 21: 0.7856976849966639, 22: 0.4206137466720947, 23: 0.5208935610808749, 24: 0.44121096002734606, 25: 0.1888981745611553, 26: 0.8081475899231384, 27: 0.5326006285684228, 28: 0.6222646350263216, 29: 0.5027021066541358, 30: 0.09332366560713566, 31: 0.265793237897164, 32: 0.19446679015560792, 33: 0.5318251569506132, 34: 0.09980302550915414, 35: 0.694123726081703, 36: 0.16998883425531902, 37: 0.5160314474062029, 38: 0.18168478257686718, 39: 0.6462324334383542, 40: 0.5273395633282865, 41: 0.38774735793972004, 42: 0.5374089428751295, 43: 0.30935125828193094, 44: 0.16230070486063788, 45: 0.24551864759929104, 46: 0.46082319080094913, 47: 0.44457940935123536, 48: 0.2728652378606734, 49: 0.3790386184944281, 50: 0.590362273442169, 51: 0.1719721699790026, 52: 0.42473069103573036, 53: 0.5732147878088629, 54: 0.592477938899617, 55: 0.7094951500888438, 56: 0.5154832604729799, 57: 0.6820522112296987, 58: 0.2614071485712698, 59: 0.2827185807735952, 60: 0.5851887919593463, 61: 0.2504405982932151, 62: 0.4435437027350145, 63: 0.37793735847825644, 64: 0.13309956255810346, 65: 0.2567114485977001, 66: 0.15709678751572242, 67: 0.4838344038982406, 68: 0.6263778530611612, 69: 0.3158140647018253, 70: 0.18025733898674262, 71: 0.15957332409538413, 72: 0.19887297205331966, 73: 0.6223655481681718, 74: 0.6500937637529971, 75: 0.824684561270303, 76: 0.800329607288208, 77: 0.6939101026345411, 78: 0.29185729672749827, 79: 0.48665457238279586, 80: 0.4382974172162811, 81: 0.5842250352047689, 82: 0.40085989724633303, 83: 0.28582217304419816, 84: 0.5451646637538102, 85: 0.5229179104617827, 86: 0.23173136673738629, 87: 0.16087390574100913, 88: 0.8461821642136471, 89: 0.9059704853556045, 90: 0.31289667149918554, 91: 0.5273361651257135, 92: 0.6851161472601313, 93: 0.8682405294329969, 94: 0.5912964107476807, 95: 0.529787582433446, 96: 0.4800320658541941, 97: 0.495689200927402, 98: 0.8090765876885084, 99: 0.6665258750723821, 100: 0.498377710309576, 101: 0.2999823292745908, 102: 0.62712059404936, 103: 0.803048804741153, 104: 0.5987590864114274, 105: 0.34264039207500396, 106: 0.49760224955589216, 107: 0.6135635850657334, 108: 0.3771843711882067, 109: 0.673180073206479, 110: 0.3410562886422946, 111: 0.6796060852302258, 112: 0.558177080711444, 113: 0.5128933895368426, 114: 0.463322682293345, 115: 0.6472480944651788, 116: 0.32698625345816484, 117: 0.5582909073183401, 118: 0.8974213503716889, 119: 0.7967377498452846, 120: 0.5318015866515651, 121: 0.5076879401135087, 122: 0.39148285903348135, 123: 0.21385457429025423, 124: 0.26733107614052726, 125: 0.1045790042981212, 126: 0.41689395382049516, 127: 0.3784105126139611, 128: 0.5836683528292328, 129: 0.38718560052700024, 130: 0.5326456761389545, 131: 0.22154290572787577, 132: 0.5810529252678306, 133: 0.3429137655364555, 134: 0.5017575847440032, 135: 0.24241480049926775, 136: 0.527343491035417, 137: 0.316425164354929, 138: 0.47149455711156174, 139: 0.5197924524246773, 140: 0.8085978791482893, 141: 0.27898843739210877, 142: 0.8154846755661266, 143: 0.1561683428554328, 144: 0.5225925261528263, 145: 0.5466035150486499, 146: 0.5504421898216787, 147: 0.11782816349953582, 148: 0.7536259422554361, 149: 0.27232631818237085, 150: 0.4210243263019883, 151: 0.1940438075944854, 152: 0.39984774547080854, 153: 0.33200701587834053, 154: 0.2855704536736972, 155: 0.18617181597375104, 156: 0.1202759064105283, 157: 0.8067180942849024, 158: 0.6781553815659156, 159: 0.6692861102467116, 160: 0.8559481075932031, 161: 0.7611965460101702, 162: 0.708594343017433, 163: 0.7620405237306092, 164: 0.5279780073858329, 165: 0.20630706199416834, 166: 0.4644722728457256, 167: 0.16794831175880615, 168: 0.3846137332047404, 169: 0.8023481036804941, 170: 0.628241459566087, 171: 0.5159065743251879, 172: 0.7495429170522264, 173: 0.5676707244346484, 174: 0.67860174088913, 175: 0.5244035245347443, 176: 0.34832839905513235, 177: 0.40444662369707396, 178: 0.7373961432511764, 179: 0.8004946061373468, 180: 0.4496443531338299, 181: 0.5493984485737204, 182: 0.6592072759721286, 183: 0.09488139537844877, 184: 0.35434267953385906, 185: 0.36481339559755777, 186: 0.40261796072986983, 187: 0.533037882521652, 188: 0.5204935192943179, 189: 0.6391934879575598, 190: 0.7122105666718702, 191: 0.0888228109174098, 192: 0.9109677388410626, 193: 0.6444915672094302, 194: 0.2955784389908143, 195: 0.8406508043571792, 196: 0.42198819827106976, 197: 0.16305754907312286, 198: 0.1752380118031678, 199: 0.3725106852798806, 200: 0.8741686236870916, 201: 0.8588083183752551, 202: 0.2606028608586427, 203: 0.12179421669913196, 204: 0.3454456602335689, 205: 0.727441413705707, 206: 0.4379708702873143, 207: 0.358837384348487, 208: 0.5775086877032516, 209: 0.9600594516256236, 210: 0.18291328664112677, 211: 0.4212439825503953, 212: 0.4688384729201599, 213: 0.7804620163168495, 214: 0.8625915805080295, 215: 0.5116347689438488, 216: 0.21430372502333267, 217: 0.251317065703106, 218: 0.4881165791244837, 219: 0.4710275917199108, 220: 0.36248202579839994, 221: 0.9740202859801492, 222: 0.5486557699828456, 223: 0.26099014957680744, 224: 0.1244792932661738, 225: 0.3655872227945301, 226: 0.6468835358654513, 227: 0.4088603789376629, 228: 0.6295854982998297, 229: 0.4887232209454848, 230: 0.6018111733543802, 231: 0.45420778122604305, 232: 0.6098565808682803, 233: 0.6241990929860651, 234: 0.717593089663173, 235: 0.2034786901314003, 236: 0.7465810902914617, 237: 0.3062423594152343, 238: 0.9415719036820231, 239: 0.18459499736706758, 240: 0.3186858799467313, 241: 0.43384893889979737, 242: 0.5505550553311234, 243: 0.5250149185792735, 244: 0.6618640300260396, 245: 0.624864898323986, 246: 0.6764365664486911, 247: 0.8508936606811126, 248: 0.7817293355973343, 249: 0.816162994016935}\n",
            "\n",
            "mAP using test as query on train\n",
            "Euclidean mAP\n",
            "{0: 0.4380797691552001, 1: 0.44412338937319984, 2: 0.20573728129197918, 3: 0.4508920512182719, 4: 0.64381639497924, 5: 0.36357994665948123, 6: 0.16093580498688492, 7: 0.04640183143881599, 8: 0.5236539077347959, 9: 0.40688584580877796, 10: 0.2052722147544614, 11: 0.3256401356345115, 12: 0.47702425578986496, 13: 0.1202426214697431, 14: 0.11046773557576091, 15: 0.05424090250093724, 16: 0.1288092473329458, 17: 0.23217926771964578, 18: 0.0740419499093853, 19: 0.4775244611082722, 20: 0.10578785640042714, 21: 0.675297443051482, 22: 0.22575834918331278, 23: 0.5785128576588167, 24: 0.3255983461160773, 25: 0.18081910372706286, 26: 0.6655495385150342, 27: 0.37314327335786707, 28: 0.5988227153209795, 29: 0.38065849049656564, 30: 0.07347071203328566, 31: 0.1427976319389461, 32: 0.08827925649140389, 33: 0.4383275024293146, 34: 0.048217390966932554, 35: 0.3839830126763259, 36: 0.11763926228278868, 37: 0.429568376927301, 38: 0.06600958018867471, 39: 0.5962060801403097, 40: 0.5659826150658354, 41: 0.24340033017452528, 42: 0.4376709221144616, 43: 0.3818617692021575, 44: 0.15558316292360458, 45: 0.1520371662424645, 46: 0.41898800507933087, 47: 0.2233853854895127, 48: 0.1126903078822652, 49: 0.39323292477687327, 50: 0.39573926530020387, 51: 0.14038992321872007, 52: 0.25886716597455706, 53: 0.45895925599496457, 54: 0.49391068662184123, 55: 0.35536927135609214, 56: 0.3373582278029112, 57: 0.31731178673838784, 58: 0.30668260792107016, 59: 0.1691599454023162, 60: 0.5138755410339784, 61: 0.22031672091996723, 62: 0.37499771305779456, 63: 0.24493439291865746, 64: 0.12330226104841882, 65: 0.24212228723203988, 66: 0.10625790624628975, 67: 0.3546569239626064, 68: 0.3383133593884917, 69: 0.061623567261388915, 70: 0.08693072293075745, 71: 0.08175882706899887, 72: 0.14268638308039483, 73: 0.5013775894829297, 74: 0.29978744524247747, 75: 0.7411934661199713, 76: 0.5764493867734369, 77: 0.4884783865632999, 78: 0.28782530610937584, 79: 0.2624057730498307, 80: 0.22459311114129762, 81: 0.48594577765010627, 82: 0.2253205904422569, 83: 0.23868317528224217, 84: 0.1966741938510172, 85: 0.45177456759784695, 86: 0.09267113764161418, 87: 0.16299281885879915, 88: 0.577351808641745, 89: 0.6395722475275744, 90: 0.31070097580927636, 91: 0.5650267407992081, 92: 0.5105632560624009, 93: 0.7882110754463012, 94: 0.4874366848023276, 95: 0.3399136631411363, 96: 0.31909660762388903, 97: 0.41278997100893033, 98: 0.4932450914776257, 99: 0.30174984793035897, 100: 0.2927037994248085, 101: 0.09852045467146467, 102: 0.46878602173160167, 103: 0.45538302535660813, 104: 0.5124890008162648, 105: 0.33852062277174405, 106: 0.2928274586018937, 107: 0.5001656812822532, 108: 0.2527386058691239, 109: 0.28126571352000435, 110: 0.31058655271844776, 111: 0.5198199778055284, 112: 0.5386210008632257, 113: 0.40596577259314737, 114: 0.3043997887838881, 115: 0.56382633512862, 116: 0.3424226377734419, 117: 0.29065281999444226, 118: 0.6788564024634572, 119: 0.5388445678037916, 120: 0.29268599560816927, 121: 0.4015886757085417, 122: 0.315335026935733, 123: 0.2014494295454942, 124: 0.17334086743990168, 125: 0.052595163135417435, 126: 0.3360922192541559, 127: 0.16189197138557357, 128: 0.27512495737496057, 129: 0.30426873611111, 130: 0.3923970763766654, 131: 0.0975163813467533, 132: 0.5128844318717686, 133: 0.28424144803289997, 134: 0.3331945154840411, 135: 0.13397795270613794, 136: 0.2571491748489624, 137: 0.2687792795472456, 138: 0.3347940799709917, 139: 0.5296539226217026, 140: 0.7359365692379276, 141: 0.19920746505734335, 142: 0.4807128297717621, 143: 0.1801781225989541, 144: 0.4794858308151687, 145: 0.40777538177569916, 146: 0.23397005903681212, 147: 0.087851584075088, 148: 0.778079202377891, 149: 0.19710059844898498, 150: 0.25979368773149203, 151: 0.26259825624025257, 152: 0.330945667218537, 153: 0.12102048858216514, 154: 0.20965145481885528, 155: 0.19776693202663673, 156: 0.15404838976720772, 157: 0.7581546981110214, 158: 0.5278477585844603, 159: 0.44744593285468925, 160: 0.4965425343833288, 161: 0.5101879602106064, 162: 0.42948742034683224, 163: 0.5699386873924557, 164: 0.5086692739257626, 165: 0.06263809431753219, 166: 0.44850757070333647, 167: 0.10388059018859079, 168: 0.31742755261075606, 169: 0.3577181612779733, 170: 0.640811285531053, 171: 0.3964578707061047, 172: 0.44447899798147317, 173: 0.48905117778586193, 174: 0.6100828389851832, 175: 0.3584755333961175, 176: 0.13929614332015774, 177: 0.08749803043527342, 178: 0.43279801130543405, 179: 0.6151250548549558, 180: 0.3309338422286792, 181: 0.5148698311662676, 182: 0.4155905180086193, 183: 0.06512002318884368, 184: 0.3018767181688913, 185: 0.42564008314214286, 186: 0.14426914410482855, 187: 0.5384248275606314, 188: 0.4745300395353838, 189: 0.2914361642915806, 190: 0.5657824901411093, 191: 0.029903536055612974, 192: 0.6520673422332612, 193: 0.43308535161386824, 194: 0.11953793571077362, 195: 0.7432476419457171, 196: 0.19704699107533585, 197: 0.11040276201345223, 198: 0.09813289512067658, 199: 0.2358849326021089, 200: 0.7791216878796325, 201: 0.6424987320188263, 202: 0.1389611438555577, 203: 0.08423810176911199, 204: 0.21484468610641905, 205: 0.8085889659610868, 206: 0.4775539220690111, 207: 0.2691713058117736, 208: 0.38145493924661555, 209: 0.7935733281570958, 210: 0.17019968761974422, 211: 0.3602405337430704, 212: 0.37696304461016544, 213: 0.6260079072139552, 214: 0.7329731919879967, 215: 0.4923091122185859, 216: 0.1165576435697038, 217: 0.1987455830799997, 218: 0.6060943895558889, 219: 0.4339774580656373, 220: 0.22596004646882256, 221: 0.8766115709984043, 222: 0.5758572977313041, 223: 0.31125720812966007, 224: 0.12577787929541231, 225: 0.3017224208573287, 226: 0.4064532065658281, 227: 0.33320770903746744, 228: 0.7458666470431312, 229: 0.42719811201426416, 230: 0.5456431259784968, 231: 0.19904705477169218, 232: 0.27916334976758683, 233: 0.5969260400369845, 234: 0.6685644213028666, 235: 0.09034138119708028, 236: 0.28169822194137617, 237: 0.2744855069827542, 238: 0.544685348966181, 239: 0.1460957685268763, 240: 0.21299738004244081, 241: 0.31368156177311807, 242: 0.4302877777966881, 243: 0.3946947435819723, 244: 0.4247767236753105, 245: 0.5434923892460776, 246: 0.7160985211628506, 247: 0.6966363997073194, 248: 0.4439333859954585, 249: 0.6644248010474726}\n",
            "Cosine mAP\n",
            "{0: 0.41979401379689074, 1: 0.8002910504919638, 2: 0.3453050541813144, 3: 0.5267591730430426, 4: 0.699882713297743, 5: 0.42152810886153924, 6: 0.10256530187438391, 7: 0.08158337493592088, 8: 0.5159512790469463, 9: 0.5372979685055058, 10: 0.40648860403382236, 11: 0.2401212708449177, 12: 0.4678053991378108, 13: 0.1756071135928567, 14: 0.24338941901234706, 15: 0.08949643078774026, 16: 0.08609102505416816, 17: 0.2630307700369818, 18: 0.10199289214679139, 19: 0.5229602460970455, 20: 0.14155050435700828, 21: 0.7751777973488134, 22: 0.2962757653755076, 23: 0.5882279489055399, 24: 0.3610215154810673, 25: 0.1772124594533211, 26: 0.747108452678994, 27: 0.4870350775316304, 28: 0.6103454810204161, 29: 0.4467065834674891, 30: 0.07701843580239169, 31: 0.23844644864693318, 32: 0.1071147981572933, 33: 0.48920744974621166, 34: 0.08105452728210896, 35: 0.5904452856832222, 36: 0.11412021150333777, 37: 0.6119754912063026, 38: 0.13964210809540925, 39: 0.607006182672148, 40: 0.3935104968963228, 41: 0.3750910998705031, 42: 0.5599732403946216, 43: 0.38500561122840316, 44: 0.14316780284018493, 45: 0.08476422300502492, 46: 0.5546126989438463, 47: 0.4310844429470766, 48: 0.14550514920949884, 49: 0.3531470225030331, 50: 0.62085346094208, 51: 0.20062900825708851, 52: 0.3524492558301427, 53: 0.5844873829324024, 54: 0.6665774872769499, 55: 0.6101236954776186, 56: 0.24684212905918712, 57: 0.5453776297807489, 58: 0.29719067876427696, 59: 0.2502090117951753, 60: 0.5445005676726222, 61: 0.12262840979647942, 62: 0.5037513015126227, 63: 0.3262859076965078, 64: 0.15803114967863674, 65: 0.35950223259351033, 66: 0.07885283375153698, 67: 0.39331618013392494, 68: 0.4296749503412537, 69: 0.14602595926592338, 70: 0.09483953188616899, 71: 0.10654881555833466, 72: 0.17456181921164426, 73: 0.6906158255791264, 74: 0.43643099603906094, 75: 0.864958617569744, 76: 0.6344514757747741, 77: 0.570174736200048, 78: 0.30795825493303575, 79: 0.47749914518639713, 80: 0.4121286074744515, 81: 0.6237794283238884, 82: 0.23773174326283616, 83: 0.2966777590550688, 84: 0.38628402128592026, 85: 0.25642669577790067, 86: 0.17815976165725106, 87: 0.10387113096417273, 88: 0.8441278712263331, 89: 0.8424575415583846, 90: 0.37282423094427986, 91: 0.4539572976797716, 92: 0.5126686699180478, 93: 0.8581439796171614, 94: 0.5417992726896953, 95: 0.42611782419467037, 96: 0.5256817104631891, 97: 0.29863028439045564, 98: 0.765260520112268, 99: 0.5515597976860745, 100: 0.44466517955776386, 101: 0.17107692350014753, 102: 0.5452995927948675, 103: 0.5175352593883019, 104: 0.4830157800363808, 105: 0.15756708756695245, 106: 0.47416464447633305, 107: 0.7210571178869839, 108: 0.3722831286765559, 109: 0.5782702387193814, 110: 0.35287343422585576, 111: 0.5906524856152104, 112: 0.5894556803111516, 113: 0.5211436441744397, 114: 0.3189018048308558, 115: 0.6947094635042251, 116: 0.4972336407556983, 117: 0.3246223101235068, 118: 0.7852123062451504, 119: 0.664332755985495, 120: 0.3257879338734913, 121: 0.5090071817125138, 122: 0.30548863281953637, 123: 0.21068127132731201, 124: 0.21176466069696148, 125: 0.04997333010551092, 126: 0.3861668398137653, 127: 0.23344868453523954, 128: 0.6143717728809732, 129: 0.293572523724258, 130: 0.5094699050439131, 131: 0.16440698495666456, 132: 0.5869127247628908, 133: 0.2636702632005049, 134: 0.48264882574268697, 135: 0.19300100338711973, 136: 0.3459224577830232, 137: 0.3011406507472022, 138: 0.4643394402212963, 139: 0.5710872999846603, 140: 0.8438802918222341, 141: 0.2552498938727917, 142: 0.7572042271290162, 143: 0.23153295962346304, 144: 0.6645916516247544, 145: 0.6215706543248875, 146: 0.26513226106023635, 147: 0.10310219028712637, 148: 0.8767655197595603, 149: 0.1735124075595585, 150: 0.3402784130795228, 151: 0.35002974915739155, 152: 0.45333251658478624, 153: 0.2490001850791642, 154: 0.23537600424062938, 155: 0.1632196416556673, 156: 0.10437452575424407, 157: 0.8311935378593353, 158: 0.6810661086279952, 159: 0.5912796860702374, 160: 0.7681621903524831, 161: 0.7100934646584619, 162: 0.5633776988018703, 163: 0.6888453725514665, 164: 0.5271470814011261, 165: 0.12927703439130847, 166: 0.3140399047180973, 167: 0.0816176114194312, 168: 0.36565460248919784, 169: 0.5684925615670917, 170: 0.5826905731338414, 171: 0.47878803679875537, 172: 0.6521809709616819, 173: 0.6353321638095037, 174: 0.6516752312571195, 175: 0.38086630698062374, 176: 0.25977334499286175, 177: 0.16017311244635996, 178: 0.5617090135477159, 179: 0.6115932622806202, 180: 0.38564659815180635, 181: 0.5751803643918283, 182: 0.4017425152884272, 183: 0.07212372014653567, 184: 0.42241551028915947, 185: 0.2714221552293546, 186: 0.21747760187292045, 187: 0.5819205698207227, 188: 0.5299190509231215, 189: 0.45024853893701805, 190: 0.6922541243586677, 191: 0.017704454390592365, 192: 0.7527618090503443, 193: 0.5595276892306141, 194: 0.11560249255254607, 195: 0.9122858515743779, 196: 0.3968838458786216, 197: 0.11075003465818627, 198: 0.09351687096791177, 199: 0.16341280569597721, 200: 0.8471376349153565, 201: 0.5957107150032889, 202: 0.20339793412831053, 203: 0.06646036007486887, 204: 0.2753592145136744, 205: 0.8348542627367248, 206: 0.4599144946849347, 207: 0.3368196111331518, 208: 0.23871844020954414, 209: 0.9781661958568739, 210: 0.1792504037891916, 211: 0.2976014652615242, 212: 0.5535247362162454, 213: 0.5501078432086284, 214: 0.857686899827898, 215: 0.5316201650525331, 216: 0.1625298099094497, 217: 0.20270593475823406, 218: 0.6753046524818773, 219: 0.4310501645817973, 220: 0.2378539482671112, 221: 0.9066298435557218, 222: 0.46783166575101165, 223: 0.2417909255584192, 224: 0.09862442136586938, 225: 0.31396972709121074, 226: 0.6214635055633739, 227: 0.33955873661974956, 228: 0.7826377097810171, 229: 0.5285984335105266, 230: 0.5165458286453402, 231: 0.3195211371029382, 232: 0.6380674930219217, 233: 0.5320181379243382, 234: 0.7302913957291077, 235: 0.16390322980819613, 236: 0.5337398030332283, 237: 0.14998040398642662, 238: 0.777078106328465, 239: 0.1272151064735557, 240: 0.19960650130672325, 241: 0.32137079403425395, 242: 0.38941805625677095, 243: 0.4656211307786208, 244: 0.5142066477210626, 245: 0.5241877233704317, 246: 0.6963084596665811, 247: 0.7962049144174776, 248: 0.5194178241316156, 249: 0.7070474519022396}\n",
            "\n"
          ],
          "name": "stdout"
        }
      ]
    },
    {
      "cell_type": "code",
      "metadata": {
        "colab": {
          "base_uri": "https://localhost:8080/"
        },
        "id": "BrOlLqIiMC1L",
        "outputId": "67cab420-2207-442d-d1d6-b2d20ba568f3"
      },
      "source": [
        "# 20 queries per class (250*20 = 5000) second run\r\n",
        "\r\n",
        "print('mAP on train')\r\n",
        "print('Euclidean mAP')\r\n",
        "print(mAP_per_label(no_index_base, sketches_features_train, 5000, img_per_labels=train_images_per_class))\r\n",
        "print('Cosine mAP')\r\n",
        "print(mAP_per_label(no_index_base, sketches_features_train, 5000, mode = 'similarity', img_per_labels=train_images_per_class))\r\n",
        "print('')\r\n",
        "\r\n",
        "print('mAP using test as query on train')\r\n",
        "\r\n",
        "print('Euclidean mAP')\r\n",
        "print(mAP_per_label(no_index_base, sketches_features_test, 5000, img_per_labels=test_images_per_class, check_first_label=False, n_ground_truth=train_images_per_class))\r\n",
        "print('Cosine mAP')\r\n",
        "print(mAP_per_label(no_index_base, sketches_features_test, 5000, mode = 'similarity', img_per_labels=test_images_per_class, check_first_label=False, n_ground_truth=train_images_per_class))\r\n",
        "print('')\r\n",
        "\r\n",
        "del no_index_base"
      ],
      "execution_count": null,
      "outputs": [
        {
          "output_type": "stream",
          "text": [
            "mAP on train\n",
            "Euclidean mAP\n",
            "{0: 0.3200195145526438, 1: 0.7075410674518453, 2: 0.3291976035978025, 3: 0.3565843540010328, 4: 0.7086878579042903, 5: 0.42640858744698146, 6: 0.12234204104949102, 7: 0.15966820627290704, 8: 0.5417034017963875, 9: 0.4701038987420053, 10: 0.33096190851990276, 11: 0.2592678698305366, 12: 0.47046235482123827, 13: 0.14029124850733926, 14: 0.2423185867999214, 15: 0.20085556369664012, 16: 0.08485398865881422, 17: 0.33234747779153895, 18: 0.24831106243672435, 19: 0.5783162624507633, 20: 0.25320618541830303, 21: 0.5881590782085337, 22: 0.33499828292009337, 23: 0.4907619312973367, 24: 0.26773540396500306, 25: 0.19048076764527686, 26: 0.6518423582982317, 27: 0.36095787527601625, 28: 0.6193359035106646, 29: 0.30894174009759523, 30: 0.07958513153610988, 31: 0.14127898805525804, 32: 0.13321150847130223, 33: 0.6079949721203538, 34: 0.1114447820921463, 35: 0.48812586450892576, 36: 0.22958423577644577, 37: 0.504853557023187, 38: 0.07543916534458946, 39: 0.5869744136543531, 40: 0.493375056493832, 41: 0.36588994628704075, 42: 0.3219330935560415, 43: 0.35986972677372475, 44: 0.14626694378010702, 45: 0.20642737631907465, 46: 0.4465230586199704, 47: 0.2649004788271535, 48: 0.1549140491227063, 49: 0.4379698859781188, 50: 0.44994079822134136, 51: 0.09613552008845287, 52: 0.3750441604304017, 53: 0.44209414826093385, 54: 0.39428125375173334, 55: 0.6463117417182687, 56: 0.4624343725515786, 57: 0.6372951856897069, 58: 0.24193281305581493, 59: 0.17041201704998216, 60: 0.5687347552339997, 61: 0.1602382681430133, 62: 0.43580539473845975, 63: 0.17833899275506476, 64: 0.15043269629798459, 65: 0.18744480445409695, 66: 0.12331574217507654, 67: 0.35848425335363443, 68: 0.4640097785879835, 69: 0.16849776008494607, 70: 0.19436216180878638, 71: 0.1224552440184176, 72: 0.2277603608845483, 73: 0.3462746649765444, 74: 0.4157965635696055, 75: 0.7685027250050948, 76: 0.643945960833871, 77: 0.45703426602775554, 78: 0.31824448079512513, 79: 0.44522226271354653, 80: 0.29395777013593355, 81: 0.3759609428884408, 82: 0.4095733105190577, 83: 0.21055860891239547, 84: 0.47187029386199075, 85: 0.4360856617907832, 86: 0.21726643550085845, 87: 0.1062458247494521, 88: 0.6422657153044378, 89: 0.8299332952392137, 90: 0.2918462210935556, 91: 0.5107023120559702, 92: 0.48157340481829064, 93: 0.5256610332973055, 94: 0.48727973647215794, 95: 0.409612267797342, 96: 0.33988499142224793, 97: 0.46642582998377036, 98: 0.47631302995207914, 99: 0.4844766811329467, 100: 0.4333040997471306, 101: 0.2841864639586216, 102: 0.5583415240290538, 103: 0.5734567119691399, 104: 0.40300067999160094, 105: 0.3286317782178486, 106: 0.5277360082456276, 107: 0.6169413360745059, 108: 0.3174433182036117, 109: 0.6055378443256585, 110: 0.30079255312461617, 111: 0.616643396547466, 112: 0.32976504292029046, 113: 0.31324232541745833, 114: 0.39675990341011375, 115: 0.5844772638813617, 116: 0.2941501548696003, 117: 0.42956733348934123, 118: 0.7811263700222197, 119: 0.48394210610589716, 120: 0.29836007557406596, 121: 0.4204527582873343, 122: 0.33988532920782666, 123: 0.20530183425832899, 124: 0.20188164032552014, 125: 0.12000069970173377, 126: 0.2709369751243346, 127: 0.376908356055407, 128: 0.4532797247698953, 129: 0.3097794349910021, 130: 0.4318216117871591, 131: 0.13155763477331456, 132: 0.5557153740749244, 133: 0.3557289992895646, 134: 0.42868679084867634, 135: 0.2606558099117753, 136: 0.5186461442820249, 137: 0.29680017296365385, 138: 0.4234166744417201, 139: 0.5459659064102892, 140: 0.6199483744010166, 141: 0.23812390280877618, 142: 0.6475712472735424, 143: 0.15062671506246547, 144: 0.47724476866139864, 145: 0.440271591326329, 146: 0.40521189850962963, 147: 0.15496849181635133, 148: 0.7627628870773299, 149: 0.1868489476970396, 150: 0.48244725332465954, 151: 0.2714632216735768, 152: 0.26543006684917547, 153: 0.32619614639784406, 154: 0.24424839078121785, 155: 0.1657435234252031, 156: 0.18649970463998636, 157: 0.5487733459651362, 158: 0.6125065074248686, 159: 0.4774098512926616, 160: 0.5947783270736156, 161: 0.6203421821338362, 162: 0.6357776387584917, 163: 0.543289474260818, 164: 0.35980587747018355, 165: 0.14096613386786488, 166: 0.4213430855300871, 167: 0.1993498545861157, 168: 0.23758203439768782, 169: 0.6530399335038461, 170: 0.5566779666951722, 171: 0.41713804101490304, 172: 0.5862644176799376, 173: 0.5354410950999255, 174: 0.5692518668059784, 175: 0.3902505860239923, 176: 0.32195492086990546, 177: 0.28671136423283333, 178: 0.5249830975369727, 179: 0.6370556996391293, 180: 0.3137838170788656, 181: 0.5010516186414302, 182: 0.49891236453900606, 183: 0.08924315139606442, 184: 0.3419131804547786, 185: 0.4561120780888473, 186: 0.3682952776140146, 187: 0.49000009249863935, 188: 0.40660477829951513, 189: 0.47289104281746813, 190: 0.6425404568061595, 191: 0.08016179362401336, 192: 0.8031843242009706, 193: 0.41795918328550813, 194: 0.14516657575187725, 195: 0.7367973834139339, 196: 0.4163659475091504, 197: 0.13455432201494405, 198: 0.13505041296662584, 199: 0.31155336107543896, 200: 0.784108994556106, 201: 0.7410533156781209, 202: 0.2518383452936638, 203: 0.09407368844816985, 204: 0.38085488868765327, 205: 0.650829952240551, 206: 0.4411917259072277, 207: 0.2618310874080412, 208: 0.5334793331892543, 209: 0.8442417391797683, 210: 0.13677995663766845, 211: 0.40552498480791305, 212: 0.5347197253355593, 213: 0.5925013883641947, 214: 0.815252987951957, 215: 0.40658902928283086, 216: 0.17245979981951326, 217: 0.2408538931569509, 218: 0.455788198557402, 219: 0.4528084486724763, 220: 0.2999464596552195, 221: 0.8750644401227519, 222: 0.5985950969775746, 223: 0.26839263609201597, 224: 0.1377198011875156, 225: 0.3976678300305023, 226: 0.6648682639866562, 227: 0.35734062922350773, 228: 0.6954441777359783, 229: 0.5137109254117366, 230: 0.48649897566731104, 231: 0.36044100998352957, 232: 0.5294704570340969, 233: 0.6136417775762866, 234: 0.6512321443581264, 235: 0.1353075605068067, 236: 0.5856849936366795, 237: 0.2565829653646264, 238: 0.8491516665257673, 239: 0.18739678604696547, 240: 0.27688380511880256, 241: 0.4232177748898033, 242: 0.4753280192523671, 243: 0.45796725131690713, 244: 0.5337924244027008, 245: 0.4827413445304093, 246: 0.6880987113148475, 247: 0.6694813438572393, 248: 0.5282911406184865, 249: 0.6765873457888671}\n",
            "Cosine mAP\n",
            "{0: 0.4476433172847358, 1: 0.9028340650266206, 2: 0.41298968160894517, 3: 0.507271012240023, 4: 0.7138494408231537, 5: 0.5276482691825247, 6: 0.09787245187885057, 7: 0.16404751408171087, 8: 0.7587604369970429, 9: 0.4355517108311072, 10: 0.40945022518952967, 11: 0.25865103757531965, 12: 0.6844716109715394, 13: 0.2530625710647782, 14: 0.2585309123935394, 15: 0.1664716699822687, 16: 0.08042879027679148, 17: 0.4020218351648147, 18: 0.22936846088930335, 19: 0.5016161213202761, 20: 0.21703076382509767, 21: 0.7439351098284415, 22: 0.38339440282782355, 23: 0.596689719670705, 24: 0.5108547412224292, 25: 0.253964627843541, 26: 0.7184085095545897, 27: 0.5077445541652152, 28: 0.5845701155908598, 29: 0.5572527978936967, 30: 0.08825987424922828, 31: 0.15851823324126432, 32: 0.12000542169301893, 33: 0.6151800448147496, 34: 0.11578956896088591, 35: 0.6787939913241141, 36: 0.22285671201011473, 37: 0.49808278898937025, 38: 0.28267917906201434, 39: 0.6548046229425928, 40: 0.7135787865126619, 41: 0.4496758351679201, 42: 0.5780768474608287, 43: 0.2357948340216211, 44: 0.16656174168511048, 45: 0.2646637960058887, 46: 0.4580588075754359, 47: 0.4094255726081385, 48: 0.24588362859839377, 49: 0.5253254243896054, 50: 0.5427062564322533, 51: 0.20255760578015347, 52: 0.4218475457063714, 53: 0.5371439522362963, 54: 0.6180877987581039, 55: 0.7284154322642327, 56: 0.4898461692732236, 57: 0.6742460521929592, 58: 0.3610009373932134, 59: 0.23396597799493984, 60: 0.5312884371931021, 61: 0.20974871192056246, 62: 0.3820741150541159, 63: 0.3437073638968453, 64: 0.10426267447602611, 65: 0.37921649297719473, 66: 0.09832325035550193, 67: 0.44325721155552056, 68: 0.597715543530547, 69: 0.19008668036214177, 70: 0.20212005092725088, 71: 0.2008491465722277, 72: 0.1970501832964352, 73: 0.5010574578297171, 74: 0.6749261262470095, 75: 0.8863620426192753, 76: 0.8115493218032176, 77: 0.5581940085367856, 78: 0.37884652906634536, 79: 0.5182242089543226, 80: 0.3524730098406611, 81: 0.6346426587447088, 82: 0.314246485017629, 83: 0.33873731569215987, 84: 0.45905718862726186, 85: 0.6526393967321907, 86: 0.2178806759229024, 87: 0.12736252175249077, 88: 0.6892188085900715, 89: 0.9050012738936161, 90: 0.38977563696093176, 91: 0.5126403681466811, 92: 0.6166774337539069, 93: 0.9094298603185139, 94: 0.6412440549923376, 95: 0.49989348930967037, 96: 0.46186333715158295, 97: 0.4540853608848292, 98: 0.8288661476549471, 99: 0.6221351128585944, 100: 0.40593781169111764, 101: 0.3432698383600712, 102: 0.6058181895854442, 103: 0.6771008002238246, 104: 0.5871133190521521, 105: 0.37830997890528056, 106: 0.45398356242662735, 107: 0.6804319852937755, 108: 0.33731870652414553, 109: 0.725105391397262, 110: 0.3656213080018379, 111: 0.7030776361003594, 112: 0.4052257813346493, 113: 0.5603591118736081, 114: 0.5079418214375735, 115: 0.6666610394090672, 116: 0.4503219406759529, 117: 0.5974399939641848, 118: 0.8336314960988391, 119: 0.6828354200944443, 120: 0.5214228556106523, 121: 0.4842717069688586, 122: 0.3742210392184113, 123: 0.21732152620986406, 124: 0.294364795616153, 125: 0.13317051711376415, 126: 0.2922965613357692, 127: 0.38407671008865035, 128: 0.6198119315943503, 129: 0.5067181072638636, 130: 0.6021021578550357, 131: 0.12838884624152253, 132: 0.6307692402438956, 133: 0.24613351615767637, 134: 0.6396053211978757, 135: 0.30069188533283425, 136: 0.5382535781253553, 137: 0.2853274183950212, 138: 0.46108909315745483, 139: 0.40624585008504627, 140: 0.8478832378783954, 141: 0.32940100139565753, 142: 0.757416237965945, 143: 0.16280842132101242, 144: 0.5416423375418443, 145: 0.5342637550549035, 146: 0.5627385106945593, 147: 0.14774250134810463, 148: 0.8485499292788479, 149: 0.2313233993049865, 150: 0.47440529946685145, 151: 0.3180642987139571, 152: 0.4283518059828652, 153: 0.2306424866235796, 154: 0.2967871584652409, 155: 0.23919220328336804, 156: 0.17408453207975944, 157: 0.8463090370709578, 158: 0.5840823628079554, 159: 0.6512436337091319, 160: 0.7333169611812113, 161: 0.8421649215406652, 162: 0.666068230771072, 163: 0.6630068147167808, 164: 0.6239322272728468, 165: 0.21448708679029577, 166: 0.45238255963070184, 167: 0.15587164154237312, 168: 0.4524513703430575, 169: 0.663603976640362, 170: 0.6538717960367559, 171: 0.6033364919120212, 172: 0.7860696698547672, 173: 0.5752339889768774, 174: 0.6816915180199004, 175: 0.5503749399743063, 176: 0.3571299527190694, 177: 0.36664072188794117, 178: 0.6933749106786303, 179: 0.8789907669319117, 180: 0.4032872540887662, 181: 0.533819655481645, 182: 0.6565752526029685, 183: 0.09812653106138605, 184: 0.3637986530855414, 185: 0.383480553517512, 186: 0.4104685735675999, 187: 0.6152886972130948, 188: 0.48100834946444027, 189: 0.5284162503781027, 190: 0.6545613132766253, 191: 0.08361892748972692, 192: 0.8874150380371786, 193: 0.6011037374338006, 194: 0.30992205035011533, 195: 0.8571137620019794, 196: 0.4014889389016785, 197: 0.13924230495995876, 198: 0.14537387398512636, 199: 0.3782184738017256, 200: 0.9169801106796361, 201: 0.7755849256608283, 202: 0.34034322762442926, 203: 0.13646079894616994, 204: 0.45530803439815193, 205: 0.7061502670184071, 206: 0.4856167159396662, 207: 0.39848541622991596, 208: 0.5647941148909426, 209: 0.9080415411430593, 210: 0.18925489162584114, 211: 0.4114219090679363, 212: 0.4562022312749372, 213: 0.7206526396283042, 214: 0.8182069709488639, 215: 0.5795054634771925, 216: 0.24373548229101308, 217: 0.2242229946463039, 218: 0.6812891101711694, 219: 0.43503212690728776, 220: 0.34833465410254105, 221: 0.8961787180139457, 222: 0.6120880543782383, 223: 0.2566821122211745, 224: 0.1396091377223373, 225: 0.3745904154961119, 226: 0.6546989656188564, 227: 0.3615376531459886, 228: 0.7152248143469919, 229: 0.6668913817615568, 230: 0.7246410199208813, 231: 0.2879069683241032, 232: 0.6568314809564935, 233: 0.5810965662576146, 234: 0.7095538847888276, 235: 0.17993899514291933, 236: 0.7341613720084682, 237: 0.294750627108081, 238: 0.9446012879777032, 239: 0.2512403279965772, 240: 0.2659631390680688, 241: 0.49768356937392966, 242: 0.41299779125352865, 243: 0.4542878058599126, 244: 0.6599468265624514, 245: 0.5477694273920586, 246: 0.7482651422883528, 247: 0.8392634748022916, 248: 0.716097338181694, 249: 0.7531608739402949}\n",
            "\n",
            "mAP using test as query on train\n",
            "Euclidean mAP\n",
            "{0: 0.3421275925206507, 1: 0.5224691904502479, 2: 0.26522049278843685, 3: 0.30949547892647306, 4: 0.6723572536539141, 5: 0.3524235597285995, 6: 0.13629629886708355, 7: 0.057158496816866966, 8: 0.4717640456820883, 9: 0.373746163974222, 10: 0.21335983290558852, 11: 0.22832721087497226, 12: 0.4222308594229814, 13: 0.09068759015310333, 14: 0.21396074415468863, 15: 0.03614847005705555, 16: 0.11480563437810365, 17: 0.31817975992848124, 18: 0.056467205767631756, 19: 0.4909851515292606, 20: 0.12230110619416532, 21: 0.6906665321389058, 22: 0.23546091305309483, 23: 0.4617314915247543, 24: 0.34621176967525563, 25: 0.2333038799553671, 26: 0.6532014582641654, 27: 0.3622649389613403, 28: 0.6480493716689152, 29: 0.30386960027036736, 30: 0.04113862976935158, 31: 0.1939537643129228, 32: 0.14825599957641056, 33: 0.34005681124593623, 34: 0.05808865547035531, 35: 0.38757418395506305, 36: 0.07473704414390234, 37: 0.3119717479045992, 38: 0.13184197683950238, 39: 0.644227920092992, 40: 0.30747346693967864, 41: 0.3998138080248853, 42: 0.46855756158169976, 43: 0.30158460458025627, 44: 0.14212793701594198, 45: 0.11824131394971513, 46: 0.49103489484133594, 47: 0.2569144053826278, 48: 0.11445735453609092, 49: 0.28061951422916953, 50: 0.4845280698748212, 51: 0.14845922781496768, 52: 0.12958934812500617, 53: 0.4839170666547539, 54: 0.5533201444213292, 55: 0.4901499059094016, 56: 0.3496730200069227, 57: 0.4794224052646351, 58: 0.33376758668201534, 59: 0.15708015782338078, 60: 0.4354903743541737, 61: 0.12355180963837371, 62: 0.4615804398560104, 63: 0.2666463274315977, 64: 0.11396649999564028, 65: 0.2648133805364879, 66: 0.10938433465633648, 67: 0.41002500868376907, 68: 0.4475659218178166, 69: 0.0830283855272456, 70: 0.1282844791422869, 71: 0.10576035978393417, 72: 0.148815237267463, 73: 0.5233135733929077, 74: 0.26807231285931044, 75: 0.7681871944855234, 76: 0.5643456085461168, 77: 0.42119487445160714, 78: 0.35520359825270487, 79: 0.30101500360820904, 80: 0.2889354373569765, 81: 0.1599240219551476, 82: 0.27908785571807776, 83: 0.22741979228244463, 84: 0.3072285830316189, 85: 0.42893003751502745, 86: 0.10845431594721129, 87: 0.16928281525972308, 88: 0.7088987575944885, 89: 0.744926009302934, 90: 0.3269865875946968, 91: 0.49295430445200994, 92: 0.6199198199884421, 93: 0.5906191480786692, 94: 0.424600650052652, 95: 0.28161116114433826, 96: 0.3285045688855706, 97: 0.39324155506193714, 98: 0.6170089515638348, 99: 0.40043931925954757, 100: 0.235295151808188, 101: 0.20173343603780616, 102: 0.5224438007257304, 103: 0.22860501135919695, 104: 0.4155183442386046, 105: 0.26373827077681816, 106: 0.3989400057668396, 107: 0.6229704433020384, 108: 0.3031063894609732, 109: 0.24819013274857146, 110: 0.263486162530959, 111: 0.546834890513981, 112: 0.37876839940678164, 113: 0.36710411758015316, 114: 0.34675686751947155, 115: 0.5956157700195149, 116: 0.5336315146796161, 117: 0.18589799142765745, 118: 0.6802196048169952, 119: 0.5990597480521419, 120: 0.30527701923983686, 121: 0.38509818298060255, 122: 0.32300185594119346, 123: 0.13673060131964812, 124: 0.22548963521962778, 125: 0.036885978745788424, 126: 0.31540804339759954, 127: 0.140546561227165, 128: 0.40954173922171505, 129: 0.1695923922644867, 130: 0.43298605714657173, 131: 0.10074298919426443, 132: 0.5221405570092789, 133: 0.28545022715190854, 134: 0.30602605993815424, 135: 0.1974452030128449, 136: 0.23730660823429287, 137: 0.2701253551510274, 138: 0.3971782782435568, 139: 0.4971825558529076, 140: 0.7112227244930815, 141: 0.2877368357189349, 142: 0.4543803422251096, 143: 0.11333046125904614, 144: 0.530440830737585, 145: 0.37091621566471666, 146: 0.3136355315290835, 147: 0.08829927217254879, 148: 0.7673818215623445, 149: 0.16765921989970917, 150: 0.37882292039056736, 151: 0.33618565248576576, 152: 0.35323169278314037, 153: 0.22442948604030372, 154: 0.2505949462467431, 155: 0.192180390278738, 156: 0.07530320350657727, 157: 0.7443453543796272, 158: 0.46603855998688604, 159: 0.45297040208597883, 160: 0.552545105478045, 161: 0.5274358700419544, 162: 0.5443337151893838, 163: 0.6681225655973574, 164: 0.49901663161421556, 165: 0.09556390114816007, 166: 0.42083586849150645, 167: 0.09666631545935099, 168: 0.3803380662364308, 169: 0.4448973554563218, 170: 0.5291668246282355, 171: 0.4200999430854992, 172: 0.35758849634546663, 173: 0.49623753148432803, 174: 0.5922865297584045, 175: 0.2731331165036789, 176: 0.20516475881157872, 177: 0.1746321363268398, 178: 0.5676278247377924, 179: 0.5815065665745964, 180: 0.1868038717348223, 181: 0.4624156831229869, 182: 0.34720359824072883, 183: 0.060431815047724526, 184: 0.24942153739605533, 185: 0.21789100698866623, 186: 0.17134950200012913, 187: 0.6237895861127568, 188: 0.43499842013204076, 189: 0.267575609698563, 190: 0.5794542081532696, 191: 0.01599380478910179, 192: 0.7892798536892465, 193: 0.570645076234552, 194: 0.062347937127202435, 195: 0.8118388682703802, 196: 0.3490123193966144, 197: 0.14175922320884224, 198: 0.06151756825525671, 199: 0.24551467936646737, 200: 0.5749111370338325, 201: 0.5319967590920334, 202: 0.16898686106318633, 203: 0.07831749088935124, 204: 0.30637619671641636, 205: 0.8277898653560106, 206: 0.4477805260546754, 207: 0.32198304636952824, 208: 0.4180073149384199, 209: 0.7264602964050796, 210: 0.1266615232163495, 211: 0.3415268704589641, 212: 0.3392785605660532, 213: 0.5940620644776443, 214: 0.7383525929543671, 215: 0.35032261292176037, 216: 0.17433359293596315, 217: 0.19905312847126275, 218: 0.5676845458312886, 219: 0.3371185935827469, 220: 0.14811392494162198, 221: 0.8597861522125296, 222: 0.5374458669453738, 223: 0.11595149310838915, 224: 0.12574401387080333, 225: 0.23783218163816092, 226: 0.4321261149996287, 227: 0.25047728616166753, 228: 0.6814614406257999, 229: 0.35591725081389447, 230: 0.5250908106430587, 231: 0.3372063239274944, 232: 0.48940408130956214, 233: 0.3896878734727582, 234: 0.5212633544367596, 235: 0.1721477793472785, 236: 0.45027201236421643, 237: 0.19016080160665075, 238: 0.3638847657434487, 239: 0.14386637369804559, 240: 0.11721980168278859, 241: 0.3064946813308232, 242: 0.24455124754744156, 243: 0.4319412543673698, 244: 0.45009418671756024, 245: 0.506502154983321, 246: 0.6914922291347199, 247: 0.6955977508645252, 248: 0.529921081692674, 249: 0.6286126873323203}\n",
            "Cosine mAP\n",
            "{0: 0.5054177636440246, 1: 0.7230012599247475, 2: 0.27794946541468923, 3: 0.41307917741385475, 4: 0.7410926072580113, 5: 0.3903826923860306, 6: 0.11702880546495716, 7: 0.05297464836443509, 8: 0.6438364903210949, 9: 0.34920089611893984, 10: 0.3821924077650523, 11: 0.22282862351285634, 12: 0.6562717296115778, 13: 0.1609341754628436, 14: 0.17239018194608752, 15: 0.05249900520518286, 16: 0.08370587445608599, 17: 0.36904606062753476, 18: 0.09685584362300739, 19: 0.4974375956258176, 20: 0.2066041104370445, 21: 0.7483124840733562, 22: 0.29597405327792925, 23: 0.6427715094688886, 24: 0.3689967997515787, 25: 0.21050411519219486, 26: 0.7578169931374579, 27: 0.3778999592908256, 28: 0.66114457790053, 29: 0.36333216061708096, 30: 0.051305883412607146, 31: 0.17141113417117132, 32: 0.1384821144359762, 33: 0.5037812188120849, 34: 0.06936413353534468, 35: 0.6432503188278984, 36: 0.10645460348998008, 37: 0.5495701575647146, 38: 0.09930497593272983, 39: 0.6615702441705624, 40: 0.46275422042350184, 41: 0.3070234488318703, 42: 0.542808861654989, 43: 0.3018997333174957, 44: 0.14075615278428072, 45: 0.18163380414036595, 46: 0.4683424927661469, 47: 0.3859954856753731, 48: 0.24443801664024659, 49: 0.3477440872539704, 50: 0.47486839359326644, 51: 0.15227956973610293, 52: 0.3613005957659695, 53: 0.38541629429570257, 54: 0.4084628330338448, 55: 0.7380267242960487, 56: 0.36334491429422955, 57: 0.5300388054160081, 58: 0.301665941895687, 59: 0.14540443676674306, 60: 0.3950830801586034, 61: 0.09939757349712569, 62: 0.5662004739273943, 63: 0.33322772089672587, 64: 0.13071666814803892, 65: 0.4541257879196081, 66: 0.11201508563870932, 67: 0.43365395235702897, 68: 0.36511772654461094, 69: 0.08382409076186416, 70: 0.1292189222367609, 71: 0.09041380932524086, 72: 0.1761098810216384, 73: 0.6176972377580557, 74: 0.4076142538842819, 75: 0.8703543312963375, 76: 0.6662079961297787, 77: 0.4398762741281986, 78: 0.3230117666026608, 79: 0.3734075307667711, 80: 0.46355717362356036, 81: 0.6068736759491553, 82: 0.23499248877737905, 83: 0.2373316068273709, 84: 0.25322476077081413, 85: 0.3784165160534135, 86: 0.14735287265015198, 87: 0.09594447721714376, 88: 0.7957738778294605, 89: 0.8488885521690905, 90: 0.3443616185831019, 91: 0.4311521480204165, 92: 0.6486795971452379, 93: 0.8874174949456697, 94: 0.4788094578975839, 95: 0.5329379631971238, 96: 0.41650014546262903, 97: 0.3871391977424483, 98: 0.7593627213621019, 99: 0.5080744837106189, 100: 0.576273856911571, 101: 0.2580878822000678, 102: 0.5401705566638058, 103: 0.5605306916616819, 104: 0.44864948380946207, 105: 0.32434140673219447, 106: 0.4196898536645327, 107: 0.5662943424272289, 108: 0.25787057850409956, 109: 0.584435476763139, 110: 0.32339473690158926, 111: 0.6705702190366304, 112: 0.5482936848999482, 113: 0.36643718599159264, 114: 0.37607585477338695, 115: 0.7118680052852773, 116: 0.4995489527189097, 117: 0.24843053716251964, 118: 0.7669820349672822, 119: 0.661835183995328, 120: 0.3567468814183397, 121: 0.4407243190452732, 122: 0.277257905937902, 123: 0.19733515437316745, 124: 0.2145855345908673, 125: 0.04275670318679594, 126: 0.34262246783666317, 127: 0.2072978930497918, 128: 0.5151682905718357, 129: 0.3326341389346888, 130: 0.4732025157763807, 131: 0.10619865937775612, 132: 0.5378990781110232, 133: 0.2963499695049435, 134: 0.36987845715170453, 135: 0.16704389366082822, 136: 0.41950010163253165, 137: 0.20981015908125472, 138: 0.5359337318641593, 139: 0.5913140556017406, 140: 0.8205808984286568, 141: 0.39512837691582126, 142: 0.7549234296282271, 143: 0.18676974143992348, 144: 0.5076301847602015, 145: 0.516483748146977, 146: 0.39948969643698123, 147: 0.08614494679430446, 148: 0.8904162593078062, 149: 0.1511491540746524, 150: 0.4135302419368868, 151: 0.3420902278670245, 152: 0.5328335458238886, 153: 0.29129041592549665, 154: 0.21642928031223013, 155: 0.2356505642673529, 156: 0.12081152235801167, 157: 0.8239083537444346, 158: 0.5905935691441544, 159: 0.6942860841341914, 160: 0.7863959521592897, 161: 0.7357494492447705, 162: 0.6524743794859519, 163: 0.700051336741501, 164: 0.47722132144965607, 165: 0.09902542061303368, 166: 0.46213009302464, 167: 0.06948159187383654, 168: 0.4019861521355537, 169: 0.682456966628358, 170: 0.6253476053456406, 171: 0.49532862994633353, 172: 0.7529941723558793, 173: 0.6747515114275444, 174: 0.705349088627154, 175: 0.38638978332749097, 176: 0.3331341474321926, 177: 0.1706409216503477, 178: 0.535829173925847, 179: 0.797380623813499, 180: 0.25231270124988975, 181: 0.461431095129619, 182: 0.4568988785824688, 183: 0.06954906814860753, 184: 0.37521691098006194, 185: 0.2871214868520176, 186: 0.2638613519946327, 187: 0.5693527803991763, 188: 0.4872232699783951, 189: 0.19845241478470022, 190: 0.6553460459877143, 191: 0.02644555516619715, 192: 0.682789560649993, 193: 0.4682336497234002, 194: 0.21016196081477417, 195: 0.9124132975270562, 196: 0.42286560661185735, 197: 0.13924392265989144, 198: 0.1312972523881439, 199: 0.2170004970511458, 200: 0.7639939935037207, 201: 0.7144075986412669, 202: 0.27529908656951807, 203: 0.16014929353352103, 204: 0.2162779302170935, 205: 0.8543556968428258, 206: 0.3878522740961347, 207: 0.2923460269675205, 208: 0.5273284831403597, 209: 0.9714535261175536, 210: 0.13320992729903858, 211: 0.2666787795961408, 212: 0.39608245340621695, 213: 0.6189748843682015, 214: 0.8592388175429543, 215: 0.4890343178151362, 216: 0.1396302708629526, 217: 0.1968326725054854, 218: 0.5776475764900919, 219: 0.4274343767891944, 220: 0.2152171692886209, 221: 0.980333106135134, 222: 0.42010612060471664, 223: 0.21810407385749225, 224: 0.1318220111767327, 225: 0.3144593545531856, 226: 0.6167269546209885, 227: 0.10635075810628902, 228: 0.7619064808549447, 229: 0.5081451937082747, 230: 0.5203432933995886, 231: 0.3660466907175771, 232: 0.45448692513396993, 233: 0.5902392443516016, 234: 0.7666789420409597, 235: 0.16850928396799328, 236: 0.5104159140913926, 237: 0.2602704675484497, 238: 0.8336198434891674, 239: 0.1752594816371735, 240: 0.20966681862809824, 241: 0.3267180255110661, 242: 0.46939046372865406, 243: 0.3861478728984943, 244: 0.48888995322945605, 245: 0.4182140948253947, 246: 0.6922155138275464, 247: 0.726946550626318, 248: 0.7484500457826258, 249: 0.7747017055162638}\n",
            "\n"
          ],
          "name": "stdout"
        }
      ]
    },
    {
      "cell_type": "markdown",
      "metadata": {
        "id": "HRUd8x63PN9J"
      },
      "source": [
        "## Accuracy per class"
      ]
    },
    {
      "cell_type": "code",
      "metadata": {
        "id": "IIV-xyf9PNXY",
        "colab": {
          "base_uri": "https://localhost:8080/"
        },
        "outputId": "22ec8e08-15a3-4eb6-84c1-ed36dae48813"
      },
      "source": [
        "acc_datagen = ImageDataGenerator(preprocessing_function=preprocess_input)\n",
        "\n",
        "test_images_per_class = 20 # le immagini sono al massimo 80\n",
        "train_images_per_class = 80 - test_images_per_class\n",
        "\n",
        "train_generator = acc_datagen.flow_from_directory(\n",
        "  SKETCHES_DIR + \"/train/\",\n",
        "  shuffle=False,\n",
        "  target_size=(IMG_HEIGHT, IMG_WIDTH),\n",
        "  batch_size=train_images_per_class)\n",
        "\n",
        "test_generator = acc_datagen.flow_from_directory(\n",
        "  SKETCHES_DIR + '/test/',\n",
        "  shuffle=False,\n",
        "  target_size=(IMG_HEIGHT, IMG_WIDTH),\n",
        "  batch_size=test_images_per_class)\n",
        "\n",
        "train_accuracies = []\n",
        "test_accuracies = []\n",
        "class_counter = 0\n",
        "\n",
        "# training accuracies\n",
        "for images_batch, labels_batch in train_generator:\n",
        "  class_counter += 1\n",
        "  #print('Train Accuracy')\n",
        "\n",
        "  if class_counter == 251:\n",
        "    class_counter = 0\n",
        "    break\n",
        "\n",
        "  res = model.evaluate(images_batch,\n",
        "                      labels_batch,\n",
        "                      return_dict=True,\n",
        "                      verbose=0)\n",
        "\n",
        "  train_accuracies.append(res[\"acc\"])\n",
        "\n",
        "# test accuracies \n",
        "for images_batch, labels_batch in test_generator:\n",
        "  class_counter += 1\n",
        "  #print('Test Accuracy')\n",
        "\n",
        "  if class_counter == 251:\n",
        "    class_counter = 0\n",
        "    break\n",
        "\n",
        "  res = model.evaluate(images_batch,\n",
        "                      labels_batch,\n",
        "                      return_dict=True,\n",
        "                      verbose=0)\n",
        "\n",
        "  test_accuracies.append(res[\"acc\"])"
      ],
      "execution_count": null,
      "outputs": [
        {
          "output_type": "stream",
          "text": [
            "Found 15000 images belonging to 250 classes.\n",
            "Found 5000 images belonging to 250 classes.\n"
          ],
          "name": "stdout"
        }
      ]
    },
    {
      "cell_type": "code",
      "metadata": {
        "colab": {
          "base_uri": "https://localhost:8080/"
        },
        "id": "lWrfpiCa5oub",
        "outputId": "878e34c4-5416-40c3-d7fc-dba1e0531a5a"
      },
      "source": [
        "# verifico che la mean test acc sia 0.70\r\n",
        "print(np.mean(test_accuracies))"
      ],
      "execution_count": null,
      "outputs": [
        {
          "output_type": "stream",
          "text": [
            "0.8087333334684372\n",
            "0.709\n"
          ],
          "name": "stdout"
        }
      ]
    },
    {
      "cell_type": "code",
      "metadata": {
        "colab": {
          "base_uri": "https://localhost:8080/"
        },
        "id": "uyEYF-XH8IQb",
        "outputId": "75e8b036-344a-434a-c721-63b0110ade0f"
      },
      "source": [
        "zipped = zip(train_accuracies, test_accuracies)\r\n",
        "acc_by_class = []\r\n",
        "\r\n",
        "for item in enumerate(zipped):  \r\n",
        "  tmp = {}\r\n",
        "  tmp[\"class label\"] = item[0]\r\n",
        "  tmp[\"train Acc\"] = item[1][0]\r\n",
        "  tmp[\"test Acc\"] = item[1][1]\r\n",
        "\r\n",
        "  acc_by_class.append(tmp)\r\n",
        "\r\n",
        "# sort dict by decreasing value of test accuracy \r\n",
        "from operator import itemgetter\r\n",
        "acc_by_class_s = sorted(acc_by_class, key=itemgetter('class label')) \r\n",
        "\r\n",
        "# save results on file \r\n",
        "import json\r\n",
        "filepath = \"/content/gdrive/Shareddrives/COMPUTER_VISION/analysis_by_class/class_accuracies\"\r\n",
        "print(filepath)\r\n",
        "with open(filepath, 'w') as fout:\r\n",
        "  json.dump(acc_by_class_s, fout, indent=4)"
      ],
      "execution_count": null,
      "outputs": [
        {
          "output_type": "stream",
          "text": [
            "/content/gdrive/Shareddrives/COMPUTER_VISION/analysis_by_class/class_accuracies\n"
          ],
          "name": "stdout"
        }
      ]
    },
    {
      "cell_type": "markdown",
      "metadata": {
        "id": "gevrniiaQkDW"
      },
      "source": [
        "## Correlation Analysis: Scatter Plot. (mAP vs Accuracy)\r\n"
      ]
    },
    {
      "cell_type": "code",
      "metadata": {
        "id": "vpfkY8frQ8KV"
      },
      "source": [
        "import json\r\n",
        "\r\n",
        "#read accuracies vector \r\n",
        "x = []\r\n",
        "lbls = []\r\n",
        "filepath = \"/content/gdrive/Shareddrives/COMPUTER_VISION/analysis_by_class/class_accuracies\"\r\n",
        "f = open(filepath,) \r\n",
        "data = json.load(f)   \r\n",
        "for item in data: \r\n",
        "    x.append(item[\"test Acc\"]) \r\n",
        "    lbls.append(item[\"class label\"])\r\n",
        "f.close() \r\n",
        "\r\n",
        "#read mAP vector \r\n",
        "y = []\r\n",
        "filepath = \"/content/gdrive/Shareddrives/COMPUTER_VISION/analysis_by_class/mAP_by_class\"\r\n",
        "f = open(filepath,) \r\n",
        "data = json.load(f)   \r\n",
        "for item in data: \r\n",
        "    y.append(item[\"mAP\"])\r\n",
        "f.close() "
      ],
      "execution_count": null,
      "outputs": []
    },
    {
      "cell_type": "code",
      "metadata": {
        "colab": {
          "base_uri": "https://localhost:8080/"
        },
        "id": "P1FKh1RFTke1",
        "outputId": "1b071d38-018c-4d25-da50-af44f9e179f5"
      },
      "source": [
        "print(len(x))\r\n",
        "print(len(y))\r\n",
        "print(len(lbls))"
      ],
      "execution_count": null,
      "outputs": [
        {
          "output_type": "stream",
          "text": [
            "250\n",
            "250\n",
            "250\n"
          ],
          "name": "stdout"
        }
      ]
    },
    {
      "cell_type": "code",
      "metadata": {
        "colab": {
          "base_uri": "https://localhost:8080/",
          "height": 346
        },
        "id": "u5qC3FgkTqw8",
        "outputId": "9c925c54-3d36-46f9-ba3d-65415efe6d0b"
      },
      "source": [
        "import matplotlib.pyplot as plt\r\n",
        "\r\n",
        "colors = ['#2300A8', '#00A658']\r\n",
        "plt.scatter(x, y, c=lbls, cmap=\"Pastel2\")\r\n",
        "plt.title(\"Class Recall vs Class mAP\")\r\n",
        "plt.xlabel(\"Class Recall\")\r\n",
        "plt.ylabel(\"Class mAP\");\r\n",
        "plt.show()\r\n",
        "\r\n",
        "print(\"\\n\")\r\n",
        "print(f\"Correlation coefficient: {round(np.corrcoef(x,y)[0][1], 4)}\")"
      ],
      "execution_count": null,
      "outputs": [
        {
          "output_type": "display_data",
          "data": {
            "image/png": "[encoded data removed]",
            "text/plain": [
              "<Figure size 432x288 with 1 Axes>"
            ]
          },
          "metadata": {
            "tags": [],
            "needs_background": "light"
          }
        },
        {
          "output_type": "stream",
          "text": [
            "\n",
            "\n",
            "Correlation coefficient: 0.7863\n"
          ],
          "name": "stdout"
        }
      ]
    },
    {
      "cell_type": "markdown",
      "metadata": {
        "id": "bLuJwion4HUJ"
      },
      "source": [
        "## Get worst classes misclassifications"
      ]
    },
    {
      "cell_type": "code",
      "metadata": {
        "id": "NWcSe-sm4WJZ"
      },
      "source": [
        "def get_misclassifications(class_label):\r\n",
        "  acc_datagen = ImageDataGenerator(preprocessing_function=preprocess_input)\r\n",
        "\r\n",
        "  test_images_per_class = 20 # le immagini sono al massimo 80\r\n",
        "\r\n",
        "  test_generator = acc_datagen.flow_from_directory(\r\n",
        "    SKETCHES_DIR + '/test/',\r\n",
        "    shuffle=False,\r\n",
        "    target_size=(IMG_HEIGHT, IMG_WIDTH),\r\n",
        "    batch_size=test_images_per_class)\r\n",
        "\r\n",
        "  class_counter = 0\r\n",
        "\r\n",
        "  # test accuracies \r\n",
        "  for images_batch, labels_batch in test_generator:\r\n",
        "\r\n",
        "    # only want dog class predictions \r\n",
        "    if class_counter == class_label:\r\n",
        "      predictions = model.predict(images_batch)\r\n",
        "      break\r\n",
        "\r\n",
        "    class_counter += 1\r\n",
        "  return predictions"
      ],
      "execution_count": null,
      "outputs": []
    },
    {
      "cell_type": "code",
      "metadata": {
        "colab": {
          "base_uri": "https://localhost:8080/"
        },
        "id": "2oMgf6xW6xD5",
        "outputId": "818c188c-55a9-4678-9148-116c4941cc40"
      },
      "source": [
        "dog_pred = get_misclassifications(66)\r\n",
        "print(len(dog_pred))"
      ],
      "execution_count": null,
      "outputs": [
        {
          "output_type": "stream",
          "text": [
            "Found 5000 images belonging to 250 classes.\n",
            "20\n"
          ],
          "name": "stdout"
        }
      ]
    },
    {
      "cell_type": "code",
      "metadata": {
        "colab": {
          "base_uri": "https://localhost:8080/"
        },
        "id": "hDJRNcPW649w",
        "outputId": "520a186e-994e-4097-89dc-5c852384d96f"
      },
      "source": [
        "class_predicted = []\r\n",
        "for prediction in dog_pred:\r\n",
        "  class_predicted.append(np.argmax(prediction))\r\n",
        "\r\n",
        "print(class_predicted)"
      ],
      "execution_count": null,
      "outputs": [
        {
          "output_type": "stream",
          "text": [
            "[131, 66, 101, 66, 106, 106, 131, 66, 59, 106, 66, 66, 143, 175, 131, 143, 123, 66, 106, 223]\n"
          ],
          "name": "stdout"
        }
      ]
    },
    {
      "cell_type": "code",
      "metadata": {
        "colab": {
          "base_uri": "https://localhost:8080/"
        },
        "id": "lh7RtQEn9zaY",
        "outputId": "3ecc5c17-7fa8-4f86-cc97-05bc54e1f601"
      },
      "source": [
        "# dog is mostly misclassified as horse (4 times)\r\n",
        "unique, counts = np.unique(class_predicted, return_counts=True)\r\n",
        "print(unique, counts)"
      ],
      "execution_count": null,
      "outputs": [
        {
          "output_type": "stream",
          "text": [
            "[ 59  66 101 106 123 131 143 175 223] [1 6 1 4 1 3 2 1 1]\n"
          ],
          "name": "stdout"
        }
      ]
    },
    {
      "cell_type": "code",
      "metadata": {
        "colab": {
          "base_uri": "https://localhost:8080/"
        },
        "id": "iY0Mr5ox_GQA",
        "outputId": "b7794e13-0b43-46f3-eabd-91caa22dc525"
      },
      "source": [
        "loudspeaker_pred = get_misclassifications(125)\r\n",
        "print(len(loudspeaker_pred))"
      ],
      "execution_count": null,
      "outputs": [
        {
          "output_type": "stream",
          "text": [
            "Found 5000 images belonging to 250 classes.\n",
            "20\n"
          ],
          "name": "stdout"
        }
      ]
    },
    {
      "cell_type": "code",
      "metadata": {
        "colab": {
          "base_uri": "https://localhost:8080/"
        },
        "id": "EHu9l4nb_R1o",
        "outputId": "623db22b-fa80-4dc3-d234-de60fa0afaf4"
      },
      "source": [
        "class_predicted = []\r\n",
        "for prediction in loudspeaker_pred:\r\n",
        "  class_predicted.append(np.argmax(prediction))\r\n",
        "\r\n",
        "print(class_predicted)"
      ],
      "execution_count": null,
      "outputs": [
        {
          "output_type": "stream",
          "text": [
            "[216, 127, 125, 127, 127, 177, 127, 113, 8, 125, 125, 125, 125, 113, 113, 125, 125, 125, 125, 110]\n"
          ],
          "name": "stdout"
        }
      ]
    },
    {
      "cell_type": "code",
      "metadata": {
        "colab": {
          "base_uri": "https://localhost:8080/"
        },
        "id": "9RrfdG46_fJg",
        "outputId": "f189f1c4-68de-40bb-880b-b3717368b279"
      },
      "source": [
        "# loudspeaker is mostly misclassified as megaphone (4 times)\r\n",
        "unique, counts = np.unique(class_predicted, return_counts=True)\r\n",
        "print(unique, counts)"
      ],
      "execution_count": null,
      "outputs": [
        {
          "output_type": "stream",
          "text": [
            "[  8 110 113 125 127 177 216] [1 1 3 9 4 1 1]\n"
          ],
          "name": "stdout"
        }
      ]
    }
  ]
}