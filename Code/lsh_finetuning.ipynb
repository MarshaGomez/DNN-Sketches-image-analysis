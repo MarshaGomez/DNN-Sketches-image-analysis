{
  "nbformat": 4,
  "nbformat_minor": 0,
  "metadata": {
    "colab": {
      "name": "lsh_finetuning.ipynb",
      "provenance": [],
      "collapsed_sections": [],
      "toc_visible": true,
      "include_colab_link": true
    },
    "kernelspec": {
      "name": "python3",
      "display_name": "Python 3"
    },
    "accelerator": "GPU"
  },
  "cells": [
    {
      "cell_type": "markdown",
      "metadata": {
        "id": "view-in-github",
        "colab_type": "text"
      },
      "source": [
        "<a href=\"https://colab.research.google.com/github/MarshaGomez/DNN-Sketches-image-analysis/blob/main/Code/lsh_finetuning.ipynb\" target=\"_parent\"><img src=\"https://colab.research.google.com/assets/colab-badge.svg\" alt=\"Open In Colab\"/></a>"
      ]
    },
    {
      "cell_type": "markdown",
      "metadata": {
        "id": "FUUpKN7R0YT8"
      },
      "source": [
        " # Setting up the project"
      ]
    },
    {
      "cell_type": "code",
      "metadata": {
        "colab": {
          "base_uri": "https://localhost:8080/"
        },
        "id": "rLT-ERQn0pyk",
        "outputId": "f58a1cdf-9268-4bbb-8f94-7e2aa439401f"
      },
      "source": [
        "from google.colab import drive\n",
        "drive.mount('/content/gdrive', force_remount=True)"
      ],
      "execution_count": null,
      "outputs": [
        {
          "output_type": "stream",
          "text": [
            "Mounted at /content/gdrive\n"
          ],
          "name": "stdout"
        }
      ]
    },
    {
      "cell_type": "code",
      "metadata": {
        "id": "Ij1B1hS-1YtK"
      },
      "source": [
        "import numpy as np\n",
        "import time\n",
        "import itertools\n",
        "import os, shutil\n",
        "import tensorflow as tf\n",
        "import matplotlib.pyplot as plt\n",
        "\n",
        "from random import random\n",
        "from ipywidgets import Image\n",
        "from numpy.linalg import norm\n",
        "from IPython.display import display\n",
        "from keras.models import Model\n",
        "from sklearn.metrics import classification_report\n",
        "from keras.callbacks import EarlyStopping, ModelCheckpoint\n",
        "\n",
        "# tensorflow version 2.4.0\n",
        "from tensorflow import keras\n",
        "from tensorflow.keras import layers, models\n",
        "from tensorflow.keras.optimizers import SGD, Adam\n",
        "from tensorflow.keras.preprocessing import image_dataset_from_directory\n",
        "from tensorflow.keras.preprocessing.image import ImageDataGenerator\n",
        "from tensorflow.keras.preprocessing import image\n",
        "from tensorflow.keras.applications.inception_v3 import preprocess_input, InceptionV3"
      ],
      "execution_count": null,
      "outputs": []
    },
    {
      "cell_type": "code",
      "metadata": {
        "id": "LCT19eCX1dCV"
      },
      "source": [
        "zip_path = '/content/gdrive/Shareddrives/COMPUTER_VISION/MIM_zipped.zip'\n",
        "!cp \"{zip_path}\" .\n",
        "!unzip -q MIM_zipped.zip\n",
        "!rm MIM_zipped.zip"
      ],
      "execution_count": null,
      "outputs": []
    },
    {
      "cell_type": "code",
      "metadata": {
        "id": "db27hh7A9Eri"
      },
      "source": [
        "test_images_per_class = 20 # le immagini sono al massimo 80\n",
        "train_images_per_class = 80 - test_images_per_class"
      ],
      "execution_count": null,
      "outputs": []
    },
    {
      "cell_type": "code",
      "metadata": {
        "colab": {
          "base_uri": "https://localhost:8080/"
        },
        "id": "EDUlifdB5Mru",
        "outputId": "4172a1c6-ffd6-4d22-8ba4-eefb50538f0e"
      },
      "source": [
        "BASE_DIR = \"/content/content/gdrive/Shareddrives/COMPUTER_VISION/MIRCV\"\n",
        "SKETCHES_DIR = os.path.join(BASE_DIR, \"sketches\")\n",
        "MIRFLICKR_DIR = os.path.join(BASE_DIR, \"mirflickr/mirflickr25k\")\n",
        "\n",
        "print(os.listdir(os.path.join(SKETCHES_DIR, \"png\")))\n",
        "def copytree(src, dst, symlinks=False, ignore=None):\n",
        "    for item in os.listdir(src):\n",
        "        s = os.path.join(src, item)\n",
        "        d = os.path.join(dst, item)\n",
        "        if os.path.isdir(s):\n",
        "            shutil.copytree(s, d, symlinks, ignore)\n",
        "        else:\n",
        "            shutil.copy2(s, d)\n",
        "      \n",
        "copytree(f'{SKETCHES_DIR}/png', f'{SKETCHES_DIR}/all')\n",
        "\n",
        "try:\n",
        "  os.rename(f'{SKETCHES_DIR}/png', f'{SKETCHES_DIR}/train')\n",
        "except:\n",
        "  print('already renamed')\n",
        "\n",
        "if not os.path.exists(f'{SKETCHES_DIR}/test'):\n",
        "  os.mkdir(f'{SKETCHES_DIR}/test')\n",
        "  for class_folder in os.listdir(f'{SKETCHES_DIR}/train'):\n",
        "    if os.path.isdir(f'{SKETCHES_DIR}/train/{class_folder}'):\n",
        "      images = os.listdir(f'{SKETCHES_DIR}/train/{class_folder}')\n",
        "      os.mkdir(f'{SKETCHES_DIR}/test/{class_folder}')\n",
        "      for i in range(test_images_per_class):\n",
        "        os.rename(f'{SKETCHES_DIR}/train/{class_folder}/{images[i]}', f'{SKETCHES_DIR}/test/{class_folder}/{images[i]}')"
      ],
      "execution_count": null,
      "outputs": [
        {
          "output_type": "stream",
          "text": [
            "['rooster', 'head-phones', 'door handle', 'flashlight', 'panda', 'bottle opener', 'revolver', 'binoculars', 'piano', 'lightbulb', 'saxophone', 'snowboard', 'giraffe', 'filelist.txt', 'scissors', 'rabbit', 'pear', 'ship', 'helicopter', 'van', 'barn', 'tiger', 'dragon', 'ice-cream-cone', 'wheel', 'dolphin', 'cell phone', 'tree', 'squirrel', 'speed-boat', 'wheelbarrow', 'screwdriver', 'rifle', 'arm', 'bee', 'house', 'penguin', 'blimp', 'pretzel', 'motorbike', 'mosquito', 'hourglass', 'moon', 'spoon', 'pig', 'pizza', 'rollerblades', 'ant', 'cabinet', 'car (sedan)', 'book', 'bed', 'sailboat', 'candle', 'tooth', 'train', 'strawberry', 'palm tree', 'streetlight', 'present', 'angel', 'envelope', 'table', 'eye', 'bathtub', 'lion', 'fan', 'crocodile', 'castle', 'keyboard', 'crown', 'flying bird', 'human-skeleton', 'octopus', 'laptop', 'nose', 'parrot', 'umbrella', 'bookshelf', 'sponge bob', 'satellite', 'couch', 'bicycle', 'stapler', 'kangaroo', 'door', 'ear', 'mug', 'hot-dog', 'suv', 'fish', 'key', 'pen', 'sun', 'ipod', 'canoe', 'leaf', 'person sitting', 't-shirt', 'toilet', 'trumpet', 'hedgehog', 'bush', 'pigeon', 'person walking', 'banana', 'frog', 'violin', 'computer monitor', 'alarm clock', 'lighter', 'skyscraper', 'zebra', 'grapes', 'beer-mug', 'tablelamp', 'pickup truck', 'basket', 'shovel', 'sword', 'truck', 'brain', 'dog', 'wrist-watch', 'backpack', 'shark', 'calculator', 'crab', 'hand', 'armchair', 'mouth', 'hamburger', 'eyeglasses', 'carrot', 'cup', 'harp', 'power outlet', 'guitar', 'race car', 'syringe', 'bench', 'butterfly', 'megaphone', 'floor lamp', 'bear (animal)', 'toothbrush', 'windmill', 'loudspeaker', 'apple', 'microscope', 'mouse (animal)', 'radio', 'hammer', 'pipe (for smoking)', 'parking meter', 'bell', 'parachute', 'mushroom', 'bridge', 'helmet', 'space shuttle', 'crane (machine)', 'cat', 'fork', 'vase', 'telephone', 'seagull', 'pumpkin', 'pineapple', 'feather', 'ladder', 'owl', 'spider', 'bowl', 'cannon', 'chandelier', 'hat', 'computer-mouse', 'bread', 'elephant', 'teddy-bear', 'scorpion', 'flying saucer', 'flower with stem', 'microphone', 'axe', 'skateboard', 'tennis-racket', 'suitcase', 'baseball bat', 'fire hydrant', 'donut', 'santa claus', 'cow', 'teacup', 'submarine', 'trousers', 'grenade', 'shoe', 'rainbow', 'tractor', 'cloud', 'wineglass', 'paper clip', 'horse', 'cigarette', 'ashtray', 'church', 'traffic light', 'frying-pan', 'bulldozer', 'sea turtle', 'snake', 'teapot', 'skull', 'tent', 'monkey', 'cactus', 'potted plant', 'tv', 'head', 'foot', 'face', 'camel', 'purse', 'socks', 'mermaid', 'chair', 'tire', 'mailbox', 'airplane', 'camera', 'wine-bottle', 'swan', 'hot air balloon', 'comb', 'boomerang', 'snail', 'bus', 'snowman', 'duck', 'standing bird', 'diamond', 'trombone', 'sheep', 'lobster', 'satellite dish', 'walkie talkie', 'cake', 'knife', 'tomato']\n"
          ],
          "name": "stdout"
        }
      ]
    },
    {
      "cell_type": "code",
      "metadata": {
        "id": "1Lrw4pLR-50G"
      },
      "source": [
        "BASE_DIR = \"/content/content/gdrive/Shareddrives/COMPUTER_VISION/MIRCV\"\r\n",
        "SKETCHES_DIR = os.path.join(BASE_DIR, \"sketches\")\r\n",
        "MIRFLICKR_DIR = os.path.join(BASE_DIR, \"mirflickr/mirflickr25k\")"
      ],
      "execution_count": null,
      "outputs": []
    },
    {
      "cell_type": "markdown",
      "metadata": {
        "id": "j7yECLec0UEy"
      },
      "source": [
        "# LSH definition"
      ]
    },
    {
      "cell_type": "code",
      "metadata": {
        "id": "6XAndHhs0TC7"
      },
      "source": [
        "class LSH:\n",
        "  def __init__(self, feature_dim, g = 10, h = 20, w = 4, bitwise_hash = False):\n",
        "    \"\"\"\n",
        "    We have to find a way to load the stored index if exists or initialize the \n",
        "    initial structure\n",
        "    \"\"\"\n",
        "    self._index = {}\n",
        "    if bitwise_hash:\n",
        "      # self.x = np.random.randn(g, h, feature_dim) # non sembra richieda una distribuzione normale\n",
        "      self.x = np.random.normal(size=(g, h, feature_dim))\n",
        "    else:\n",
        "      self.x = np.random.normal(size=(g, h, feature_dim))\n",
        "    self.w = np.ones((g, h, 1)) * w\n",
        "    self.b = np.random.rand(g, h, 1) * w\n",
        "    self.bitwise_hash = bitwise_hash # another way to create h (h will be only 0 o 1)\n",
        "\n",
        "  def _hash(self, features):\n",
        "    \"\"\"\n",
        "    crea l'hash di più cose contemporaeamente si aspetta un array composto dalle features una sotta l'altra (linguaggio super matematico)\n",
        "    \"\"\"\n",
        "    # g = np.trunc((np.dot(p, self.x) + self.b) / self.w)\n",
        "    #g = np.trunc((np.dot(self.x, p) + self.b) / self.w) questo funziona con 1\n",
        "    # g = np.transpose(np.trunc(((np.dot(self.x, p.T) + self.b) / self.w)), (0,2,1)) miglior modo di vederlo\n",
        "    if self.bitwise_hash:\n",
        "      return (np.transpose(np.dot(self.x, features.T), (0,2,1)) > 0).astype(int).astype(str)\n",
        "    return np.transpose(np.trunc(((np.dot(self.x, features.T) + self.b) / self.w)), (0,2,1)).astype(int).astype(str)\n",
        "\n",
        "  def insert(self, features, ids, labels):\n",
        "    \"\"\"\n",
        "    Insert new data, ci aspettiamo un array d\n",
        "    \"\"\"\n",
        "    g = self._hash(features)\n",
        "    assert features.shape[0] == len(ids), \"mismatch between ids length and features\"\n",
        "    assert len(labels) == len(ids), \"mismatch between ids length and labels\"\n",
        "    \n",
        "    number_elements = len(ids)\n",
        "    i = 0\n",
        "    # print(\"hash calculated\")\n",
        "    # print(g.shape)\n",
        "    g_index = -1\n",
        "    for g_function in g:\n",
        "      start_inner_for = time.time()\n",
        "      g_index += 1\n",
        "      for row in g_function:\n",
        "        if i % 10000 == 0:\n",
        "          start = time.time()\n",
        "        \n",
        "        bucket_id = str(g_index) + '_' + ','.join(row)\n",
        "        \n",
        "        if i % 10000 == 0:\n",
        "            end = time.time()\n",
        "            # print(f'join {end - start}')\n",
        "        if not bucket_id in self._index:\n",
        "          # self._index[bucket_id] = { 'features': np.array([features[i % number_elements]]), 'ids': np.array([ids[i % number_elements]]), 'labels': np.array([labels[i % number_elements]])}\n",
        "          self._index[bucket_id] = { 'features': [features[i % number_elements]], 'ids': [ids[i % number_elements]], 'labels': [labels[i % number_elements]]}\n",
        "          if i % 10000 == 0:\n",
        "            end = time.time()\n",
        "            # print(f'not in bucket {end - start}')\n",
        "        else:\n",
        "          if ids[i % number_elements] in self._index[bucket_id]['ids']:\n",
        "            # print(\"duplicate\")\n",
        "            continue\n",
        "          if i % 10000 == 0:\n",
        "            end = time.time()\n",
        "            # print(f'checking duplicates {end - start}')\n",
        "          # print(\"collision inserted\")\n",
        "          # self._index[bucket_id]['features'] = np.vstack((self._index[bucket_id]['features'], features[i % number_elements]))\n",
        "          self._index[bucket_id]['features'].append(features[i % number_elements])\n",
        "          # self._index[bucket_id]['ids'] = np.vstack((self._index[bucket_id]['ids'], ids[i % number_elements]))\n",
        "          self._index[bucket_id]['ids'].append(ids[i % number_elements])\n",
        "          # self._index[bucket_id]['labels'] = np.vstack((self._index[bucket_id]['labels'], labels[i % number_elements]))\n",
        "          self._index[bucket_id]['labels'].append(labels[i % number_elements])\n",
        "          if i % 10000 == 0:\n",
        "            end = time.time()\n",
        "            # print(f'stacking {end - start}')\n",
        "        i += 1\n",
        "        assert i > 0, 'out of bound'\n",
        "      end_inner_for = time.time()\n",
        "      # print(f'inner for time: {end_inner_for - start_inner_for}')\n",
        "    \n",
        "    for bucket_id in self._index:\n",
        "      self._index[bucket_id]['features'] = np.array(self._index[bucket_id]['features'])\n",
        "      # print(self._index[bucket_id]['features'].shape)\n",
        "      self._index[bucket_id]['ids'] = np.array(self._index[bucket_id]['ids'], )\n",
        "      self._index[bucket_id]['labels'] = np.array(self._index[bucket_id]['labels'])\n",
        "      \n",
        "\n",
        "  def query(self, features, top_k, mode = 'euclidean', return_cost = False):\n",
        "    \"\"\"\n",
        "    Query the data\n",
        "    \"\"\"\n",
        "    g = self._hash(np.array([features]))\n",
        "    i = 0\n",
        "    k = None\n",
        "    top_k += 1 # per far ritornare k e non k - 1\n",
        "    cost = 0\n",
        "    g_index = -1\n",
        "    assert mode in ['similarity', 'euclidean'], \"mode must be similarity or euclidean\"\n",
        "    for g_function in g:\n",
        "      g_index += 1\n",
        "      for row in g_function:\n",
        "        bucket_id = str(g_index) + '_' + ','.join(row)\n",
        "        # print(bucket_id)\n",
        "        if bucket_id in self._index:\n",
        "          # posso avere duplicati perchè se i punti vengono inseriti in più bucket, posso avere duplicati\n",
        "          # quindi devo eliminarli\n",
        "          # l'ho messo qua fuori che il controllo duplicati è uguale per tutte e due le distanze\n",
        "          # print(f'bucket {bucket_id}')\n",
        "          if k is not None:\n",
        "            # print(\"duplicate\")\n",
        "            duplicate_index = np.isin(self._index[bucket_id]['ids'], k['ids'])\n",
        "            if duplicate_index.all():\n",
        "              continue; # se sono tutti duplicati non ha senso contare nulla\n",
        "            bucket = {}\n",
        "            bucket['ids'] = self._index[bucket_id]['ids'][~duplicate_index] # prendo quelli che non sono duplicati\n",
        "            # print(duplicate_index)\n",
        "            # print(self._index[bucket_id]['features'])\n",
        "            bucket['features'] = self._index[bucket_id]['features'][~duplicate_index.flatten()] # each duplicate index must delete a row of features\n",
        "            bucket['labels'] = self._index[bucket_id]['labels'][~duplicate_index]\n",
        "          else:\n",
        "            bucket = self._index[bucket_id]\n",
        "        \n",
        "          if mode == 'euclidean':\n",
        "            # print(bucket['features'].shape)\n",
        "            dist = norm(bucket['features'] - np.array(features), axis=1)\n",
        "            # print(f'dist shape {dist.shape} and dist size {dist.size}')\n",
        "            cost += dist.size\n",
        "            if k is None:\n",
        "              idx_partitioned = np.argpartition(dist, top_k - 1 if dist.shape[0] - 1 > top_k - 1 else dist.shape[0] - 1)\n",
        "              if dist.shape[0] - 1 > top_k - 1:  \n",
        "                  idx_partitioned = idx_partitioned[:top_k - 1]\n",
        "              k = {}\n",
        "              # qua è più comodo avere array 1- dimensionali\n",
        "              k['ids'] = bucket['ids'][idx_partitioned].flatten()\n",
        "              k['labels'] = bucket['labels'][idx_partitioned].flatten()\n",
        "              k['distances'] = dist[idx_partitioned]\n",
        "              continue\n",
        "            # https://stackoverflow.com/questions/10337533/a-fast-way-to-find-the-largest-n-elements-in-an-numpy-array\n",
        "            # argpartition sembra essere incredibilmente veloce\n",
        "            # ma non ordina completamente, ordina solo rispetto un punto, nel senso\n",
        "            # io gli sto dicendo butta quelli più piccoli di k da una parte e quelli più grandi all'altra, ma non sto ordinando\n",
        "            if k['distances'].shape[0] < top_k:\n",
        "                # print((k['distances'].shape, dist.shape))\n",
        "                distances = np.concatenate((k['distances'], dist))\n",
        "                # print((k['ids'].shape, bucket['ids'].shape))\n",
        "                # print(k['ids'])\n",
        "                # print(bucket['ids'])\n",
        "                ids = np.concatenate((k['ids'], bucket['ids']))\n",
        "                # print((k['labels'].shape, bucket['labels'].shape))\n",
        "                labels = np.concatenate((k['labels'], bucket['labels']))\n",
        "                idx_sorted = np.argpartition(distances, top_k - 1 if distances.shape[0] - 1 > top_k else distances.shape[0] - 1)\n",
        "                if distances.shape[0] - 1 > top_k - 1:  \n",
        "                  idx_sorted = idx_sorted[:top_k - 1]\n",
        "                k['ids'] = ids[idx_sorted]\n",
        "                k['labels'] = labels[idx_sorted]\n",
        "                k['distances'] = distances[idx_sorted]\n",
        "                # print(f'k = {k}')\n",
        "                continue\n",
        "\n",
        "            idx = dist < np.max(k['distances'])\n",
        "            # print(f\"idx = {idx}\")\n",
        "            if np.any(idx):\n",
        "              distances = np.concatenate((k['distances'], dist[idx]))\n",
        "              ids = np.concatenate((k['ids'], bucket['ids'][idx]))\n",
        "              labels = np.concatenate((k['labels'], bucket['labels'][idx]))\n",
        "              idx_sorted = np.argpartition(distances, top_k - 1 if distances.shape[0] - 1 > top_k else distances.shape[0] - 1)\n",
        "              if distances.shape[0] - 1 > top_k - 1:  \n",
        "                  idx_sorted = idx_sorted[:top_k - 1]\n",
        "              k['ids'] = ids[idx_sorted]\n",
        "              k['labels'] = labels[idx_sorted]\n",
        "              k['distances'] = distances[idx_sorted]\n",
        "\n",
        "          else:\n",
        "            # print(bucket['features'].shape)\n",
        "            sim = np.sum(bucket['features'] * np.array(features), axis=1) / (norm(bucket['features'], axis=1) * norm(np.array([features]), axis=1))\n",
        "            # print(f'sim shape {sim.shape} and sim size {sim.size}')\n",
        "            cost += sim.size\n",
        "            if k is None:\n",
        "              idx_partitioned = np.argpartition(sim, -(top_k - 1) if sim.shape[0] - 1 > top_k - 1 else sim.shape[0] - 1)\n",
        "              if sim.shape[0] - 1 > top_k - 1:  \n",
        "                idx_partitioned = idx_partitioned[-(top_k - 1):]\n",
        "              k = {}\n",
        "              # qua è più comodo avere array 1- dimensionali\n",
        "              k['ids'] = bucket['ids'][idx_partitioned].flatten()\n",
        "              k['labels'] = bucket['labels'][idx_partitioned].flatten()\n",
        "              k['similarities'] = sim[idx_partitioned]\n",
        "              continue\n",
        "            # https://stackoverflow.com/questions/10337533/a-fast-way-to-find-the-largest-n-elements-in-an-numpy-array\n",
        "            # argpartition sembra essere incredibilmente veloce\n",
        "            # ma non ordina completamente, ordina solo rispetto un punto, nel senso\n",
        "            # io gli sto dicendo butta quelli più piccoli di k da una parte e quelli più grandi all'altra, ma non sto ordinando\n",
        "            if k['similarities'].shape[0] < top_k:\n",
        "                # print((k['similarities'].shape, sim.shape))\n",
        "                similarities = np.concatenate((k['similarities'], sim))\n",
        "                # print((k['ids'].shape, bucket['ids'].shape))\n",
        "                # print(k['ids'])\n",
        "                # print(bucket['ids'])\n",
        "                ids = np.concatenate((k['ids'], bucket['ids']))\n",
        "                # print((k['labels'].shape, bucket['labels'].shape))\n",
        "                labels = np.concatenate((k['labels'], bucket['labels']))\n",
        "                idx_sorted = np.argpartition(similarities, -(top_k - 1) if similarities.shape[0] - 1 > top_k - 1 else similarities.shape[0] - 1)\n",
        "                if similarities.shape[0] - 1 > top_k - 1:  \n",
        "                  idx_sorted = idx_sorted[-(top_k - 1):]\n",
        "                k['ids'] = ids[idx_sorted]\n",
        "                k['labels'] = labels[idx_sorted]\n",
        "                k['similarities'] = similarities[idx_sorted]\n",
        "                # print(f'k = {k}')\n",
        "                continue\n",
        "\n",
        "            idx = sim > np.min(k['similarities'])\n",
        "            # print(f\"idx = {idx}\")\n",
        "            if np.any(idx):\n",
        "              similarities = np.concatenate((k['similarities'], sim[idx]))\n",
        "              ids = np.concatenate((k['ids'], bucket['ids'][idx]))\n",
        "              labels = np.concatenate((k['labels'], bucket['labels'][idx]))\n",
        "              idx_sorted = np.argpartition(similarities, -(top_k - 1) if similarities.shape[0] - 1 > top_k - 1 else similarities.shape[0] - 1)\n",
        "              if similarities.shape[0] - 1 > top_k - 1:  \n",
        "                idx_sorted = idx_sorted[-(top_k - 1):]\n",
        "              k['ids'] = ids[idx_sorted]\n",
        "              k['labels'] = labels[idx_sorted]\n",
        "              k['similarities'] = similarities[idx_sorted]\n",
        "        i += 1\n",
        "    # ora ordino totalmente i risultati\n",
        "    if k is None:\n",
        "      if return_cost:\n",
        "        return (None, 1)\n",
        "      return None #zero result\n",
        "    if mode == 'euclidean':\n",
        "      idx_sorted = np.argsort(k['distances'])\n",
        "      idx_sorted = idx_sorted[:top_k - 1 if k['distances'].shape[0] - 1 > top_k else k['distances'].shape[0]]\n",
        "      k['distances'] = k['distances'][idx_sorted]\n",
        "      k['ids'] = k['ids'][idx_sorted]\n",
        "      k['labels'] = k['labels'][idx_sorted]\n",
        "      if return_cost:\n",
        "        return (k, cost)\n",
        "      return k\n",
        "    idx_sorted = np.argsort(k['similarities'])[::-1]\n",
        "    idx_sorted = idx_sorted[:top_k - 1 if k['similarities'].shape[0] - 1 > top_k else k['similarities'].shape[0]]\n",
        "    k['similarities'] = k['similarities'][idx_sorted]\n",
        "    k['ids'] = k['ids'][idx_sorted]\n",
        "    k['labels'] = k['labels'][idx_sorted]\n",
        "    if return_cost:\n",
        "      return (k, cost)\n",
        "    return k\n",
        "\n",
        "  def store(self):\n",
        "    pass\n"
      ],
      "execution_count": null,
      "outputs": []
    },
    {
      "cell_type": "markdown",
      "metadata": {
        "id": "s90t7DUb17Kj"
      },
      "source": [
        "## No Index"
      ]
    },
    {
      "cell_type": "code",
      "metadata": {
        "id": "k_Il4uD-164s"
      },
      "source": [
        "# Useful to have comparable performance\n",
        "class NO_INDEX:\n",
        "  def __init__(self):\n",
        "    self.features = None\n",
        "    self.ids = None\n",
        "    self.labels = None\n",
        "\n",
        "  def insert(self, features, ids, labels):\n",
        "    assert features.shape[0] == len(ids), \"mismatch between ids length and features\"\n",
        "    assert len(labels) == len(ids), \"mismatch between ids length and labels\"\n",
        "    self.features = features\n",
        "    self.ids = ids\n",
        "    self.labels = labels\n",
        "  \n",
        "  def query(self, features, top_k, mode = 'euclidean', return_cost = False):\n",
        "    assert mode in ['similarity', 'euclidean'], \"mode must be similarity or euclidean\"\n",
        "    top_k += 1\n",
        "    if mode == 'euclidean':\n",
        "      dist = norm(self.features - np.array(features), axis=1)\n",
        "      idx_partitioned = np.argpartition(dist, top_k - 1 if dist.shape[0] - 1 > top_k - 1 else dist.shape[0] - 1)\n",
        "      k = {}\n",
        "      # qua è più comodo avere array 1- dimensionali\n",
        "      k['ids'] = self.ids[idx_partitioned].flatten()[:top_k - 1 if dist.shape[0] - 1 > top_k - 1 else dist.shape[0]]\n",
        "      k['labels'] = self.labels[idx_partitioned].flatten()[:top_k - 1 if dist.shape[0] - 1 > top_k - 1 else dist.shape[0]]\n",
        "      k['distances'] = dist[idx_partitioned][:top_k - 1 if dist.shape[0] - 1 > top_k - 1 else dist.shape[0]]\n",
        "      \n",
        "      idx_sorted = np.argsort(k['distances'])\n",
        "      idx_sorted = idx_sorted\n",
        "      k['distances'] = k['distances'][idx_sorted]\n",
        "      k['ids'] = k['ids'][idx_sorted]\n",
        "      k['labels'] = k['labels'][idx_sorted]\n",
        "      if return_cost:\n",
        "        return (k, dist.size)\n",
        "      return k\n",
        "    sim = np.sum(self.features * np.array(features), axis=1) / (norm(self.features, axis=1) * norm(np.array([features]), axis=1))\n",
        "    idx_partitioned = np.argpartition(sim, -(top_k - 1) if sim.shape[0] - 1 > top_k - 1 else sim.shape[0] - 1)\n",
        "    k = {}\n",
        "    # qua è più comodo avere array 1- dimensionali\n",
        "    if sim.shape[0] - 1 > top_k - 1:  \n",
        "      idx_partitioned = idx_partitioned[-(top_k - 1):]\n",
        "\n",
        "    k['ids'] = self.ids[idx_partitioned].flatten()\n",
        "    k['labels'] = self.labels[idx_partitioned].flatten()\n",
        "    k['similarities'] = sim[idx_partitioned]\n",
        "    idx_sorted = np.argsort(k['similarities'])[::-1]\n",
        "    idx_sorted = idx_sorted\n",
        "    k['similarities'] = k['similarities'][idx_sorted]\n",
        "    k['ids'] = k['ids'][idx_sorted]\n",
        "    k['labels'] = k['labels'][idx_sorted]\n",
        "    if return_cost:\n",
        "      return (k, sim.size)\n",
        "    return k\n",
        "    "
      ],
      "execution_count": null,
      "outputs": []
    },
    {
      "cell_type": "markdown",
      "metadata": {
        "id": "CbemikY92M6j"
      },
      "source": [
        "## Evaluation utils"
      ]
    },
    {
      "cell_type": "code",
      "metadata": {
        "id": "bJK25Ak02Ct3"
      },
      "source": [
        "def average_precision(requested_label, result_labels, n_ground_truth = 80):\n",
        "  \"\"\"\n",
        "  label ricercata, label ottenute, il numero di oggetti che ci sono quella label\n",
        "  \"\"\"\n",
        "  correct_array = (requested_label == result_labels).astype(int)\n",
        "  precision_array = [np.mean(correct_array[:k]) for k in range(1, correct_array.shape[0] + 1)]\n",
        "  # print(precision_array * correct_array) # mi rimangono solo quelli a 1\n",
        "  return np.sum(precision_array * correct_array) / n_ground_truth\n",
        "\n",
        "\n",
        "def mAP(index, features, n_queries = 250, n_labels = 250, img_per_labels = 80, mode = 'euclidean', check_first_label=True, n_ground_truth=None):\n",
        "  sum = 0\n",
        "  if not n_ground_truth:\n",
        "    n_ground_truth = img_per_labels\n",
        "  for i in range(n_queries):\n",
        "    label = i % n_labels\n",
        "    image_idx = ((i * img_per_labels) + int(random() * img_per_labels)) % (n_labels * img_per_labels)\n",
        "    # print('QUERY')\n",
        "    # print('index = ' + str(image_idx))\n",
        "    # print('label =' + str(label))\n",
        "    res = index.query(features[image_idx], n_ground_truth, mode = mode)\n",
        "    if res is None:\n",
        "      sum += 0\n",
        "      continue\n",
        "    # print('first label of resultset (must be equal to label) = ' + str(res['labels'][0]))\n",
        "    if check_first_label:\n",
        "      assert res['labels'][0] == label, 'deve essere della stessa label'\n",
        "    a = average_precision(label, res['labels'], n_ground_truth)\n",
        "    sum += a\n",
        "  return sum / n_queries\n",
        "\n",
        "def ie(cost_with_index, cost_no_index=45000): # utilizzando tutte le features abbiamo 45000 immagini tra distrattore e non\n",
        "  return cost_no_index / cost_with_index\n",
        "\n",
        "\n",
        "def mAP_with_ie(index, features, n_queries = 250, n_labels = 250, img_per_labels = 80, mode = 'euclidean', check_first_label=True, n_ground_truth=None):\n",
        "  sum = 0\n",
        "  sum_ie = 0\n",
        "  if not n_ground_truth:\n",
        "    n_ground_truth = img_per_labels\n",
        "  for i in range(n_queries):\n",
        "    label = i % n_labels\n",
        "    image_idx = ((i * img_per_labels) + int(random() * img_per_labels)) % (n_labels * img_per_labels)\n",
        "    # print('QUERY')\n",
        "    # print('index = ' + str(image_idx))\n",
        "    # print('label =' + str(label))\n",
        "    res, cost = index.query(features[image_idx], n_ground_truth, mode = mode, return_cost = True)\n",
        "    if res is None:\n",
        "      sum += 0\n",
        "      sum_ie += ie(cost, n_ground_truth * n_labels)\n",
        "      continue\n",
        "    # print('first label of resultset (must be equal to label) = ' + str(res['labels'][0]))\n",
        "    if check_first_label:\n",
        "      assert res['labels'][0] == label, 'deve essere della stessa label'\n",
        "    a = average_precision(label, res['labels'], n_ground_truth)\n",
        "    sum += a\n",
        "    sum_ie += ie(cost, n_ground_truth * n_labels)\n",
        "  return { 'mAP': sum / n_queries, 'ie': sum_ie / n_queries }\n"
      ],
      "execution_count": null,
      "outputs": []
    },
    {
      "cell_type": "markdown",
      "metadata": {
        "id": "lcL8o_gO3mtG"
      },
      "source": [
        "# Model loading and features extraction"
      ]
    },
    {
      "cell_type": "code",
      "metadata": {
        "id": "TV8q1hpf4PP4"
      },
      "source": [
        "def extract_features(extractor, generator, sample_count, dim=2048):\n",
        "  features = np.zeros((sample_count, dim)) #extractor output shape \n",
        "  i = 0\n",
        "  for inputs_batch, labels_batch in generator:\n",
        "    start = time.time()\n",
        "    features_batch = extractor.predict(inputs_batch)\n",
        "    start = time.time()\n",
        "    if (i + 1) * BATCH_SIZE > sample_count:\n",
        "      features[i * BATCH_SIZE : sample_count , :] = features_batch\n",
        "      assert np.array_equal(np.argmax(labels_batch, axis = 1), generator.labels[i * BATCH_SIZE : sample_count]), 'LABELS NOT CORRESPONDING REINIZIALIZE GENERATOR'\n",
        "    else:\n",
        "      features[i * BATCH_SIZE : (i + 1) * BATCH_SIZE, : ] = features_batch\n",
        "      assert np.array_equal(np.argmax(labels_batch, axis = 1), generator.labels[i * BATCH_SIZE : (i + 1) * BATCH_SIZE]), 'LABELS NOT CORRESPONDING REINIZIALIZE GENERATOR'\n",
        "    i += 1\n",
        "    if i * BATCH_SIZE >= sample_count:\n",
        "      break\n",
        "  \n",
        "  return features"
      ],
      "execution_count": null,
      "outputs": []
    },
    {
      "cell_type": "code",
      "metadata": {
        "colab": {
          "base_uri": "https://localhost:8080/"
        },
        "id": "6vbkWDx43rQ8",
        "outputId": "dc1d4e0f-33b0-4980-e0f8-f40b00940a35"
      },
      "source": [
        "IMG_HEIGHT = 299\n",
        "IMG_WIDTH = 299\n",
        "INPUT_SHAPE = (IMG_WIDTH, IMG_HEIGHT, 3)\n",
        "BATCH_SIZE = 64\n",
        "\n",
        "\n",
        "sketches_datagen = ImageDataGenerator(preprocessing_function=preprocess_input)\n",
        "mirflickr_datagen = ImageDataGenerator(preprocessing_function=preprocess_input)\n",
        "\n",
        "sketches_generator_train = sketches_datagen.flow_from_directory(\n",
        "      # This is the target directory\n",
        "      SKETCHES_DIR + '/train',\n",
        "      shuffle=False,\n",
        "      target_size=(IMG_HEIGHT, IMG_WIDTH),\n",
        "      batch_size=BATCH_SIZE)\n",
        "\n",
        "mirflickr_generator = mirflickr_datagen.flow_from_directory(\n",
        "        # This is the target directory\n",
        "        MIRFLICKR_DIR,\n",
        "        shuffle=False,\n",
        "        target_size=(IMG_HEIGHT, IMG_WIDTH),\n",
        "        batch_size=BATCH_SIZE)\n",
        "\n",
        "sketches_generator_test = sketches_datagen.flow_from_directory(\n",
        "      # This is the target directory\n",
        "      SKETCHES_DIR + '/test',\n",
        "      shuffle=False,\n",
        "      target_size=(IMG_HEIGHT, IMG_WIDTH),\n",
        "      batch_size=BATCH_SIZE)\n"
      ],
      "execution_count": null,
      "outputs": [
        {
          "output_type": "stream",
          "text": [
            "Found 15000 images belonging to 250 classes.\n",
            "Found 25000 images belonging to 1 classes.\n",
            "Found 5000 images belonging to 250 classes.\n"
          ],
          "name": "stdout"
        }
      ]
    },
    {
      "cell_type": "code",
      "metadata": {
        "colab": {
          "base_uri": "https://localhost:8080/"
        },
        "id": "MvkqUWxP6lHH",
        "outputId": "0f3a8dd8-df6d-48df-e2e8-05b760b1069c"
      },
      "source": [
        "MODEL_PATH = \"/content/gdrive/Shareddrives/COMPUTER_VISION/models\"\n",
        "model = models.load_model(MODEL_PATH + '/inception_finetuning_classification_3_last_one_more_train_all_parameters_more_train.h5')\n",
        "extractor = Model(model.input, model.layers[-2].output)\n",
        "extractor.summary()"
      ],
      "execution_count": null,
      "outputs": [
        {
          "output_type": "stream",
          "text": [
            "Model: \"model\"\n",
            "__________________________________________________________________________________________________\n",
            "Layer (type)                    Output Shape         Param #     Connected to                     \n",
            "==================================================================================================\n",
            "input_5 (InputLayer)            [(None, None, None,  0                                            \n",
            "__________________________________________________________________________________________________\n",
            "conv2d_376 (Conv2D)             (None, None, None, 3 864         input_5[0][0]                    \n",
            "__________________________________________________________________________________________________\n",
            "batch_normalization_376 (BatchN (None, None, None, 3 96          conv2d_376[0][0]                 \n",
            "__________________________________________________________________________________________________\n",
            "activation_376 (Activation)     (None, None, None, 3 0           batch_normalization_376[0][0]    \n",
            "__________________________________________________________________________________________________\n",
            "conv2d_377 (Conv2D)             (None, None, None, 3 9216        activation_376[0][0]             \n",
            "__________________________________________________________________________________________________\n",
            "batch_normalization_377 (BatchN (None, None, None, 3 96          conv2d_377[0][0]                 \n",
            "__________________________________________________________________________________________________\n",
            "activation_377 (Activation)     (None, None, None, 3 0           batch_normalization_377[0][0]    \n",
            "__________________________________________________________________________________________________\n",
            "conv2d_378 (Conv2D)             (None, None, None, 6 18432       activation_377[0][0]             \n",
            "__________________________________________________________________________________________________\n",
            "batch_normalization_378 (BatchN (None, None, None, 6 192         conv2d_378[0][0]                 \n",
            "__________________________________________________________________________________________________\n",
            "activation_378 (Activation)     (None, None, None, 6 0           batch_normalization_378[0][0]    \n",
            "__________________________________________________________________________________________________\n",
            "max_pooling2d_16 (MaxPooling2D) (None, None, None, 6 0           activation_378[0][0]             \n",
            "__________________________________________________________________________________________________\n",
            "conv2d_379 (Conv2D)             (None, None, None, 8 5120        max_pooling2d_16[0][0]           \n",
            "__________________________________________________________________________________________________\n",
            "batch_normalization_379 (BatchN (None, None, None, 8 240         conv2d_379[0][0]                 \n",
            "__________________________________________________________________________________________________\n",
            "activation_379 (Activation)     (None, None, None, 8 0           batch_normalization_379[0][0]    \n",
            "__________________________________________________________________________________________________\n",
            "conv2d_380 (Conv2D)             (None, None, None, 1 138240      activation_379[0][0]             \n",
            "__________________________________________________________________________________________________\n",
            "batch_normalization_380 (BatchN (None, None, None, 1 576         conv2d_380[0][0]                 \n",
            "__________________________________________________________________________________________________\n",
            "activation_380 (Activation)     (None, None, None, 1 0           batch_normalization_380[0][0]    \n",
            "__________________________________________________________________________________________________\n",
            "max_pooling2d_17 (MaxPooling2D) (None, None, None, 1 0           activation_380[0][0]             \n",
            "__________________________________________________________________________________________________\n",
            "conv2d_384 (Conv2D)             (None, None, None, 6 12288       max_pooling2d_17[0][0]           \n",
            "__________________________________________________________________________________________________\n",
            "batch_normalization_384 (BatchN (None, None, None, 6 192         conv2d_384[0][0]                 \n",
            "__________________________________________________________________________________________________\n",
            "activation_384 (Activation)     (None, None, None, 6 0           batch_normalization_384[0][0]    \n",
            "__________________________________________________________________________________________________\n",
            "conv2d_382 (Conv2D)             (None, None, None, 4 9216        max_pooling2d_17[0][0]           \n",
            "__________________________________________________________________________________________________\n",
            "conv2d_385 (Conv2D)             (None, None, None, 9 55296       activation_384[0][0]             \n",
            "__________________________________________________________________________________________________\n",
            "batch_normalization_382 (BatchN (None, None, None, 4 144         conv2d_382[0][0]                 \n",
            "__________________________________________________________________________________________________\n",
            "batch_normalization_385 (BatchN (None, None, None, 9 288         conv2d_385[0][0]                 \n",
            "__________________________________________________________________________________________________\n",
            "activation_382 (Activation)     (None, None, None, 4 0           batch_normalization_382[0][0]    \n",
            "__________________________________________________________________________________________________\n",
            "activation_385 (Activation)     (None, None, None, 9 0           batch_normalization_385[0][0]    \n",
            "__________________________________________________________________________________________________\n",
            "average_pooling2d_36 (AveragePo (None, None, None, 1 0           max_pooling2d_17[0][0]           \n",
            "__________________________________________________________________________________________________\n",
            "conv2d_381 (Conv2D)             (None, None, None, 6 12288       max_pooling2d_17[0][0]           \n",
            "__________________________________________________________________________________________________\n",
            "conv2d_383 (Conv2D)             (None, None, None, 6 76800       activation_382[0][0]             \n",
            "__________________________________________________________________________________________________\n",
            "conv2d_386 (Conv2D)             (None, None, None, 9 82944       activation_385[0][0]             \n",
            "__________________________________________________________________________________________________\n",
            "conv2d_387 (Conv2D)             (None, None, None, 3 6144        average_pooling2d_36[0][0]       \n",
            "__________________________________________________________________________________________________\n",
            "batch_normalization_381 (BatchN (None, None, None, 6 192         conv2d_381[0][0]                 \n",
            "__________________________________________________________________________________________________\n",
            "batch_normalization_383 (BatchN (None, None, None, 6 192         conv2d_383[0][0]                 \n",
            "__________________________________________________________________________________________________\n",
            "batch_normalization_386 (BatchN (None, None, None, 9 288         conv2d_386[0][0]                 \n",
            "__________________________________________________________________________________________________\n",
            "batch_normalization_387 (BatchN (None, None, None, 3 96          conv2d_387[0][0]                 \n",
            "__________________________________________________________________________________________________\n",
            "activation_381 (Activation)     (None, None, None, 6 0           batch_normalization_381[0][0]    \n",
            "__________________________________________________________________________________________________\n",
            "activation_383 (Activation)     (None, None, None, 6 0           batch_normalization_383[0][0]    \n",
            "__________________________________________________________________________________________________\n",
            "activation_386 (Activation)     (None, None, None, 9 0           batch_normalization_386[0][0]    \n",
            "__________________________________________________________________________________________________\n",
            "activation_387 (Activation)     (None, None, None, 3 0           batch_normalization_387[0][0]    \n",
            "__________________________________________________________________________________________________\n",
            "mixed0 (Concatenate)            (None, None, None, 2 0           activation_381[0][0]             \n",
            "                                                                 activation_383[0][0]             \n",
            "                                                                 activation_386[0][0]             \n",
            "                                                                 activation_387[0][0]             \n",
            "__________________________________________________________________________________________________\n",
            "conv2d_391 (Conv2D)             (None, None, None, 6 16384       mixed0[0][0]                     \n",
            "__________________________________________________________________________________________________\n",
            "batch_normalization_391 (BatchN (None, None, None, 6 192         conv2d_391[0][0]                 \n",
            "__________________________________________________________________________________________________\n",
            "activation_391 (Activation)     (None, None, None, 6 0           batch_normalization_391[0][0]    \n",
            "__________________________________________________________________________________________________\n",
            "conv2d_389 (Conv2D)             (None, None, None, 4 12288       mixed0[0][0]                     \n",
            "__________________________________________________________________________________________________\n",
            "conv2d_392 (Conv2D)             (None, None, None, 9 55296       activation_391[0][0]             \n",
            "__________________________________________________________________________________________________\n",
            "batch_normalization_389 (BatchN (None, None, None, 4 144         conv2d_389[0][0]                 \n",
            "__________________________________________________________________________________________________\n",
            "batch_normalization_392 (BatchN (None, None, None, 9 288         conv2d_392[0][0]                 \n",
            "__________________________________________________________________________________________________\n",
            "activation_389 (Activation)     (None, None, None, 4 0           batch_normalization_389[0][0]    \n",
            "__________________________________________________________________________________________________\n",
            "activation_392 (Activation)     (None, None, None, 9 0           batch_normalization_392[0][0]    \n",
            "__________________________________________________________________________________________________\n",
            "average_pooling2d_37 (AveragePo (None, None, None, 2 0           mixed0[0][0]                     \n",
            "__________________________________________________________________________________________________\n",
            "conv2d_388 (Conv2D)             (None, None, None, 6 16384       mixed0[0][0]                     \n",
            "__________________________________________________________________________________________________\n",
            "conv2d_390 (Conv2D)             (None, None, None, 6 76800       activation_389[0][0]             \n",
            "__________________________________________________________________________________________________\n",
            "conv2d_393 (Conv2D)             (None, None, None, 9 82944       activation_392[0][0]             \n",
            "__________________________________________________________________________________________________\n",
            "conv2d_394 (Conv2D)             (None, None, None, 6 16384       average_pooling2d_37[0][0]       \n",
            "__________________________________________________________________________________________________\n",
            "batch_normalization_388 (BatchN (None, None, None, 6 192         conv2d_388[0][0]                 \n",
            "__________________________________________________________________________________________________\n",
            "batch_normalization_390 (BatchN (None, None, None, 6 192         conv2d_390[0][0]                 \n",
            "__________________________________________________________________________________________________\n",
            "batch_normalization_393 (BatchN (None, None, None, 9 288         conv2d_393[0][0]                 \n",
            "__________________________________________________________________________________________________\n",
            "batch_normalization_394 (BatchN (None, None, None, 6 192         conv2d_394[0][0]                 \n",
            "__________________________________________________________________________________________________\n",
            "activation_388 (Activation)     (None, None, None, 6 0           batch_normalization_388[0][0]    \n",
            "__________________________________________________________________________________________________\n",
            "activation_390 (Activation)     (None, None, None, 6 0           batch_normalization_390[0][0]    \n",
            "__________________________________________________________________________________________________\n",
            "activation_393 (Activation)     (None, None, None, 9 0           batch_normalization_393[0][0]    \n",
            "__________________________________________________________________________________________________\n",
            "activation_394 (Activation)     (None, None, None, 6 0           batch_normalization_394[0][0]    \n",
            "__________________________________________________________________________________________________\n",
            "mixed1 (Concatenate)            (None, None, None, 2 0           activation_388[0][0]             \n",
            "                                                                 activation_390[0][0]             \n",
            "                                                                 activation_393[0][0]             \n",
            "                                                                 activation_394[0][0]             \n",
            "__________________________________________________________________________________________________\n",
            "conv2d_398 (Conv2D)             (None, None, None, 6 18432       mixed1[0][0]                     \n",
            "__________________________________________________________________________________________________\n",
            "batch_normalization_398 (BatchN (None, None, None, 6 192         conv2d_398[0][0]                 \n",
            "__________________________________________________________________________________________________\n",
            "activation_398 (Activation)     (None, None, None, 6 0           batch_normalization_398[0][0]    \n",
            "__________________________________________________________________________________________________\n",
            "conv2d_396 (Conv2D)             (None, None, None, 4 13824       mixed1[0][0]                     \n",
            "__________________________________________________________________________________________________\n",
            "conv2d_399 (Conv2D)             (None, None, None, 9 55296       activation_398[0][0]             \n",
            "__________________________________________________________________________________________________\n",
            "batch_normalization_396 (BatchN (None, None, None, 4 144         conv2d_396[0][0]                 \n",
            "__________________________________________________________________________________________________\n",
            "batch_normalization_399 (BatchN (None, None, None, 9 288         conv2d_399[0][0]                 \n",
            "__________________________________________________________________________________________________\n",
            "activation_396 (Activation)     (None, None, None, 4 0           batch_normalization_396[0][0]    \n",
            "__________________________________________________________________________________________________\n",
            "activation_399 (Activation)     (None, None, None, 9 0           batch_normalization_399[0][0]    \n",
            "__________________________________________________________________________________________________\n",
            "average_pooling2d_38 (AveragePo (None, None, None, 2 0           mixed1[0][0]                     \n",
            "__________________________________________________________________________________________________\n",
            "conv2d_395 (Conv2D)             (None, None, None, 6 18432       mixed1[0][0]                     \n",
            "__________________________________________________________________________________________________\n",
            "conv2d_397 (Conv2D)             (None, None, None, 6 76800       activation_396[0][0]             \n",
            "__________________________________________________________________________________________________\n",
            "conv2d_400 (Conv2D)             (None, None, None, 9 82944       activation_399[0][0]             \n",
            "__________________________________________________________________________________________________\n",
            "conv2d_401 (Conv2D)             (None, None, None, 6 18432       average_pooling2d_38[0][0]       \n",
            "__________________________________________________________________________________________________\n",
            "batch_normalization_395 (BatchN (None, None, None, 6 192         conv2d_395[0][0]                 \n",
            "__________________________________________________________________________________________________\n",
            "batch_normalization_397 (BatchN (None, None, None, 6 192         conv2d_397[0][0]                 \n",
            "__________________________________________________________________________________________________\n",
            "batch_normalization_400 (BatchN (None, None, None, 9 288         conv2d_400[0][0]                 \n",
            "__________________________________________________________________________________________________\n",
            "batch_normalization_401 (BatchN (None, None, None, 6 192         conv2d_401[0][0]                 \n",
            "__________________________________________________________________________________________________\n",
            "activation_395 (Activation)     (None, None, None, 6 0           batch_normalization_395[0][0]    \n",
            "__________________________________________________________________________________________________\n",
            "activation_397 (Activation)     (None, None, None, 6 0           batch_normalization_397[0][0]    \n",
            "__________________________________________________________________________________________________\n",
            "activation_400 (Activation)     (None, None, None, 9 0           batch_normalization_400[0][0]    \n",
            "__________________________________________________________________________________________________\n",
            "activation_401 (Activation)     (None, None, None, 6 0           batch_normalization_401[0][0]    \n",
            "__________________________________________________________________________________________________\n",
            "mixed2 (Concatenate)            (None, None, None, 2 0           activation_395[0][0]             \n",
            "                                                                 activation_397[0][0]             \n",
            "                                                                 activation_400[0][0]             \n",
            "                                                                 activation_401[0][0]             \n",
            "__________________________________________________________________________________________________\n",
            "conv2d_403 (Conv2D)             (None, None, None, 6 18432       mixed2[0][0]                     \n",
            "__________________________________________________________________________________________________\n",
            "batch_normalization_403 (BatchN (None, None, None, 6 192         conv2d_403[0][0]                 \n",
            "__________________________________________________________________________________________________\n",
            "activation_403 (Activation)     (None, None, None, 6 0           batch_normalization_403[0][0]    \n",
            "__________________________________________________________________________________________________\n",
            "conv2d_404 (Conv2D)             (None, None, None, 9 55296       activation_403[0][0]             \n",
            "__________________________________________________________________________________________________\n",
            "batch_normalization_404 (BatchN (None, None, None, 9 288         conv2d_404[0][0]                 \n",
            "__________________________________________________________________________________________________\n",
            "activation_404 (Activation)     (None, None, None, 9 0           batch_normalization_404[0][0]    \n",
            "__________________________________________________________________________________________________\n",
            "conv2d_402 (Conv2D)             (None, None, None, 3 995328      mixed2[0][0]                     \n",
            "__________________________________________________________________________________________________\n",
            "conv2d_405 (Conv2D)             (None, None, None, 9 82944       activation_404[0][0]             \n",
            "__________________________________________________________________________________________________\n",
            "batch_normalization_402 (BatchN (None, None, None, 3 1152        conv2d_402[0][0]                 \n",
            "__________________________________________________________________________________________________\n",
            "batch_normalization_405 (BatchN (None, None, None, 9 288         conv2d_405[0][0]                 \n",
            "__________________________________________________________________________________________________\n",
            "activation_402 (Activation)     (None, None, None, 3 0           batch_normalization_402[0][0]    \n",
            "__________________________________________________________________________________________________\n",
            "activation_405 (Activation)     (None, None, None, 9 0           batch_normalization_405[0][0]    \n",
            "__________________________________________________________________________________________________\n",
            "max_pooling2d_18 (MaxPooling2D) (None, None, None, 2 0           mixed2[0][0]                     \n",
            "__________________________________________________________________________________________________\n",
            "mixed3 (Concatenate)            (None, None, None, 7 0           activation_402[0][0]             \n",
            "                                                                 activation_405[0][0]             \n",
            "                                                                 max_pooling2d_18[0][0]           \n",
            "__________________________________________________________________________________________________\n",
            "conv2d_410 (Conv2D)             (None, None, None, 1 98304       mixed3[0][0]                     \n",
            "__________________________________________________________________________________________________\n",
            "batch_normalization_410 (BatchN (None, None, None, 1 384         conv2d_410[0][0]                 \n",
            "__________________________________________________________________________________________________\n",
            "activation_410 (Activation)     (None, None, None, 1 0           batch_normalization_410[0][0]    \n",
            "__________________________________________________________________________________________________\n",
            "conv2d_411 (Conv2D)             (None, None, None, 1 114688      activation_410[0][0]             \n",
            "__________________________________________________________________________________________________\n",
            "batch_normalization_411 (BatchN (None, None, None, 1 384         conv2d_411[0][0]                 \n",
            "__________________________________________________________________________________________________\n",
            "activation_411 (Activation)     (None, None, None, 1 0           batch_normalization_411[0][0]    \n",
            "__________________________________________________________________________________________________\n",
            "conv2d_407 (Conv2D)             (None, None, None, 1 98304       mixed3[0][0]                     \n",
            "__________________________________________________________________________________________________\n",
            "conv2d_412 (Conv2D)             (None, None, None, 1 114688      activation_411[0][0]             \n",
            "__________________________________________________________________________________________________\n",
            "batch_normalization_407 (BatchN (None, None, None, 1 384         conv2d_407[0][0]                 \n",
            "__________________________________________________________________________________________________\n",
            "batch_normalization_412 (BatchN (None, None, None, 1 384         conv2d_412[0][0]                 \n",
            "__________________________________________________________________________________________________\n",
            "activation_407 (Activation)     (None, None, None, 1 0           batch_normalization_407[0][0]    \n",
            "__________________________________________________________________________________________________\n",
            "activation_412 (Activation)     (None, None, None, 1 0           batch_normalization_412[0][0]    \n",
            "__________________________________________________________________________________________________\n",
            "conv2d_408 (Conv2D)             (None, None, None, 1 114688      activation_407[0][0]             \n",
            "__________________________________________________________________________________________________\n",
            "conv2d_413 (Conv2D)             (None, None, None, 1 114688      activation_412[0][0]             \n",
            "__________________________________________________________________________________________________\n",
            "batch_normalization_408 (BatchN (None, None, None, 1 384         conv2d_408[0][0]                 \n",
            "__________________________________________________________________________________________________\n",
            "batch_normalization_413 (BatchN (None, None, None, 1 384         conv2d_413[0][0]                 \n",
            "__________________________________________________________________________________________________\n",
            "activation_408 (Activation)     (None, None, None, 1 0           batch_normalization_408[0][0]    \n",
            "__________________________________________________________________________________________________\n",
            "activation_413 (Activation)     (None, None, None, 1 0           batch_normalization_413[0][0]    \n",
            "__________________________________________________________________________________________________\n",
            "average_pooling2d_39 (AveragePo (None, None, None, 7 0           mixed3[0][0]                     \n",
            "__________________________________________________________________________________________________\n",
            "conv2d_406 (Conv2D)             (None, None, None, 1 147456      mixed3[0][0]                     \n",
            "__________________________________________________________________________________________________\n",
            "conv2d_409 (Conv2D)             (None, None, None, 1 172032      activation_408[0][0]             \n",
            "__________________________________________________________________________________________________\n",
            "conv2d_414 (Conv2D)             (None, None, None, 1 172032      activation_413[0][0]             \n",
            "__________________________________________________________________________________________________\n",
            "conv2d_415 (Conv2D)             (None, None, None, 1 147456      average_pooling2d_39[0][0]       \n",
            "__________________________________________________________________________________________________\n",
            "batch_normalization_406 (BatchN (None, None, None, 1 576         conv2d_406[0][0]                 \n",
            "__________________________________________________________________________________________________\n",
            "batch_normalization_409 (BatchN (None, None, None, 1 576         conv2d_409[0][0]                 \n",
            "__________________________________________________________________________________________________\n",
            "batch_normalization_414 (BatchN (None, None, None, 1 576         conv2d_414[0][0]                 \n",
            "__________________________________________________________________________________________________\n",
            "batch_normalization_415 (BatchN (None, None, None, 1 576         conv2d_415[0][0]                 \n",
            "__________________________________________________________________________________________________\n",
            "activation_406 (Activation)     (None, None, None, 1 0           batch_normalization_406[0][0]    \n",
            "__________________________________________________________________________________________________\n",
            "activation_409 (Activation)     (None, None, None, 1 0           batch_normalization_409[0][0]    \n",
            "__________________________________________________________________________________________________\n",
            "activation_414 (Activation)     (None, None, None, 1 0           batch_normalization_414[0][0]    \n",
            "__________________________________________________________________________________________________\n",
            "activation_415 (Activation)     (None, None, None, 1 0           batch_normalization_415[0][0]    \n",
            "__________________________________________________________________________________________________\n",
            "mixed4 (Concatenate)            (None, None, None, 7 0           activation_406[0][0]             \n",
            "                                                                 activation_409[0][0]             \n",
            "                                                                 activation_414[0][0]             \n",
            "                                                                 activation_415[0][0]             \n",
            "__________________________________________________________________________________________________\n",
            "conv2d_420 (Conv2D)             (None, None, None, 1 122880      mixed4[0][0]                     \n",
            "__________________________________________________________________________________________________\n",
            "batch_normalization_420 (BatchN (None, None, None, 1 480         conv2d_420[0][0]                 \n",
            "__________________________________________________________________________________________________\n",
            "activation_420 (Activation)     (None, None, None, 1 0           batch_normalization_420[0][0]    \n",
            "__________________________________________________________________________________________________\n",
            "conv2d_421 (Conv2D)             (None, None, None, 1 179200      activation_420[0][0]             \n",
            "__________________________________________________________________________________________________\n",
            "batch_normalization_421 (BatchN (None, None, None, 1 480         conv2d_421[0][0]                 \n",
            "__________________________________________________________________________________________________\n",
            "activation_421 (Activation)     (None, None, None, 1 0           batch_normalization_421[0][0]    \n",
            "__________________________________________________________________________________________________\n",
            "conv2d_417 (Conv2D)             (None, None, None, 1 122880      mixed4[0][0]                     \n",
            "__________________________________________________________________________________________________\n",
            "conv2d_422 (Conv2D)             (None, None, None, 1 179200      activation_421[0][0]             \n",
            "__________________________________________________________________________________________________\n",
            "batch_normalization_417 (BatchN (None, None, None, 1 480         conv2d_417[0][0]                 \n",
            "__________________________________________________________________________________________________\n",
            "batch_normalization_422 (BatchN (None, None, None, 1 480         conv2d_422[0][0]                 \n",
            "__________________________________________________________________________________________________\n",
            "activation_417 (Activation)     (None, None, None, 1 0           batch_normalization_417[0][0]    \n",
            "__________________________________________________________________________________________________\n",
            "activation_422 (Activation)     (None, None, None, 1 0           batch_normalization_422[0][0]    \n",
            "__________________________________________________________________________________________________\n",
            "conv2d_418 (Conv2D)             (None, None, None, 1 179200      activation_417[0][0]             \n",
            "__________________________________________________________________________________________________\n",
            "conv2d_423 (Conv2D)             (None, None, None, 1 179200      activation_422[0][0]             \n",
            "__________________________________________________________________________________________________\n",
            "batch_normalization_418 (BatchN (None, None, None, 1 480         conv2d_418[0][0]                 \n",
            "__________________________________________________________________________________________________\n",
            "batch_normalization_423 (BatchN (None, None, None, 1 480         conv2d_423[0][0]                 \n",
            "__________________________________________________________________________________________________\n",
            "activation_418 (Activation)     (None, None, None, 1 0           batch_normalization_418[0][0]    \n",
            "__________________________________________________________________________________________________\n",
            "activation_423 (Activation)     (None, None, None, 1 0           batch_normalization_423[0][0]    \n",
            "__________________________________________________________________________________________________\n",
            "average_pooling2d_40 (AveragePo (None, None, None, 7 0           mixed4[0][0]                     \n",
            "__________________________________________________________________________________________________\n",
            "conv2d_416 (Conv2D)             (None, None, None, 1 147456      mixed4[0][0]                     \n",
            "__________________________________________________________________________________________________\n",
            "conv2d_419 (Conv2D)             (None, None, None, 1 215040      activation_418[0][0]             \n",
            "__________________________________________________________________________________________________\n",
            "conv2d_424 (Conv2D)             (None, None, None, 1 215040      activation_423[0][0]             \n",
            "__________________________________________________________________________________________________\n",
            "conv2d_425 (Conv2D)             (None, None, None, 1 147456      average_pooling2d_40[0][0]       \n",
            "__________________________________________________________________________________________________\n",
            "batch_normalization_416 (BatchN (None, None, None, 1 576         conv2d_416[0][0]                 \n",
            "__________________________________________________________________________________________________\n",
            "batch_normalization_419 (BatchN (None, None, None, 1 576         conv2d_419[0][0]                 \n",
            "__________________________________________________________________________________________________\n",
            "batch_normalization_424 (BatchN (None, None, None, 1 576         conv2d_424[0][0]                 \n",
            "__________________________________________________________________________________________________\n",
            "batch_normalization_425 (BatchN (None, None, None, 1 576         conv2d_425[0][0]                 \n",
            "__________________________________________________________________________________________________\n",
            "activation_416 (Activation)     (None, None, None, 1 0           batch_normalization_416[0][0]    \n",
            "__________________________________________________________________________________________________\n",
            "activation_419 (Activation)     (None, None, None, 1 0           batch_normalization_419[0][0]    \n",
            "__________________________________________________________________________________________________\n",
            "activation_424 (Activation)     (None, None, None, 1 0           batch_normalization_424[0][0]    \n",
            "__________________________________________________________________________________________________\n",
            "activation_425 (Activation)     (None, None, None, 1 0           batch_normalization_425[0][0]    \n",
            "__________________________________________________________________________________________________\n",
            "mixed5 (Concatenate)            (None, None, None, 7 0           activation_416[0][0]             \n",
            "                                                                 activation_419[0][0]             \n",
            "                                                                 activation_424[0][0]             \n",
            "                                                                 activation_425[0][0]             \n",
            "__________________________________________________________________________________________________\n",
            "conv2d_430 (Conv2D)             (None, None, None, 1 122880      mixed5[0][0]                     \n",
            "__________________________________________________________________________________________________\n",
            "batch_normalization_430 (BatchN (None, None, None, 1 480         conv2d_430[0][0]                 \n",
            "__________________________________________________________________________________________________\n",
            "activation_430 (Activation)     (None, None, None, 1 0           batch_normalization_430[0][0]    \n",
            "__________________________________________________________________________________________________\n",
            "conv2d_431 (Conv2D)             (None, None, None, 1 179200      activation_430[0][0]             \n",
            "__________________________________________________________________________________________________\n",
            "batch_normalization_431 (BatchN (None, None, None, 1 480         conv2d_431[0][0]                 \n",
            "__________________________________________________________________________________________________\n",
            "activation_431 (Activation)     (None, None, None, 1 0           batch_normalization_431[0][0]    \n",
            "__________________________________________________________________________________________________\n",
            "conv2d_427 (Conv2D)             (None, None, None, 1 122880      mixed5[0][0]                     \n",
            "__________________________________________________________________________________________________\n",
            "conv2d_432 (Conv2D)             (None, None, None, 1 179200      activation_431[0][0]             \n",
            "__________________________________________________________________________________________________\n",
            "batch_normalization_427 (BatchN (None, None, None, 1 480         conv2d_427[0][0]                 \n",
            "__________________________________________________________________________________________________\n",
            "batch_normalization_432 (BatchN (None, None, None, 1 480         conv2d_432[0][0]                 \n",
            "__________________________________________________________________________________________________\n",
            "activation_427 (Activation)     (None, None, None, 1 0           batch_normalization_427[0][0]    \n",
            "__________________________________________________________________________________________________\n",
            "activation_432 (Activation)     (None, None, None, 1 0           batch_normalization_432[0][0]    \n",
            "__________________________________________________________________________________________________\n",
            "conv2d_428 (Conv2D)             (None, None, None, 1 179200      activation_427[0][0]             \n",
            "__________________________________________________________________________________________________\n",
            "conv2d_433 (Conv2D)             (None, None, None, 1 179200      activation_432[0][0]             \n",
            "__________________________________________________________________________________________________\n",
            "batch_normalization_428 (BatchN (None, None, None, 1 480         conv2d_428[0][0]                 \n",
            "__________________________________________________________________________________________________\n",
            "batch_normalization_433 (BatchN (None, None, None, 1 480         conv2d_433[0][0]                 \n",
            "__________________________________________________________________________________________________\n",
            "activation_428 (Activation)     (None, None, None, 1 0           batch_normalization_428[0][0]    \n",
            "__________________________________________________________________________________________________\n",
            "activation_433 (Activation)     (None, None, None, 1 0           batch_normalization_433[0][0]    \n",
            "__________________________________________________________________________________________________\n",
            "average_pooling2d_41 (AveragePo (None, None, None, 7 0           mixed5[0][0]                     \n",
            "__________________________________________________________________________________________________\n",
            "conv2d_426 (Conv2D)             (None, None, None, 1 147456      mixed5[0][0]                     \n",
            "__________________________________________________________________________________________________\n",
            "conv2d_429 (Conv2D)             (None, None, None, 1 215040      activation_428[0][0]             \n",
            "__________________________________________________________________________________________________\n",
            "conv2d_434 (Conv2D)             (None, None, None, 1 215040      activation_433[0][0]             \n",
            "__________________________________________________________________________________________________\n",
            "conv2d_435 (Conv2D)             (None, None, None, 1 147456      average_pooling2d_41[0][0]       \n",
            "__________________________________________________________________________________________________\n",
            "batch_normalization_426 (BatchN (None, None, None, 1 576         conv2d_426[0][0]                 \n",
            "__________________________________________________________________________________________________\n",
            "batch_normalization_429 (BatchN (None, None, None, 1 576         conv2d_429[0][0]                 \n",
            "__________________________________________________________________________________________________\n",
            "batch_normalization_434 (BatchN (None, None, None, 1 576         conv2d_434[0][0]                 \n",
            "__________________________________________________________________________________________________\n",
            "batch_normalization_435 (BatchN (None, None, None, 1 576         conv2d_435[0][0]                 \n",
            "__________________________________________________________________________________________________\n",
            "activation_426 (Activation)     (None, None, None, 1 0           batch_normalization_426[0][0]    \n",
            "__________________________________________________________________________________________________\n",
            "activation_429 (Activation)     (None, None, None, 1 0           batch_normalization_429[0][0]    \n",
            "__________________________________________________________________________________________________\n",
            "activation_434 (Activation)     (None, None, None, 1 0           batch_normalization_434[0][0]    \n",
            "__________________________________________________________________________________________________\n",
            "activation_435 (Activation)     (None, None, None, 1 0           batch_normalization_435[0][0]    \n",
            "__________________________________________________________________________________________________\n",
            "mixed6 (Concatenate)            (None, None, None, 7 0           activation_426[0][0]             \n",
            "                                                                 activation_429[0][0]             \n",
            "                                                                 activation_434[0][0]             \n",
            "                                                                 activation_435[0][0]             \n",
            "__________________________________________________________________________________________________\n",
            "conv2d_440 (Conv2D)             (None, None, None, 1 147456      mixed6[0][0]                     \n",
            "__________________________________________________________________________________________________\n",
            "batch_normalization_440 (BatchN (None, None, None, 1 576         conv2d_440[0][0]                 \n",
            "__________________________________________________________________________________________________\n",
            "activation_440 (Activation)     (None, None, None, 1 0           batch_normalization_440[0][0]    \n",
            "__________________________________________________________________________________________________\n",
            "conv2d_441 (Conv2D)             (None, None, None, 1 258048      activation_440[0][0]             \n",
            "__________________________________________________________________________________________________\n",
            "batch_normalization_441 (BatchN (None, None, None, 1 576         conv2d_441[0][0]                 \n",
            "__________________________________________________________________________________________________\n",
            "activation_441 (Activation)     (None, None, None, 1 0           batch_normalization_441[0][0]    \n",
            "__________________________________________________________________________________________________\n",
            "conv2d_437 (Conv2D)             (None, None, None, 1 147456      mixed6[0][0]                     \n",
            "__________________________________________________________________________________________________\n",
            "conv2d_442 (Conv2D)             (None, None, None, 1 258048      activation_441[0][0]             \n",
            "__________________________________________________________________________________________________\n",
            "batch_normalization_437 (BatchN (None, None, None, 1 576         conv2d_437[0][0]                 \n",
            "__________________________________________________________________________________________________\n",
            "batch_normalization_442 (BatchN (None, None, None, 1 576         conv2d_442[0][0]                 \n",
            "__________________________________________________________________________________________________\n",
            "activation_437 (Activation)     (None, None, None, 1 0           batch_normalization_437[0][0]    \n",
            "__________________________________________________________________________________________________\n",
            "activation_442 (Activation)     (None, None, None, 1 0           batch_normalization_442[0][0]    \n",
            "__________________________________________________________________________________________________\n",
            "conv2d_438 (Conv2D)             (None, None, None, 1 258048      activation_437[0][0]             \n",
            "__________________________________________________________________________________________________\n",
            "conv2d_443 (Conv2D)             (None, None, None, 1 258048      activation_442[0][0]             \n",
            "__________________________________________________________________________________________________\n",
            "batch_normalization_438 (BatchN (None, None, None, 1 576         conv2d_438[0][0]                 \n",
            "__________________________________________________________________________________________________\n",
            "batch_normalization_443 (BatchN (None, None, None, 1 576         conv2d_443[0][0]                 \n",
            "__________________________________________________________________________________________________\n",
            "activation_438 (Activation)     (None, None, None, 1 0           batch_normalization_438[0][0]    \n",
            "__________________________________________________________________________________________________\n",
            "activation_443 (Activation)     (None, None, None, 1 0           batch_normalization_443[0][0]    \n",
            "__________________________________________________________________________________________________\n",
            "average_pooling2d_42 (AveragePo (None, None, None, 7 0           mixed6[0][0]                     \n",
            "__________________________________________________________________________________________________\n",
            "conv2d_436 (Conv2D)             (None, None, None, 1 147456      mixed6[0][0]                     \n",
            "__________________________________________________________________________________________________\n",
            "conv2d_439 (Conv2D)             (None, None, None, 1 258048      activation_438[0][0]             \n",
            "__________________________________________________________________________________________________\n",
            "conv2d_444 (Conv2D)             (None, None, None, 1 258048      activation_443[0][0]             \n",
            "__________________________________________________________________________________________________\n",
            "conv2d_445 (Conv2D)             (None, None, None, 1 147456      average_pooling2d_42[0][0]       \n",
            "__________________________________________________________________________________________________\n",
            "batch_normalization_436 (BatchN (None, None, None, 1 576         conv2d_436[0][0]                 \n",
            "__________________________________________________________________________________________________\n",
            "batch_normalization_439 (BatchN (None, None, None, 1 576         conv2d_439[0][0]                 \n",
            "__________________________________________________________________________________________________\n",
            "batch_normalization_444 (BatchN (None, None, None, 1 576         conv2d_444[0][0]                 \n",
            "__________________________________________________________________________________________________\n",
            "batch_normalization_445 (BatchN (None, None, None, 1 576         conv2d_445[0][0]                 \n",
            "__________________________________________________________________________________________________\n",
            "activation_436 (Activation)     (None, None, None, 1 0           batch_normalization_436[0][0]    \n",
            "__________________________________________________________________________________________________\n",
            "activation_439 (Activation)     (None, None, None, 1 0           batch_normalization_439[0][0]    \n",
            "__________________________________________________________________________________________________\n",
            "activation_444 (Activation)     (None, None, None, 1 0           batch_normalization_444[0][0]    \n",
            "__________________________________________________________________________________________________\n",
            "activation_445 (Activation)     (None, None, None, 1 0           batch_normalization_445[0][0]    \n",
            "__________________________________________________________________________________________________\n",
            "mixed7 (Concatenate)            (None, None, None, 7 0           activation_436[0][0]             \n",
            "                                                                 activation_439[0][0]             \n",
            "                                                                 activation_444[0][0]             \n",
            "                                                                 activation_445[0][0]             \n",
            "__________________________________________________________________________________________________\n",
            "conv2d_448 (Conv2D)             (None, None, None, 1 147456      mixed7[0][0]                     \n",
            "__________________________________________________________________________________________________\n",
            "batch_normalization_448 (BatchN (None, None, None, 1 576         conv2d_448[0][0]                 \n",
            "__________________________________________________________________________________________________\n",
            "activation_448 (Activation)     (None, None, None, 1 0           batch_normalization_448[0][0]    \n",
            "__________________________________________________________________________________________________\n",
            "conv2d_449 (Conv2D)             (None, None, None, 1 258048      activation_448[0][0]             \n",
            "__________________________________________________________________________________________________\n",
            "batch_normalization_449 (BatchN (None, None, None, 1 576         conv2d_449[0][0]                 \n",
            "__________________________________________________________________________________________________\n",
            "activation_449 (Activation)     (None, None, None, 1 0           batch_normalization_449[0][0]    \n",
            "__________________________________________________________________________________________________\n",
            "conv2d_446 (Conv2D)             (None, None, None, 1 147456      mixed7[0][0]                     \n",
            "__________________________________________________________________________________________________\n",
            "conv2d_450 (Conv2D)             (None, None, None, 1 258048      activation_449[0][0]             \n",
            "__________________________________________________________________________________________________\n",
            "batch_normalization_446 (BatchN (None, None, None, 1 576         conv2d_446[0][0]                 \n",
            "__________________________________________________________________________________________________\n",
            "batch_normalization_450 (BatchN (None, None, None, 1 576         conv2d_450[0][0]                 \n",
            "__________________________________________________________________________________________________\n",
            "activation_446 (Activation)     (None, None, None, 1 0           batch_normalization_446[0][0]    \n",
            "__________________________________________________________________________________________________\n",
            "activation_450 (Activation)     (None, None, None, 1 0           batch_normalization_450[0][0]    \n",
            "__________________________________________________________________________________________________\n",
            "conv2d_447 (Conv2D)             (None, None, None, 3 552960      activation_446[0][0]             \n",
            "__________________________________________________________________________________________________\n",
            "conv2d_451 (Conv2D)             (None, None, None, 1 331776      activation_450[0][0]             \n",
            "__________________________________________________________________________________________________\n",
            "batch_normalization_447 (BatchN (None, None, None, 3 960         conv2d_447[0][0]                 \n",
            "__________________________________________________________________________________________________\n",
            "batch_normalization_451 (BatchN (None, None, None, 1 576         conv2d_451[0][0]                 \n",
            "__________________________________________________________________________________________________\n",
            "activation_447 (Activation)     (None, None, None, 3 0           batch_normalization_447[0][0]    \n",
            "__________________________________________________________________________________________________\n",
            "activation_451 (Activation)     (None, None, None, 1 0           batch_normalization_451[0][0]    \n",
            "__________________________________________________________________________________________________\n",
            "max_pooling2d_19 (MaxPooling2D) (None, None, None, 7 0           mixed7[0][0]                     \n",
            "__________________________________________________________________________________________________\n",
            "mixed8 (Concatenate)            (None, None, None, 1 0           activation_447[0][0]             \n",
            "                                                                 activation_451[0][0]             \n",
            "                                                                 max_pooling2d_19[0][0]           \n",
            "__________________________________________________________________________________________________\n",
            "conv2d_456 (Conv2D)             (None, None, None, 4 573440      mixed8[0][0]                     \n",
            "__________________________________________________________________________________________________\n",
            "batch_normalization_456 (BatchN (None, None, None, 4 1344        conv2d_456[0][0]                 \n",
            "__________________________________________________________________________________________________\n",
            "activation_456 (Activation)     (None, None, None, 4 0           batch_normalization_456[0][0]    \n",
            "__________________________________________________________________________________________________\n",
            "conv2d_453 (Conv2D)             (None, None, None, 3 491520      mixed8[0][0]                     \n",
            "__________________________________________________________________________________________________\n",
            "conv2d_457 (Conv2D)             (None, None, None, 3 1548288     activation_456[0][0]             \n",
            "__________________________________________________________________________________________________\n",
            "batch_normalization_453 (BatchN (None, None, None, 3 1152        conv2d_453[0][0]                 \n",
            "__________________________________________________________________________________________________\n",
            "batch_normalization_457 (BatchN (None, None, None, 3 1152        conv2d_457[0][0]                 \n",
            "__________________________________________________________________________________________________\n",
            "activation_453 (Activation)     (None, None, None, 3 0           batch_normalization_453[0][0]    \n",
            "__________________________________________________________________________________________________\n",
            "activation_457 (Activation)     (None, None, None, 3 0           batch_normalization_457[0][0]    \n",
            "__________________________________________________________________________________________________\n",
            "conv2d_454 (Conv2D)             (None, None, None, 3 442368      activation_453[0][0]             \n",
            "__________________________________________________________________________________________________\n",
            "conv2d_455 (Conv2D)             (None, None, None, 3 442368      activation_453[0][0]             \n",
            "__________________________________________________________________________________________________\n",
            "conv2d_458 (Conv2D)             (None, None, None, 3 442368      activation_457[0][0]             \n",
            "__________________________________________________________________________________________________\n",
            "conv2d_459 (Conv2D)             (None, None, None, 3 442368      activation_457[0][0]             \n",
            "__________________________________________________________________________________________________\n",
            "average_pooling2d_43 (AveragePo (None, None, None, 1 0           mixed8[0][0]                     \n",
            "__________________________________________________________________________________________________\n",
            "conv2d_452 (Conv2D)             (None, None, None, 3 409600      mixed8[0][0]                     \n",
            "__________________________________________________________________________________________________\n",
            "batch_normalization_454 (BatchN (None, None, None, 3 1152        conv2d_454[0][0]                 \n",
            "__________________________________________________________________________________________________\n",
            "batch_normalization_455 (BatchN (None, None, None, 3 1152        conv2d_455[0][0]                 \n",
            "__________________________________________________________________________________________________\n",
            "batch_normalization_458 (BatchN (None, None, None, 3 1152        conv2d_458[0][0]                 \n",
            "__________________________________________________________________________________________________\n",
            "batch_normalization_459 (BatchN (None, None, None, 3 1152        conv2d_459[0][0]                 \n",
            "__________________________________________________________________________________________________\n",
            "conv2d_460 (Conv2D)             (None, None, None, 1 245760      average_pooling2d_43[0][0]       \n",
            "__________________________________________________________________________________________________\n",
            "batch_normalization_452 (BatchN (None, None, None, 3 960         conv2d_452[0][0]                 \n",
            "__________________________________________________________________________________________________\n",
            "activation_454 (Activation)     (None, None, None, 3 0           batch_normalization_454[0][0]    \n",
            "__________________________________________________________________________________________________\n",
            "activation_455 (Activation)     (None, None, None, 3 0           batch_normalization_455[0][0]    \n",
            "__________________________________________________________________________________________________\n",
            "activation_458 (Activation)     (None, None, None, 3 0           batch_normalization_458[0][0]    \n",
            "__________________________________________________________________________________________________\n",
            "activation_459 (Activation)     (None, None, None, 3 0           batch_normalization_459[0][0]    \n",
            "__________________________________________________________________________________________________\n",
            "batch_normalization_460 (BatchN (None, None, None, 1 576         conv2d_460[0][0]                 \n",
            "__________________________________________________________________________________________________\n",
            "activation_452 (Activation)     (None, None, None, 3 0           batch_normalization_452[0][0]    \n",
            "__________________________________________________________________________________________________\n",
            "mixed9_0 (Concatenate)          (None, None, None, 7 0           activation_454[0][0]             \n",
            "                                                                 activation_455[0][0]             \n",
            "__________________________________________________________________________________________________\n",
            "concatenate_8 (Concatenate)     (None, None, None, 7 0           activation_458[0][0]             \n",
            "                                                                 activation_459[0][0]             \n",
            "__________________________________________________________________________________________________\n",
            "activation_460 (Activation)     (None, None, None, 1 0           batch_normalization_460[0][0]    \n",
            "__________________________________________________________________________________________________\n",
            "mixed9 (Concatenate)            (None, None, None, 2 0           activation_452[0][0]             \n",
            "                                                                 mixed9_0[0][0]                   \n",
            "                                                                 concatenate_8[0][0]              \n",
            "                                                                 activation_460[0][0]             \n",
            "__________________________________________________________________________________________________\n",
            "conv2d_465 (Conv2D)             (None, None, None, 4 917504      mixed9[0][0]                     \n",
            "__________________________________________________________________________________________________\n",
            "batch_normalization_465 (BatchN (None, None, None, 4 1344        conv2d_465[0][0]                 \n",
            "__________________________________________________________________________________________________\n",
            "activation_465 (Activation)     (None, None, None, 4 0           batch_normalization_465[0][0]    \n",
            "__________________________________________________________________________________________________\n",
            "conv2d_462 (Conv2D)             (None, None, None, 3 786432      mixed9[0][0]                     \n",
            "__________________________________________________________________________________________________\n",
            "conv2d_466 (Conv2D)             (None, None, None, 3 1548288     activation_465[0][0]             \n",
            "__________________________________________________________________________________________________\n",
            "batch_normalization_462 (BatchN (None, None, None, 3 1152        conv2d_462[0][0]                 \n",
            "__________________________________________________________________________________________________\n",
            "batch_normalization_466 (BatchN (None, None, None, 3 1152        conv2d_466[0][0]                 \n",
            "__________________________________________________________________________________________________\n",
            "activation_462 (Activation)     (None, None, None, 3 0           batch_normalization_462[0][0]    \n",
            "__________________________________________________________________________________________________\n",
            "activation_466 (Activation)     (None, None, None, 3 0           batch_normalization_466[0][0]    \n",
            "__________________________________________________________________________________________________\n",
            "conv2d_463 (Conv2D)             (None, None, None, 3 442368      activation_462[0][0]             \n",
            "__________________________________________________________________________________________________\n",
            "conv2d_464 (Conv2D)             (None, None, None, 3 442368      activation_462[0][0]             \n",
            "__________________________________________________________________________________________________\n",
            "conv2d_467 (Conv2D)             (None, None, None, 3 442368      activation_466[0][0]             \n",
            "__________________________________________________________________________________________________\n",
            "conv2d_468 (Conv2D)             (None, None, None, 3 442368      activation_466[0][0]             \n",
            "__________________________________________________________________________________________________\n",
            "average_pooling2d_44 (AveragePo (None, None, None, 2 0           mixed9[0][0]                     \n",
            "__________________________________________________________________________________________________\n",
            "conv2d_461 (Conv2D)             (None, None, None, 3 655360      mixed9[0][0]                     \n",
            "__________________________________________________________________________________________________\n",
            "batch_normalization_463 (BatchN (None, None, None, 3 1152        conv2d_463[0][0]                 \n",
            "__________________________________________________________________________________________________\n",
            "batch_normalization_464 (BatchN (None, None, None, 3 1152        conv2d_464[0][0]                 \n",
            "__________________________________________________________________________________________________\n",
            "batch_normalization_467 (BatchN (None, None, None, 3 1152        conv2d_467[0][0]                 \n",
            "__________________________________________________________________________________________________\n",
            "batch_normalization_468 (BatchN (None, None, None, 3 1152        conv2d_468[0][0]                 \n",
            "__________________________________________________________________________________________________\n",
            "conv2d_469 (Conv2D)             (None, None, None, 1 393216      average_pooling2d_44[0][0]       \n",
            "__________________________________________________________________________________________________\n",
            "batch_normalization_461 (BatchN (None, None, None, 3 960         conv2d_461[0][0]                 \n",
            "__________________________________________________________________________________________________\n",
            "activation_463 (Activation)     (None, None, None, 3 0           batch_normalization_463[0][0]    \n",
            "__________________________________________________________________________________________________\n",
            "activation_464 (Activation)     (None, None, None, 3 0           batch_normalization_464[0][0]    \n",
            "__________________________________________________________________________________________________\n",
            "activation_467 (Activation)     (None, None, None, 3 0           batch_normalization_467[0][0]    \n",
            "__________________________________________________________________________________________________\n",
            "activation_468 (Activation)     (None, None, None, 3 0           batch_normalization_468[0][0]    \n",
            "__________________________________________________________________________________________________\n",
            "batch_normalization_469 (BatchN (None, None, None, 1 576         conv2d_469[0][0]                 \n",
            "__________________________________________________________________________________________________\n",
            "activation_461 (Activation)     (None, None, None, 3 0           batch_normalization_461[0][0]    \n",
            "__________________________________________________________________________________________________\n",
            "mixed9_1 (Concatenate)          (None, None, None, 7 0           activation_463[0][0]             \n",
            "                                                                 activation_464[0][0]             \n",
            "__________________________________________________________________________________________________\n",
            "concatenate_9 (Concatenate)     (None, None, None, 7 0           activation_467[0][0]             \n",
            "                                                                 activation_468[0][0]             \n",
            "__________________________________________________________________________________________________\n",
            "activation_469 (Activation)     (None, None, None, 1 0           batch_normalization_469[0][0]    \n",
            "__________________________________________________________________________________________________\n",
            "mixed10 (Concatenate)           (None, None, None, 2 0           activation_461[0][0]             \n",
            "                                                                 mixed9_1[0][0]                   \n",
            "                                                                 concatenate_9[0][0]              \n",
            "                                                                 activation_469[0][0]             \n",
            "__________________________________________________________________________________________________\n",
            "global_average_pooling2d_4 (Glo (None, 2048)         0           mixed10[0][0]                    \n",
            "__________________________________________________________________________________________________\n",
            "dropout_6 (Dropout)             (None, 2048)         0           global_average_pooling2d_4[0][0] \n",
            "__________________________________________________________________________________________________\n",
            "dense_9 (Dense)                 (None, 2048)         4196352     dropout_6[0][0]                  \n",
            "__________________________________________________________________________________________________\n",
            "dropout_7 (Dropout)             (None, 2048)         0           dense_9[0][0]                    \n",
            "__________________________________________________________________________________________________\n",
            "dense_10 (Dense)                (None, 2048)         4196352     dropout_7[0][0]                  \n",
            "__________________________________________________________________________________________________\n",
            "dropout_8 (Dropout)             (None, 2048)         0           dense_10[0][0]                   \n",
            "__________________________________________________________________________________________________\n",
            "dense_12 (Dense)                (None, 2048)         4196352     dropout_8[0][0]                  \n",
            "==================================================================================================\n",
            "Total params: 34,391,840\n",
            "Trainable params: 34,357,408\n",
            "Non-trainable params: 34,432\n",
            "__________________________________________________________________________________________________\n"
          ],
          "name": "stdout"
        }
      ]
    },
    {
      "cell_type": "code",
      "metadata": {
        "id": "30A0nmF16C1v"
      },
      "source": [
        "sketches_features_train = extract_features(extractor, sketches_generator_train, 15000, dim=2048)\n",
        "sketches_features_test = extract_features(extractor, sketches_generator_test, 5000, dim=2048)\n",
        "mirflickr_features = extract_features(extractor, mirflickr_generator, 25000, dim=2048)"
      ],
      "execution_count": null,
      "outputs": []
    },
    {
      "cell_type": "markdown",
      "metadata": {
        "id": "nVnSpZXS72uo"
      },
      "source": [
        "# NO Index mAP"
      ]
    },
    {
      "cell_type": "code",
      "metadata": {
        "colab": {
          "base_uri": "https://localhost:8080/"
        },
        "id": "nFi4-u4w71l-",
        "outputId": "213c43db-1e25-49bb-cca1-0dd9ef44081d"
      },
      "source": [
        "print('mAP on train')\n",
        "no_index_base = NO_INDEX()\n",
        "no_index_base.insert(np.vstack((sketches_features_train, mirflickr_features)), \n",
        "              np.concatenate((sketches_generator_train.filenames, mirflickr_generator.filenames)), \n",
        "              np.concatenate((sketches_generator_train.labels, np.array([250] * mirflickr_features.shape[0]))))\n",
        "print('Euclidean mAP')\n",
        "print(mAP(no_index_base, sketches_features_train, img_per_labels=train_images_per_class))\n",
        "print('Cosine mAP')\n",
        "print(mAP(no_index_base, sketches_features_train, mode = 'similarity', img_per_labels=train_images_per_class))\n",
        "print('')\n",
        "\n",
        "print('mAP using test as query on train')\n",
        "\n",
        "print('Euclidean mAP')\n",
        "print(mAP(no_index_base, sketches_features_test, img_per_labels=test_images_per_class, check_first_label=False, n_ground_truth=train_images_per_class))\n",
        "print('Cosine mAP')\n",
        "print(mAP(no_index_base, sketches_features_test, mode = 'similarity', img_per_labels=test_images_per_class, check_first_label=False, n_ground_truth=train_images_per_class))\n",
        "print('')\n",
        "\n",
        "\n",
        "del no_index_base"
      ],
      "execution_count": null,
      "outputs": [
        {
          "output_type": "stream",
          "text": [
            "mAP on train\n",
            "Euclidean mAP\n",
            "0.39624772359313365\n",
            "Cosine mAP\n",
            "0.45834064304191197\n",
            "\n",
            "mAP using test as query on train\n",
            "Euclidean mAP\n",
            "0.15376194037501312\n",
            "Cosine mAP\n",
            "0.18571864659363127\n",
            "\n",
            "query cost always 45000\n"
          ],
          "name": "stdout"
        }
      ]
    },
    {
      "cell_type": "markdown",
      "metadata": {
        "id": "t9RyhZaI37rh"
      },
      "source": [
        "# LSH Finetuning"
      ]
    },
    {
      "cell_type": "code",
      "metadata": {
        "id": "DuFSxic9EtZA"
      },
      "source": [
        "def evaluate_lsh(index, train, train_generator, test, test_generator, distractor, distractor_generator):\n",
        "  index.insert(np.vstack((train, distractor)), \n",
        "                np.concatenate((train_generator.filenames, distractor_generator.filenames)), \n",
        "                np.concatenate((train_generator.labels, np.array([250] * distractor.shape[0]))))\n",
        "  print('Euclidean mAP')\n",
        "  print(mAP_with_ie(index, train, img_per_labels=train_images_per_class))\n",
        "  print('Cosine mAP')\n",
        "  print(mAP_with_ie(index, train, mode = 'similarity', img_per_labels=train_images_per_class))\n",
        "  print('')\n",
        "\n",
        "  print('mAP using test as query on train')\n",
        "\n",
        "  print('Euclidean mAP')\n",
        "  print(mAP_with_ie(index, test, img_per_labels=test_images_per_class, check_first_label=False, n_ground_truth=train_images_per_class))\n",
        "  print('Cosine mAP')\n",
        "  print(mAP_with_ie(index, test, mode = 'similarity', img_per_labels=test_images_per_class, check_first_label=False, n_ground_truth=train_images_per_class))"
      ],
      "execution_count": null,
      "outputs": []
    },
    {
      "cell_type": "markdown",
      "metadata": {
        "id": "RadqnPDG7j4A"
      },
      "source": [
        "## LSH BitWise = False"
      ]
    },
    {
      "cell_type": "markdown",
      "metadata": {
        "id": "7F4yFIaYERUe"
      },
      "source": [
        "### Test 1 - g = 3, h = 5"
      ]
    },
    {
      "cell_type": "code",
      "metadata": {
        "colab": {
          "base_uri": "https://localhost:8080/"
        },
        "id": "72dwa13m4Ci5",
        "outputId": "4b7fb5ed-4c2b-4a5a-b867-0e822bfb44f9"
      },
      "source": [
        "evaluate_lsh(\n",
        "  LSH(2048, g = 3, h = 5, w = 4, bitwise_hash = False),\n",
        "  sketches_features_train, \n",
        "  sketches_generator_train, \n",
        "  sketches_features_test, \n",
        "  sketches_generator_test, \n",
        "  mirflickr_features, \n",
        "  mirflickr_generator\n",
        ")"
      ],
      "execution_count": null,
      "outputs": [
        {
          "output_type": "stream",
          "text": [
            "Euclidean mAP\n",
            "{'mAP': 0.033346878554332514, 'ie': 2753.0064187374837}\n",
            "Cosine mAP\n",
            "{'mAP': 0.03565740640727756, 'ie': 2704.5203132245015}\n",
            "\n",
            "mAP using test as query on train\n",
            "Euclidean mAP\n",
            "{'mAP': 0.014448705677420837, 'ie': 3775.3113447310348}\n",
            "Cosine mAP\n",
            "{'mAP': 0.014971287329228498, 'ie': 4000.964065702717}\n"
          ],
          "name": "stdout"
        }
      ]
    },
    {
      "cell_type": "markdown",
      "metadata": {
        "id": "qArgsDfpK-Bk"
      },
      "source": [
        "### Test 2 - g = 3, h = 3"
      ]
    },
    {
      "cell_type": "code",
      "metadata": {
        "colab": {
          "base_uri": "https://localhost:8080/"
        },
        "id": "tPy90Xy2K5mH",
        "outputId": "2dc5c6f8-9295-44b0-cd3b-d613a8a4bc43"
      },
      "source": [
        "evaluate_lsh(\n",
        "  LSH(2048, g = 3, h = 3, w = 4, bitwise_hash = False),\n",
        "  sketches_features_train, \n",
        "  sketches_generator_train, \n",
        "  sketches_features_test, \n",
        "  sketches_generator_test, \n",
        "  mirflickr_features, \n",
        "  mirflickr_generator\n",
        ") # meglio passarlo così che elimina subito la ram occupata"
      ],
      "execution_count": null,
      "outputs": [
        {
          "output_type": "stream",
          "text": [
            "Euclidean mAP\n",
            "{'mAP': 0.08866491501258762, 'ie': 282.3312579106736}\n",
            "Cosine mAP\n",
            "{'mAP': 0.09001556085828957, 'ie': 302.3180885158709}\n",
            "\n",
            "mAP using test as query on train\n",
            "Euclidean mAP\n",
            "{'mAP': 0.06505553613569094, 'ie': 387.6267176154561}\n",
            "Cosine mAP\n",
            "{'mAP': 0.06639555759828986, 'ie': 269.2375273430253}\n"
          ],
          "name": "stdout"
        }
      ]
    },
    {
      "cell_type": "markdown",
      "metadata": {
        "id": "g208_Vj3L_U_"
      },
      "source": [
        "### Test 3 - g = 5, h = 2"
      ]
    },
    {
      "cell_type": "code",
      "metadata": {
        "colab": {
          "base_uri": "https://localhost:8080/"
        },
        "id": "P_YR6eEy7xDm",
        "outputId": "5a04cda5-7284-40cf-870c-8caf96a65d38"
      },
      "source": [
        "evaluate_lsh(\r\n",
        "  LSH(2048, g = 5, h = 2, w = 4, bitwise_hash = False),\r\n",
        "  sketches_features_train, \r\n",
        "  sketches_generator_train, \r\n",
        "  sketches_features_test, \r\n",
        "  sketches_generator_test, \r\n",
        "  mirflickr_features, \r\n",
        "  mirflickr_generator\r\n",
        ") # meglio passarlo così che elimina subito la ram occupata"
      ],
      "execution_count": null,
      "outputs": [
        {
          "output_type": "stream",
          "text": [
            "Euclidean mAP\n",
            "{'mAP': 0.22297371394744478, 'ie': 7.644244013878772}\n",
            "Cosine mAP\n",
            "{'mAP': 0.23996936825516268, 'ie': 9.160585240444693}\n",
            "\n",
            "mAP using test as query on train\n",
            "Euclidean mAP\n",
            "{'mAP': 0.1801783468594954, 'ie': 6.680432345452961}\n",
            "Cosine mAP\n",
            "{'mAP': 0.1975698210198003, 'ie': 9.316108045411216}\n"
          ],
          "name": "stdout"
        }
      ]
    },
    {
      "cell_type": "markdown",
      "metadata": {
        "id": "JHyqoQLXMH7s"
      },
      "source": [
        "### Test 4 - g = 8, h = 2"
      ]
    },
    {
      "cell_type": "code",
      "metadata": {
        "colab": {
          "base_uri": "https://localhost:8080/"
        },
        "id": "_xh9x4pn8n9w",
        "outputId": "49a12997-656f-40a6-de39-b3ba4a8cd925"
      },
      "source": [
        "evaluate_lsh(\r\n",
        "  LSH(2048, g = 8, h = 2, w = 4, bitwise_hash = False),\r\n",
        "  sketches_features_train, \r\n",
        "  sketches_generator_train, \r\n",
        "  sketches_features_test, \r\n",
        "  sketches_generator_test, \r\n",
        "  mirflickr_features, \r\n",
        "  mirflickr_generator\r\n",
        ") # meglio passarlo così che elimina subito la ram occupata"
      ],
      "execution_count": null,
      "outputs": [
        {
          "output_type": "stream",
          "text": [
            "Euclidean mAP\n",
            "{'mAP': 0.2946193514735761, 'ie': 4.132316559073223}\n",
            "Cosine mAP\n",
            "{'mAP': 0.2962872316555351, 'ie': 3.5115839909751436}\n",
            "\n",
            "mAP using test as query on train\n",
            "Euclidean mAP\n",
            "{'mAP': 0.24829437079734626, 'ie': 3.3804775269211995}\n",
            "Cosine mAP\n",
            "{'mAP': 0.28623508681160026, 'ie': 3.819802775411196}\n"
          ],
          "name": "stdout"
        }
      ]
    },
    {
      "cell_type": "markdown",
      "metadata": {
        "id": "cdP7IrryMK1F"
      },
      "source": [
        "### Test 5 - g = 4, h = 2"
      ]
    },
    {
      "cell_type": "code",
      "metadata": {
        "colab": {
          "base_uri": "https://localhost:8080/"
        },
        "id": "-Jbd00MTSajL",
        "outputId": "5545992b-335a-4287-cc85-50cb49634c2f"
      },
      "source": [
        "evaluate_lsh(\r\n",
        "  LSH(2048, g = 4, h = 2, w = 4, bitwise_hash = False),\r\n",
        "  sketches_features_train, \r\n",
        "  sketches_generator_train, \r\n",
        "  sketches_features_test, \r\n",
        "  sketches_generator_test, \r\n",
        "  mirflickr_features, \r\n",
        "  mirflickr_generator\r\n",
        ") # meglio passarlo così che elimina subito la ram occupata"
      ],
      "execution_count": null,
      "outputs": [
        {
          "output_type": "stream",
          "text": [
            "Euclidean mAP\n",
            "{'mAP': 0.20769879359863885, 'ie': 15.595131202189513}\n",
            "Cosine mAP\n",
            "{'mAP': 0.22525620682255051, 'ie': 8.34958613171565}\n",
            "\n",
            "mAP using test as query on train\n",
            "Euclidean mAP\n",
            "{'mAP': 0.16848850384572175, 'ie': 7.269454322158421}\n",
            "Cosine mAP\n",
            "{'mAP': 0.1711514087763372, 'ie': 7.816050744832702}\n"
          ],
          "name": "stdout"
        }
      ]
    },
    {
      "cell_type": "markdown",
      "metadata": {
        "id": "vir6fO6DMOzW"
      },
      "source": [
        "### Test 6 - g = 5, h = 1"
      ]
    },
    {
      "cell_type": "code",
      "metadata": {
        "colab": {
          "base_uri": "https://localhost:8080/"
        },
        "id": "u594JW0VXCJJ",
        "outputId": "060b1fee-f263-42ea-b5fa-c13ec76cf1f3"
      },
      "source": [
        "evaluate_lsh(\r\n",
        "  LSH(2048, g = 5, h = 1, w = 4, bitwise_hash = False),\r\n",
        "  sketches_features_train, \r\n",
        "  sketches_generator_train, \r\n",
        "  sketches_features_test, \r\n",
        "  sketches_generator_test, \r\n",
        "  mirflickr_features, \r\n",
        "  mirflickr_generator\r\n",
        ") # meglio passarlo così che elimina subito la ram occupata"
      ],
      "execution_count": null,
      "outputs": [
        {
          "output_type": "stream",
          "text": [
            "Euclidean mAP\n",
            "{'mAP': 0.3707804054005468, 'ie': 0.4374005942381987}\n",
            "Cosine mAP\n",
            "{'mAP': 0.4220271451214096, 'ie': 0.4433267613109037}\n",
            "\n",
            "mAP using test as query on train\n",
            "Euclidean mAP\n",
            "{'mAP': 0.309219318757023, 'ie': 0.4119930156338686}\n",
            "Cosine mAP\n",
            "{'mAP': 0.3807077876670305, 'ie': 0.38356122725634867}\n"
          ],
          "name": "stdout"
        }
      ]
    },
    {
      "cell_type": "markdown",
      "metadata": {
        "id": "8pdVZ1hVMRBX"
      },
      "source": [
        "### Test 7 - g = 5, h = 2"
      ]
    },
    {
      "cell_type": "code",
      "metadata": {
        "colab": {
          "base_uri": "https://localhost:8080/"
        },
        "id": "R0afLOXffbzg",
        "outputId": "d933010a-1423-489a-939b-209c258d46ee"
      },
      "source": [
        "evaluate_lsh(\r\n",
        "  LSH(2048, g = 5, h = 2, w = 4, bitwise_hash = False),\r\n",
        "  sketches_features_train, \r\n",
        "  sketches_generator_train, \r\n",
        "  sketches_features_test, \r\n",
        "  sketches_generator_test, \r\n",
        "  mirflickr_features, \r\n",
        "  mirflickr_generator\r\n",
        ") # meglio passarlo così che elimina subito la ram occupata"
      ],
      "execution_count": null,
      "outputs": [
        {
          "output_type": "stream",
          "text": [
            "Euclidean mAP\n",
            "{'mAP': 0.21666880107414974, 'ie': 4.6549899244315665}\n",
            "Cosine mAP\n",
            "{'mAP': 0.24959612076455243, 'ie': 38.64144028999621}\n",
            "\n",
            "mAP using test as query on train\n",
            "Euclidean mAP\n",
            "{'mAP': 0.21723403861928955, 'ie': 5.683951742789867}\n",
            "Cosine mAP\n",
            "{'mAP': 0.22852786484843948, 'ie': 4.340974961079275}\n"
          ],
          "name": "stdout"
        }
      ]
    },
    {
      "cell_type": "markdown",
      "metadata": {
        "id": "2t7tKIvEMSoN"
      },
      "source": [
        "### Test 8 - g = 7, h = 2"
      ]
    },
    {
      "cell_type": "code",
      "metadata": {
        "colab": {
          "base_uri": "https://localhost:8080/"
        },
        "id": "Gfoes7Tv2nJm",
        "outputId": "43d5ee3a-f89b-4a64-d9fb-c72992023141"
      },
      "source": [
        "evaluate_lsh(\r\n",
        "  LSH(2048, g = 7, h = 2, w = 4, bitwise_hash = False),\r\n",
        "  sketches_features_train, \r\n",
        "  sketches_generator_train, \r\n",
        "  sketches_features_test, \r\n",
        "  sketches_generator_test, \r\n",
        "  mirflickr_features, \r\n",
        "  mirflickr_generator\r\n",
        ") # meglio passarlo così che elimina subito la ram occupata"
      ],
      "execution_count": null,
      "outputs": [
        {
          "output_type": "stream",
          "text": [
            "Euclidean mAP\n",
            "{'mAP': 0.25933988934904945, 'ie': 7.252277631469861}\n",
            "Cosine mAP\n",
            "{'mAP': 0.29747764957327666, 'ie': 10.102374112431063}\n",
            "\n",
            "mAP using test as query on train\n",
            "Euclidean mAP\n",
            "{'mAP': 0.24274348926511324, 'ie': 3.5384874728011417}\n",
            "Cosine mAP\n",
            "{'mAP': 0.2477900264574565, 'ie': 5.068979564879656}\n"
          ],
          "name": "stdout"
        }
      ]
    },
    {
      "cell_type": "markdown",
      "metadata": {
        "id": "wtEjv5rZ7qJJ"
      },
      "source": [
        "## LSH BitWise = True"
      ]
    },
    {
      "cell_type": "markdown",
      "metadata": {
        "id": "_ZnWPPqLLNkz"
      },
      "source": [
        "### Test 1 - g = 3, h = 5"
      ]
    },
    {
      "cell_type": "code",
      "metadata": {
        "colab": {
          "base_uri": "https://localhost:8080/"
        },
        "id": "GB4Zm0NaLPj3",
        "outputId": "65d57f4f-d09d-4cf1-a7e4-142d5722e710"
      },
      "source": [
        "evaluate_lsh(\n",
        "  LSH(2048, g = 3, h = 5, w = 4, bitwise_hash = True),\n",
        "  sketches_features_train, \n",
        "  sketches_generator_train, \n",
        "  sketches_features_test, \n",
        "  sketches_generator_test, \n",
        "  mirflickr_features, \n",
        "  mirflickr_generator\n",
        ") # meglio passarlo così che elimina subito la ram occupata"
      ],
      "execution_count": null,
      "outputs": [
        {
          "output_type": "stream",
          "text": [
            "Euclidean mAP\n",
            "{'mAP': 0.33309311444516065, 'ie': 4.053016053293838}\n",
            "Cosine mAP\n",
            "{'mAP': 0.3976903716638469, 'ie': 4.178324701125581}\n",
            "\n",
            "mAP using test as query on train\n",
            "Euclidean mAP\n",
            "{'mAP': 0.1626955021721199, 'ie': 3.707340503175567}\n",
            "Cosine mAP\n",
            "{'mAP': 0.18228916377052617, 'ie': 3.994830574455172}\n"
          ],
          "name": "stdout"
        }
      ]
    },
    {
      "cell_type": "markdown",
      "metadata": {
        "id": "-MtyoNYO7TNb"
      },
      "source": [
        "### Test 2 - g = 3, h = 6"
      ]
    },
    {
      "cell_type": "code",
      "metadata": {
        "colab": {
          "base_uri": "https://localhost:8080/"
        },
        "id": "zc6r-I6y7Srx",
        "outputId": "9911f16b-deca-4b48-9ed3-17b502827097"
      },
      "source": [
        "evaluate_lsh(\r\n",
        "  LSH(2048, g = 3, h = 6, w = 4, bitwise_hash = True),\r\n",
        "  sketches_features_train, \r\n",
        "  sketches_generator_train, \r\n",
        "  sketches_features_test, \r\n",
        "  sketches_generator_test, \r\n",
        "  mirflickr_features, \r\n",
        "  mirflickr_generator\r\n",
        ") # meglio passarlo così che elimina subito la ram occupata"
      ],
      "execution_count": null,
      "outputs": [
        {
          "output_type": "stream",
          "text": [
            "Euclidean mAP\n",
            "{'mAP': 0.32148159485939165, 'ie': 9.251448899924094}\n",
            "Cosine mAP\n",
            "{'mAP': 0.3452556370669649, 'ie': 9.295563425766309}\n",
            "\n",
            "mAP using test as query on train\n",
            "Euclidean mAP\n",
            "{'mAP': 0.2975683258928303, 'ie': 8.559723965980773}\n",
            "Cosine mAP\n",
            "{'mAP': 0.30939495156403996, 'ie': 9.447083291855845}\n"
          ],
          "name": "stdout"
        }
      ]
    },
    {
      "cell_type": "markdown",
      "metadata": {
        "id": "8w_lOMSKNdpt"
      },
      "source": [
        "### Test 3 - g = 5, h = 2\r\n"
      ]
    },
    {
      "cell_type": "code",
      "metadata": {
        "colab": {
          "base_uri": "https://localhost:8080/"
        },
        "id": "d6NIZ4PrNab0",
        "outputId": "81011e4e-b488-4101-d375-e8e80b638c75"
      },
      "source": [
        "evaluate_lsh(\r\n",
        "  LSH(2048, g = 5, h = 2, w = 4, bitwise_hash = True),\r\n",
        "  sketches_features_train, \r\n",
        "  sketches_generator_train, \r\n",
        "  sketches_features_test, \r\n",
        "  sketches_generator_test, \r\n",
        "  mirflickr_features, \r\n",
        "  mirflickr_generator\r\n",
        ") # meglio passarlo così che elimina subito la ram occupata"
      ],
      "execution_count": null,
      "outputs": [
        {
          "output_type": "stream",
          "text": [
            "Euclidean mAP\n",
            "{'mAP': 0.3911384970436625, 'ie': 0.2514255391714975}\n",
            "Cosine mAP\n",
            "{'mAP': 0.4650808283723997, 'ie': 0.25739805436729146}\n",
            "\n",
            "mAP using test as query on train\n",
            "Euclidean mAP\n",
            "{'mAP': 0.3485418042453301, 'ie': 0.24203368229280825}\n",
            "Cosine mAP\n",
            "{'mAP': 0.41995840922665584, 'ie': 0.2564838051577386}\n"
          ],
          "name": "stdout"
        }
      ]
    },
    {
      "cell_type": "markdown",
      "metadata": {
        "id": "nq9yLMSnMx-k"
      },
      "source": [
        "### Test 4 - g = 5, h = 5"
      ]
    },
    {
      "cell_type": "code",
      "metadata": {
        "colab": {
          "base_uri": "https://localhost:8080/"
        },
        "id": "zORKwaRONdFw",
        "outputId": "5b77d5c4-4d96-47ff-92cb-d601306c268e"
      },
      "source": [
        "evaluate_lsh(\r\n",
        "  LSH(2048, g = 5, h = 5, w = 4, bitwise_hash = True),\r\n",
        "  sketches_features_train, \r\n",
        "  sketches_generator_train, \r\n",
        "  sketches_features_test, \r\n",
        "  sketches_generator_test, \r\n",
        "  mirflickr_features, \r\n",
        "  mirflickr_generator\r\n",
        ") # meglio passarlo così che elimina subito la ram occupata"
      ],
      "execution_count": null,
      "outputs": [
        {
          "output_type": "stream",
          "text": [
            "Euclidean mAP\n",
            "{'mAP': 0.402926760324066, 'ie': 2.5325466296550663}\n",
            "Cosine mAP\n",
            "{'mAP': 0.4303191721103078, 'ie': 2.5300422998755527}\n",
            "\n",
            "mAP using test as query on train\n",
            "Euclidean mAP\n",
            "{'mAP': 0.30984659557617583, 'ie': 2.617817805551897}\n",
            "Cosine mAP\n",
            "{'mAP': 0.3945218244205997, 'ie': 2.6405850023454334}\n"
          ],
          "name": "stdout"
        }
      ]
    },
    {
      "cell_type": "markdown",
      "metadata": {
        "id": "7zBG72_nM0Sa"
      },
      "source": [
        "### Test 5 - g = 4, h = 4"
      ]
    },
    {
      "cell_type": "code",
      "metadata": {
        "colab": {
          "base_uri": "https://localhost:8080/"
        },
        "id": "_N2vxZgwP0LD",
        "outputId": "8a0d112c-4a36-4b13-845f-a1cd7c337fde"
      },
      "source": [
        "evaluate_lsh(\r\n",
        "  LSH(2048, g = 4, h = 4, w = 4, bitwise_hash = True),\r\n",
        "  sketches_features_train, \r\n",
        "  sketches_generator_train, \r\n",
        "  sketches_features_test, \r\n",
        "  sketches_generator_test, \r\n",
        "  mirflickr_features, \r\n",
        "  mirflickr_generator\r\n",
        ") # meglio passarlo così che elimina subito la ram occupata"
      ],
      "execution_count": null,
      "outputs": [
        {
          "output_type": "stream",
          "text": [
            "Euclidean mAP\n",
            "{'mAP': 0.379875174638251, 'ie': 1.8256262371745438}\n",
            "Cosine mAP\n",
            "{'mAP': 0.46092027620329934, 'ie': 1.8770648730406085}\n",
            "\n",
            "mAP using test as query on train\n",
            "Euclidean mAP\n",
            "{'mAP': 0.3259360600474855, 'ie': 1.8430578825317898}\n",
            "Cosine mAP\n",
            "{'mAP': 0.41296741831976314, 'ie': 1.823323520180483}\n"
          ],
          "name": "stdout"
        }
      ]
    },
    {
      "cell_type": "markdown",
      "metadata": {
        "id": "J1cfJC8eM248"
      },
      "source": [
        "### Test 6 - g = 3, h = 1"
      ]
    },
    {
      "cell_type": "code",
      "metadata": {
        "colab": {
          "base_uri": "https://localhost:8080/"
        },
        "id": "4Gk16hPhM4ex",
        "outputId": "4f35fb77-9937-42b4-a284-43edd4777c77"
      },
      "source": [
        "evaluate_lsh(\r\n",
        "  LSH(2048, g = 3, h = 1, w = 4, bitwise_hash = True),\r\n",
        "  sketches_features_train, \r\n",
        "  sketches_generator_train, \r\n",
        "  sketches_features_test, \r\n",
        "  sketches_generator_test, \r\n",
        "  mirflickr_features, \r\n",
        "  mirflickr_generator\r\n",
        ") # meglio passarlo così che elimina subito la ram occupata"
      ],
      "execution_count": null,
      "outputs": [
        {
          "output_type": "stream",
          "text": [
            "Euclidean mAP\n",
            "{'mAP': 0.41422510059586404, 'ie': 0.24225390913153647}\n",
            "Cosine mAP\n",
            "{'mAP': 0.4665102802814581, 'ie': 0.24665013580778442}\n",
            "\n",
            "mAP using test as query on train\n",
            "Euclidean mAP\n",
            "{'mAP': 0.3527937596577726, 'ie': 0.23709095089860183}\n",
            "Cosine mAP\n",
            "{'mAP': 0.4295193047128391, 'ie': 0.25421377194091155}\n"
          ],
          "name": "stdout"
        }
      ]
    }
  ]
}